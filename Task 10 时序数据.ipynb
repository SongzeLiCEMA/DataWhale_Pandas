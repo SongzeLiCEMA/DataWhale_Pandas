{
 "cells": [
  {
   "cell_type": "markdown",
   "metadata": {},
   "source": [
    "# 时序数据"
   ]
  },
  {
   "cell_type": "code",
   "execution_count": 1,
   "metadata": {
    "ExecuteTime": {
     "end_time": "2021-01-10T07:46:21.950710Z",
     "start_time": "2021-01-10T07:46:21.280244Z"
    }
   },
   "outputs": [],
   "source": [
    "import numpy as np\n",
    "import pandas as pd"
   ]
  },
  {
   "cell_type": "markdown",
   "metadata": {},
   "source": [
    "## 时序中的基本对象"
   ]
  },
  {
   "cell_type": "markdown",
   "metadata": {},
   "source": [
    "|概念|单元素类型|数组类型|pandas数据类型|\n",
    "|:--:|:--------:|:------:|:------------:|\n",
    "|Date times 时间戳|Timestamp|DatetimeIndex|datetime64[ns]|\n",
    "|Time deltas 时间差|Timedelta|TimedeltaIndex|timedelta64[ns]|\n",
    "|Time spans 时间段|Period|PeriodIndex|period[freq]|\n",
    "|Date offsets 时间偏置|Dateoffset|None|None|"
   ]
  },
  {
   "cell_type": "markdown",
   "metadata": {},
   "source": [
    "## 时间戳"
   ]
  },
  {
   "cell_type": "markdown",
   "metadata": {},
   "source": [
    "### Timestamp的构造与属性"
   ]
  },
  {
   "cell_type": "markdown",
   "metadata": {},
   "source": [
    "利用`pd.Timestamp`来生成单个时间戳，常见的日期格式都能够被识别和转换。"
   ]
  },
  {
   "cell_type": "code",
   "execution_count": 2,
   "metadata": {
    "ExecuteTime": {
     "end_time": "2021-01-10T07:46:21.958689Z",
     "start_time": "2021-01-10T07:46:21.953703Z"
    }
   },
   "outputs": [],
   "source": [
    "ts = pd.Timestamp('2020-1-8')"
   ]
  },
  {
   "cell_type": "code",
   "execution_count": 3,
   "metadata": {
    "ExecuteTime": {
     "end_time": "2021-01-10T07:46:21.976646Z",
     "start_time": "2021-01-10T07:46:21.962678Z"
    }
   },
   "outputs": [
    {
     "data": {
      "text/plain": [
       "Timestamp('2020-01-08 00:00:00')"
      ]
     },
     "execution_count": 3,
     "metadata": {},
     "output_type": "execute_result"
    }
   ],
   "source": [
    "ts"
   ]
  },
  {
   "cell_type": "code",
   "execution_count": 4,
   "metadata": {
    "ExecuteTime": {
     "end_time": "2021-01-10T07:46:21.991617Z",
     "start_time": "2021-01-10T07:46:21.983627Z"
    }
   },
   "outputs": [],
   "source": [
    "ts = pd.Timestamp('2020/1/8 11:26')"
   ]
  },
  {
   "cell_type": "code",
   "execution_count": 5,
   "metadata": {
    "ExecuteTime": {
     "end_time": "2021-01-10T07:46:22.007561Z",
     "start_time": "2021-01-10T07:46:21.997586Z"
    }
   },
   "outputs": [
    {
     "data": {
      "text/plain": [
       "Timestamp('2020-01-08 11:26:00')"
      ]
     },
     "execution_count": 5,
     "metadata": {},
     "output_type": "execute_result"
    }
   ],
   "source": [
    "ts"
   ]
  },
  {
   "cell_type": "markdown",
   "metadata": {},
   "source": [
    "定义了时间戳之后，可以查看其属性：`year`, `month`, `day`, `hour`, `min`, `second`。"
   ]
  },
  {
   "cell_type": "code",
   "execution_count": 6,
   "metadata": {
    "ExecuteTime": {
     "end_time": "2021-01-10T07:46:22.022519Z",
     "start_time": "2021-01-10T07:46:22.010552Z"
    }
   },
   "outputs": [
    {
     "data": {
      "text/plain": [
       "[2020, 1, 8, 11, 26, 0]"
      ]
     },
     "execution_count": 6,
     "metadata": {},
     "output_type": "execute_result"
    }
   ],
   "source": [
    "[ts.year, ts.month, ts.day, ts.hour, ts.minute, ts.second]"
   ]
  },
  {
   "cell_type": "markdown",
   "metadata": {},
   "source": [
    "pandas以**纳秒**为单位记录时间。通过如下方式可以获取时间戳表示的范围："
   ]
  },
  {
   "cell_type": "code",
   "execution_count": 7,
   "metadata": {
    "ExecuteTime": {
     "end_time": "2021-01-10T07:46:22.034492Z",
     "start_time": "2021-01-10T07:46:22.026509Z"
    }
   },
   "outputs": [
    {
     "data": {
      "text/plain": [
       "Timestamp('2262-04-11 23:47:16.854775807')"
      ]
     },
     "execution_count": 7,
     "metadata": {},
     "output_type": "execute_result"
    }
   ],
   "source": [
    "pd.Timestamp.max"
   ]
  },
  {
   "cell_type": "code",
   "execution_count": 8,
   "metadata": {
    "ExecuteTime": {
     "end_time": "2021-01-10T07:46:22.047450Z",
     "start_time": "2021-01-10T07:46:22.040481Z"
    }
   },
   "outputs": [
    {
     "data": {
      "text/plain": [
       "Timestamp('1677-09-21 00:12:43.145225')"
      ]
     },
     "execution_count": 8,
     "metadata": {},
     "output_type": "execute_result"
    }
   ],
   "source": [
    "pd.Timestamp.min"
   ]
  },
  {
   "cell_type": "code",
   "execution_count": 9,
   "metadata": {
    "ExecuteTime": {
     "end_time": "2021-01-10T07:46:22.060416Z",
     "start_time": "2021-01-10T07:46:22.052439Z"
    }
   },
   "outputs": [
    {
     "data": {
      "text/plain": [
       "585"
      ]
     },
     "execution_count": 9,
     "metadata": {},
     "output_type": "execute_result"
    }
   ],
   "source": [
    "# 计算pandas可以表示的年数，注意要调用year属性\n",
    "pd.Timestamp.max.year - pd.Timestamp.min.year"
   ]
  },
  {
   "cell_type": "markdown",
   "metadata": {},
   "source": [
    "### Datetime序列的生成"
   ]
  },
  {
   "cell_type": "markdown",
   "metadata": {},
   "source": [
    "`pd.to_datetime`能够把一列时间戳格式的对象转换为时间序列："
   ]
  },
  {
   "cell_type": "code",
   "execution_count": 10,
   "metadata": {
    "ExecuteTime": {
     "end_time": "2021-01-10T07:46:22.075378Z",
     "start_time": "2021-01-10T07:46:22.063410Z"
    }
   },
   "outputs": [
    {
     "data": {
      "text/plain": [
       "DatetimeIndex(['2021-01-01', '2021-01-03', '2020-01-05'], dtype='datetime64[ns]', freq=None)"
      ]
     },
     "execution_count": 10,
     "metadata": {},
     "output_type": "execute_result"
    }
   ],
   "source": [
    "# 时间戳列表被转换为DatetimeIndex格式\n",
    "pd.to_datetime(['2021-1-1', '2021/1/3','2020.1.5'])"
   ]
  },
  {
   "cell_type": "code",
   "execution_count": 11,
   "metadata": {
    "ExecuteTime": {
     "end_time": "2021-01-10T07:46:22.093328Z",
     "start_time": "2021-01-10T07:46:22.079368Z"
    }
   },
   "outputs": [
    {
     "data": {
      "text/plain": [
       "0   2021-01-01\n",
       "1   2021-01-03\n",
       "2   2020-01-05\n",
       "dtype: datetime64[ns]"
      ]
     },
     "execution_count": 11,
     "metadata": {},
     "output_type": "execute_result"
    }
   ],
   "source": [
    "# 时间戳Series被转换为datetime64[ns]格式\n",
    "pd.to_datetime(pd.Series(['2021-1-1', '2021/1/3','2020.1.5']))"
   ]
  },
  {
   "cell_type": "markdown",
   "metadata": {},
   "source": [
    "同时，`pd.to_datetime`还能实现将多列时间属性**拼接**为时间序列的操作，需要注意的是此时列名必须与时间戳对应的属性名一致："
   ]
  },
  {
   "cell_type": "code",
   "execution_count": 12,
   "metadata": {
    "ExecuteTime": {
     "end_time": "2021-01-10T07:46:22.104305Z",
     "start_time": "2021-01-10T07:46:22.096321Z"
    }
   },
   "outputs": [],
   "source": [
    "df_date_cols = pd.DataFrame({'year': [2020, 2020],\n",
    "                             'month': [1, 1],\n",
    "                             'day': [1, 2],\n",
    "                             'hour': [10, 20],\n",
    "                             'minute': [30, 50],\n",
    "                             'second': [20, 40]})"
   ]
  },
  {
   "cell_type": "code",
   "execution_count": 13,
   "metadata": {
    "ExecuteTime": {
     "end_time": "2021-01-10T07:46:22.134227Z",
     "start_time": "2021-01-10T07:46:22.107291Z"
    }
   },
   "outputs": [
    {
     "data": {
      "text/plain": [
       "0   2020-01-01 10:30:20\n",
       "1   2020-01-02 20:50:40\n",
       "dtype: datetime64[ns]"
      ]
     },
     "execution_count": 13,
     "metadata": {},
     "output_type": "execute_result"
    }
   ],
   "source": [
    "pd.to_datetime(df_date_cols)"
   ]
  },
  {
   "cell_type": "markdown",
   "metadata": {},
   "source": [
    "此外，还可以利用`pd.date_range`来生成时间序列。该方法用于生成**连续间隔**时间，需要指定下列参数中的其中三个：开始时间`start`、结束时间`end`、时间间隔`freq`和`periods`时间戳个数。"
   ]
  },
  {
   "cell_type": "code",
   "execution_count": 14,
   "metadata": {
    "ExecuteTime": {
     "end_time": "2021-01-10T07:46:22.145190Z",
     "start_time": "2021-01-10T07:46:22.137212Z"
    }
   },
   "outputs": [
    {
     "data": {
      "text/plain": [
       "DatetimeIndex(['2020-01-01', '2020-01-11', '2020-01-21'], dtype='datetime64[ns]', freq='10D')"
      ]
     },
     "execution_count": 14,
     "metadata": {},
     "output_type": "execute_result"
    }
   ],
   "source": [
    "# 注意时间间隔的指定方式\n",
    "pd.date_range('2020-1-1','2020-1-21', freq='10D') "
   ]
  },
  {
   "cell_type": "code",
   "execution_count": 15,
   "metadata": {
    "ExecuteTime": {
     "end_time": "2021-01-10T07:46:22.158163Z",
     "start_time": "2021-01-10T07:46:22.148189Z"
    }
   },
   "outputs": [
    {
     "data": {
      "text/plain": [
       "DatetimeIndex(['2020-01-01 00:00:00', '2020-01-12 14:24:00',\n",
       "               '2020-01-24 04:48:00', '2020-02-04 19:12:00',\n",
       "               '2020-02-16 09:36:00', '2020-02-28 00:00:00'],\n",
       "              dtype='datetime64[ns]', freq=None)"
      ]
     },
     "execution_count": 15,
     "metadata": {},
     "output_type": "execute_result"
    }
   ],
   "source": [
    "pd.date_range('2020-1-1','2020-2-28', periods=6) "
   ]
  },
  {
   "cell_type": "markdown",
   "metadata": {},
   "source": [
    "#### 练一练1"
   ]
  },
  {
   "cell_type": "code",
   "execution_count": 16,
   "metadata": {
    "ExecuteTime": {
     "end_time": "2021-01-10T07:46:22.167133Z",
     "start_time": "2021-01-10T07:46:22.160152Z"
    }
   },
   "outputs": [
    {
     "data": {
      "text/plain": [
       "1578441600000000000"
      ]
     },
     "execution_count": 16,
     "metadata": {},
     "output_type": "execute_result"
    }
   ],
   "source": [
    "pd.Timestamp('2020-1-8').value"
   ]
  },
  {
   "cell_type": "markdown",
   "metadata": {
    "ExecuteTime": {
     "end_time": "2021-01-08T06:24:46.088887Z",
     "start_time": "2021-01-08T06:24:46.079956Z"
    }
   },
   "source": [
    "没有明确思路。"
   ]
  },
  {
   "cell_type": "markdown",
   "metadata": {},
   "source": [
    "### dt对象"
   ]
  },
  {
   "cell_type": "markdown",
   "metadata": {},
   "source": [
    "时序类型的序列上定义了`dt`对象来完成关于时间序列的操作。"
   ]
  },
  {
   "cell_type": "markdown",
   "metadata": {},
   "source": [
    "第一类操作是取出时序数据的相关**属性**："
   ]
  },
  {
   "cell_type": "code",
   "execution_count": 17,
   "metadata": {
    "ExecuteTime": {
     "end_time": "2021-01-10T07:46:22.178103Z",
     "start_time": "2021-01-10T07:46:22.172128Z"
    }
   },
   "outputs": [],
   "source": [
    "time = pd.Series(pd.to_datetime(['2019-4-4','2017-8-2','2021-2-2']))"
   ]
  },
  {
   "cell_type": "code",
   "execution_count": 18,
   "metadata": {
    "ExecuteTime": {
     "end_time": "2021-01-10T07:46:22.192064Z",
     "start_time": "2021-01-10T07:46:22.181095Z"
    }
   },
   "outputs": [
    {
     "data": {
      "text/plain": [
       "0       April\n",
       "1      August\n",
       "2    February\n",
       "dtype: object"
      ]
     },
     "execution_count": 18,
     "metadata": {},
     "output_type": "execute_result"
    }
   ],
   "source": [
    "# 求各元素所在月份(英文)\n",
    "time.dt.month_name()"
   ]
  },
  {
   "cell_type": "code",
   "execution_count": 19,
   "metadata": {
    "ExecuteTime": {
     "end_time": "2021-01-10T07:46:22.201040Z",
     "start_time": "2021-01-10T07:46:22.194059Z"
    }
   },
   "outputs": [
    {
     "data": {
      "text/plain": [
       "0    30\n",
       "1    31\n",
       "2    28\n",
       "dtype: int64"
      ]
     },
     "execution_count": 19,
     "metadata": {},
     "output_type": "execute_result"
    }
   ],
   "source": [
    "# 求各元素所在月份共有几天\n",
    "time.dt.daysinmonth"
   ]
  },
  {
   "cell_type": "code",
   "execution_count": 20,
   "metadata": {
    "ExecuteTime": {
     "end_time": "2021-01-10T07:46:22.210017Z",
     "start_time": "2021-01-10T07:46:22.204039Z"
    }
   },
   "outputs": [
    {
     "data": {
      "text/plain": [
       "0    3\n",
       "1    2\n",
       "2    1\n",
       "dtype: int64"
      ]
     },
     "execution_count": 20,
     "metadata": {},
     "output_type": "execute_result"
    }
   ],
   "source": [
    "# 求各元素对应时期是星期几\n",
    "time.dt.dayofweek\n",
    "# 注意：0表示星期一，以此类推"
   ]
  },
  {
   "cell_type": "code",
   "execution_count": 21,
   "metadata": {
    "ExecuteTime": {
     "end_time": "2021-01-10T07:46:22.218992Z",
     "start_time": "2021-01-10T07:46:22.212011Z"
    }
   },
   "outputs": [
    {
     "data": {
      "text/plain": [
       "0     Thursday\n",
       "1    Wednesday\n",
       "2      Tuesday\n",
       "dtype: object"
      ]
     },
     "execution_count": 21,
     "metadata": {},
     "output_type": "execute_result"
    }
   ],
   "source": [
    "# 求个元素对应日期是星期几（英文）\n",
    "time.dt.day_name()"
   ]
  },
  {
   "cell_type": "markdown",
   "metadata": {},
   "source": [
    "第二类操作是判断时间序列中的元素是否为**月/季/年的第一天或最后一天**，形如`is_year_start`和`is_year_end`。"
   ]
  },
  {
   "cell_type": "markdown",
   "metadata": {},
   "source": [
    "第三类操作为**取整操作**，包括`round`、`ceil`和`floor`。它们的公共参数为`freq`，常用的包括`H`（小时）、`min`（分钟）和`S`（秒）、"
   ]
  },
  {
   "cell_type": "code",
   "execution_count": 22,
   "metadata": {
    "ExecuteTime": {
     "end_time": "2021-01-10T07:46:22.226970Z",
     "start_time": "2021-01-10T07:46:22.221983Z"
    }
   },
   "outputs": [],
   "source": [
    "s = pd.Series(pd.date_range('2020-1-1 20:35:00','2020-1-1 22:35:00',freq='45min'))"
   ]
  },
  {
   "cell_type": "code",
   "execution_count": 23,
   "metadata": {
    "ExecuteTime": {
     "end_time": "2021-01-10T07:46:22.238942Z",
     "start_time": "2021-01-10T07:46:22.231957Z"
    }
   },
   "outputs": [
    {
     "data": {
      "text/plain": [
       "0   2020-01-01 20:35:00\n",
       "1   2020-01-01 21:20:00\n",
       "2   2020-01-01 22:05:00\n",
       "dtype: datetime64[ns]"
      ]
     },
     "execution_count": 23,
     "metadata": {},
     "output_type": "execute_result"
    }
   ],
   "source": [
    "s"
   ]
  },
  {
   "cell_type": "code",
   "execution_count": 24,
   "metadata": {
    "ExecuteTime": {
     "end_time": "2021-01-10T07:46:22.249910Z",
     "start_time": "2021-01-10T07:46:22.242929Z"
    }
   },
   "outputs": [
    {
     "data": {
      "text/plain": [
       "0   2020-01-01 21:00:00\n",
       "1   2020-01-01 21:00:00\n",
       "2   2020-01-01 22:00:00\n",
       "dtype: datetime64[ns]"
      ]
     },
     "execution_count": 24,
     "metadata": {},
     "output_type": "execute_result"
    }
   ],
   "source": [
    "# 参数中的数字n表示以“n小时”为单位取整\n",
    "s.dt.round('1H')"
   ]
  },
  {
   "cell_type": "code",
   "execution_count": 25,
   "metadata": {
    "ExecuteTime": {
     "end_time": "2021-01-10T07:46:22.263876Z",
     "start_time": "2021-01-10T07:46:22.252903Z"
    }
   },
   "outputs": [
    {
     "data": {
      "text/plain": [
       "0   2020-01-01 22:00:00\n",
       "1   2020-01-01 22:00:00\n",
       "2   2020-01-02 00:00:00\n",
       "dtype: datetime64[ns]"
      ]
     },
     "execution_count": 25,
     "metadata": {},
     "output_type": "execute_result"
    }
   ],
   "source": [
    "s.dt.ceil('2H')"
   ]
  },
  {
   "cell_type": "code",
   "execution_count": 26,
   "metadata": {
    "ExecuteTime": {
     "end_time": "2021-01-10T07:46:22.278832Z",
     "start_time": "2021-01-10T07:46:22.270862Z"
    }
   },
   "outputs": [
    {
     "data": {
      "text/plain": [
       "0   2020-01-01 18:00:00\n",
       "1   2020-01-01 21:00:00\n",
       "2   2020-01-01 21:00:00\n",
       "dtype: datetime64[ns]"
      ]
     },
     "execution_count": 26,
     "metadata": {},
     "output_type": "execute_result"
    }
   ],
   "source": [
    "s.dt.floor('3H')"
   ]
  },
  {
   "cell_type": "markdown",
   "metadata": {},
   "source": [
    "### 时间戳的切片与索引"
   ]
  },
  {
   "cell_type": "markdown",
   "metadata": {},
   "source": [
    "时间戳序列常被用作索引。若想取时间戳序列的某个子列，可以考虑利用`dt`对象和布尔条件。以下为一些实例："
   ]
  },
  {
   "cell_type": "code",
   "execution_count": 27,
   "metadata": {
    "ExecuteTime": {
     "end_time": "2021-01-10T07:46:22.287808Z",
     "start_time": "2021-01-10T07:46:22.280827Z"
    }
   },
   "outputs": [],
   "source": [
    "# 生成一个0-1随机序列，索引为2020年全年日期\n",
    "s = pd.Series(np.random.randint(2,size=366), index=pd.date_range('2020-1-1', '2020-12-31'))"
   ]
  },
  {
   "cell_type": "code",
   "execution_count": 28,
   "metadata": {
    "ExecuteTime": {
     "end_time": "2021-01-10T07:46:22.293792Z",
     "start_time": "2021-01-10T07:46:22.289802Z"
    }
   },
   "outputs": [],
   "source": [
    "# 取出索引序列的dt对象\n",
    "idx = pd.Series(s.index).dt"
   ]
  },
  {
   "cell_type": "code",
   "execution_count": 29,
   "metadata": {
    "ExecuteTime": {
     "end_time": "2021-01-10T07:46:22.303766Z",
     "start_time": "2021-01-10T07:46:22.295786Z"
    }
   },
   "outputs": [
    {
     "data": {
      "text/plain": [
       "2020-01-01    0\n",
       "2020-01-31    1\n",
       "2020-02-01    0\n",
       "2020-02-29    1\n",
       "2020-03-01    1\n",
       "dtype: int32"
      ]
     },
     "execution_count": 29,
     "metadata": {},
     "output_type": "execute_result"
    }
   ],
   "source": [
    "# 取出每个月的第一天或最后一天\n",
    "s[(idx.is_month_start|idx.is_month_end).values].head()"
   ]
  },
  {
   "cell_type": "code",
   "execution_count": 30,
   "metadata": {
    "ExecuteTime": {
     "end_time": "2021-01-10T07:46:22.314746Z",
     "start_time": "2021-01-10T07:46:22.305760Z"
    }
   },
   "outputs": [
    {
     "data": {
      "text/plain": [
       "2020-01-04    1\n",
       "2020-01-05    0\n",
       "2020-01-11    1\n",
       "2020-01-12    1\n",
       "2020-01-18    1\n",
       "dtype: int32"
      ]
     },
     "execution_count": 30,
     "metadata": {},
     "output_type": "execute_result"
    }
   ],
   "source": [
    "# 取出双休日\n",
    "s[idx.dayofweek.isin([5,6]).values].head()"
   ]
  },
  {
   "cell_type": "code",
   "execution_count": 31,
   "metadata": {
    "ExecuteTime": {
     "end_time": "2021-01-10T07:46:22.323712Z",
     "start_time": "2021-01-10T07:46:22.316731Z"
    }
   },
   "outputs": [
    {
     "data": {
      "text/plain": [
       "1"
      ]
     },
     "execution_count": 31,
     "metadata": {},
     "output_type": "execute_result"
    }
   ],
   "source": [
    "# 取出特定日期对应的取值\n",
    "s['2020-9-9']"
   ]
  },
  {
   "cell_type": "code",
   "execution_count": 32,
   "metadata": {
    "ExecuteTime": {
     "end_time": "2021-01-10T07:46:22.332688Z",
     "start_time": "2021-01-10T07:46:22.325708Z"
    }
   },
   "outputs": [
    {
     "data": {
      "text/plain": [
       "2020-06-01    1\n",
       "2020-06-02    0\n",
       "2020-06-03    1\n",
       "2020-06-04    0\n",
       "2020-06-05    0\n",
       "Freq: D, dtype: int32"
      ]
     },
     "execution_count": 32,
     "metadata": {},
     "output_type": "execute_result"
    }
   ],
   "source": [
    "# 取出6月份的所有样本\n",
    "s['2020-06'].head()"
   ]
  },
  {
   "cell_type": "markdown",
   "metadata": {},
   "source": [
    "对于**连续**的时间戳序列来说，还可以通过切片来截取。"
   ]
  },
  {
   "cell_type": "code",
   "execution_count": 33,
   "metadata": {
    "ExecuteTime": {
     "end_time": "2021-01-10T07:46:22.344656Z",
     "start_time": "2021-01-10T07:46:22.335682Z"
    }
   },
   "outputs": [
    {
     "data": {
      "text/plain": [
       "2020-08-01    1\n",
       "2020-08-02    1\n",
       "2020-08-03    0\n",
       "2020-08-04    0\n",
       "2020-08-05    1\n",
       "             ..\n",
       "2020-10-09    1\n",
       "2020-10-10    1\n",
       "2020-10-11    1\n",
       "2020-10-12    0\n",
       "2020-10-13    1\n",
       "Freq: D, Length: 74, dtype: int32"
      ]
     },
     "execution_count": 33,
     "metadata": {},
     "output_type": "execute_result"
    }
   ],
   "source": [
    "# 取出8月初到10月13日\n",
    "s['2020-08':'2020-10-13']"
   ]
  },
  {
   "cell_type": "markdown",
   "metadata": {},
   "source": [
    "## 时间差"
   ]
  },
  {
   "cell_type": "markdown",
   "metadata": {},
   "source": [
    "### Timedelta的生成"
   ]
  },
  {
   "cell_type": "markdown",
   "metadata": {},
   "source": [
    "可以通过`pd.Timedelta`来直接构造时间差。"
   ]
  },
  {
   "cell_type": "code",
   "execution_count": 34,
   "metadata": {
    "ExecuteTime": {
     "end_time": "2021-01-10T07:46:22.352635Z",
     "start_time": "2021-01-10T07:46:22.346651Z"
    }
   },
   "outputs": [
    {
     "data": {
      "text/plain": [
       "Timedelta('1 days 00:25:00')"
      ]
     },
     "execution_count": 34,
     "metadata": {},
     "output_type": "execute_result"
    }
   ],
   "source": [
    "pd.Timedelta(days=1, minutes=25) # 注意参数要加's'!"
   ]
  },
  {
   "cell_type": "markdown",
   "metadata": {},
   "source": [
    "可以通过`pd.to_timedelta`和`timedelta_range`来生成时间差序列。"
   ]
  },
  {
   "cell_type": "code",
   "execution_count": 35,
   "metadata": {
    "ExecuteTime": {
     "end_time": "2021-01-10T07:46:22.363606Z",
     "start_time": "2021-01-10T07:46:22.354629Z"
    }
   },
   "outputs": [
    {
     "data": {
      "text/plain": [
       "TimedeltaIndex(['0 days 00:00:00', '0 days 00:06:00', '0 days 00:12:00'], dtype='timedelta64[ns]', freq='6T')"
      ]
     },
     "execution_count": 35,
     "metadata": {},
     "output_type": "execute_result"
    }
   ],
   "source": [
    "pd.timedelta_range('0s', '1000s', freq='6min')"
   ]
  },
  {
   "cell_type": "markdown",
   "metadata": {},
   "source": [
    "`Timedelta`序列上也定义了`dt`对象，上面的主要属性有：`days`, `seconds`, `total_seconds`, `microseconds`和`nanoseconds`等。"
   ]
  },
  {
   "cell_type": "markdown",
   "metadata": {},
   "source": [
    "### Timedelta的运算"
   ]
  },
  {
   "cell_type": "code",
   "execution_count": 36,
   "metadata": {
    "ExecuteTime": {
     "end_time": "2021-01-10T07:46:22.370587Z",
     "start_time": "2021-01-10T07:46:22.365601Z"
    }
   },
   "outputs": [],
   "source": [
    "td1 = pd.Timedelta(days=1)\n",
    "td2 = pd.Timedelta(days=3)\n",
    "ts  = pd.Timestamp('20200101')"
   ]
  },
  {
   "cell_type": "code",
   "execution_count": 37,
   "metadata": {
    "ExecuteTime": {
     "end_time": "2021-01-10T07:46:22.377568Z",
     "start_time": "2021-01-10T07:46:22.372583Z"
    }
   },
   "outputs": [
    {
     "data": {
      "text/plain": [
       "Timedelta('2 days 00:00:00')"
      ]
     },
     "execution_count": 37,
     "metadata": {},
     "output_type": "execute_result"
    }
   ],
   "source": [
    "# 与标量相乘\n",
    "td1 * 2"
   ]
  },
  {
   "cell_type": "code",
   "execution_count": 38,
   "metadata": {
    "ExecuteTime": {
     "end_time": "2021-01-10T07:46:22.385547Z",
     "start_time": "2021-01-10T07:46:22.379562Z"
    }
   },
   "outputs": [
    {
     "data": {
      "text/plain": [
       "Timedelta('4 days 00:00:00')"
      ]
     },
     "execution_count": 38,
     "metadata": {},
     "output_type": "execute_result"
    }
   ],
   "source": [
    "# 与时间差加减\n",
    "td1 + td2"
   ]
  },
  {
   "cell_type": "code",
   "execution_count": 39,
   "metadata": {
    "ExecuteTime": {
     "end_time": "2021-01-10T07:46:22.392527Z",
     "start_time": "2021-01-10T07:46:22.387541Z"
    }
   },
   "outputs": [
    {
     "data": {
      "text/plain": [
       "Timestamp('2020-01-04 00:00:00')"
      ]
     },
     "execution_count": 39,
     "metadata": {},
     "output_type": "execute_result"
    }
   ],
   "source": [
    "# 与时间戳加减\n",
    "ts + td2"
   ]
  },
  {
   "cell_type": "markdown",
   "metadata": {},
   "source": [
    "上述对于单个元素的运算同样适用于序列。"
   ]
  },
  {
   "cell_type": "markdown",
   "metadata": {},
   "source": [
    "## 日期偏置"
   ]
  },
  {
   "cell_type": "markdown",
   "metadata": {},
   "source": [
    "### Offset对象"
   ]
  },
  {
   "cell_type": "markdown",
   "metadata": {},
   "source": [
    "日期偏置可以被视作一种特殊的**时间差**。"
   ]
  },
  {
   "cell_type": "code",
   "execution_count": 40,
   "metadata": {
    "ExecuteTime": {
     "end_time": "2021-01-10T07:46:22.399510Z",
     "start_time": "2021-01-10T07:46:22.394523Z"
    }
   },
   "outputs": [
    {
     "data": {
      "text/plain": [
       "Timestamp('2020-09-07 00:00:00')"
      ]
     },
     "execution_count": 40,
     "metadata": {},
     "output_type": "execute_result"
    }
   ],
   "source": [
    "# 求2020年9月第一个周一的日期\n",
    "pd.Timestamp('20200831')+pd.offsets.WeekOfMonth(week=0,weekday=0)"
   ]
  },
  {
   "cell_type": "markdown",
   "metadata": {},
   "source": [
    "在上述命令中，`WeekOfMonth(week=m, weekday=n)`表示每个月第$(m+1)$周的第$(n+1)$天。"
   ]
  },
  {
   "cell_type": "code",
   "execution_count": 41,
   "metadata": {
    "ExecuteTime": {
     "end_time": "2021-01-10T07:46:22.407488Z",
     "start_time": "2021-01-10T07:46:22.401504Z"
    }
   },
   "outputs": [
    {
     "data": {
      "text/plain": [
       "Timestamp('2020-10-19 00:00:00')"
      ]
     },
     "execution_count": 41,
     "metadata": {},
     "output_type": "execute_result"
    }
   ],
   "source": [
    "# 求2020年9月7日后的第30个工作日\n",
    "pd.Timestamp('20200907')+pd.offsets.BDay(30)"
   ]
  },
  {
   "cell_type": "markdown",
   "metadata": {},
   "source": [
    "在上述命令中，`BDay`即\"Business Day\"，表示工作日。与之相关的对象是`CDay`，指的是\"custom business day\"，即**自定义**工作日，其中参数`n`表示天数，`weekmask`指定了天数代表的星期（用三个字母缩写），`holidays`代表需要跳过的日期。"
   ]
  },
  {
   "cell_type": "markdown",
   "metadata": {},
   "source": [
    "通过如下示例可以较好地理解`CDay`的用法："
   ]
  },
  {
   "cell_type": "code",
   "execution_count": 42,
   "metadata": {
    "ExecuteTime": {
     "end_time": "2021-01-10T07:46:22.417461Z",
     "start_time": "2021-01-10T07:46:22.409482Z"
    }
   },
   "outputs": [
    {
     "data": {
      "text/plain": [
       "2020-01-08    2\n",
       "2020-01-09    3\n",
       "2020-01-10    4\n",
       "2020-01-11    5\n",
       "2020-01-12    6\n",
       "2020-01-13    0\n",
       "2020-01-14    1\n",
       "2020-01-15    2\n",
       "2020-01-16    3\n",
       "Freq: D, dtype: int64"
      ]
     },
     "execution_count": 42,
     "metadata": {},
     "output_type": "execute_result"
    }
   ],
   "source": [
    "dr = pd.date_range('20200108', '20200116')\n",
    "dr.to_series().dt.dayofweek"
   ]
  },
  {
   "cell_type": "code",
   "execution_count": 43,
   "metadata": {
    "ExecuteTime": {
     "end_time": "2021-01-10T07:46:22.428433Z",
     "start_time": "2021-01-10T07:46:22.420455Z"
    }
   },
   "outputs": [
    {
     "data": {
      "text/plain": [
       "[Timestamp('2020-01-08 00:00:00', freq='D'),\n",
       " Timestamp('2020-01-09 00:00:00', freq='D'),\n",
       " Timestamp('2020-01-10 00:00:00', freq='D'),\n",
       " Timestamp('2020-01-11 00:00:00', freq='D'),\n",
       " Timestamp('2020-01-12 00:00:00', freq='D'),\n",
       " Timestamp('2020-01-13 00:00:00', freq='D'),\n",
       " Timestamp('2020-01-14 00:00:00', freq='D'),\n",
       " Timestamp('2020-01-15 00:00:00', freq='D'),\n",
       " Timestamp('2020-01-16 00:00:00', freq='D')]"
      ]
     },
     "execution_count": 43,
     "metadata": {},
     "output_type": "execute_result"
    }
   ],
   "source": [
    "dr.to_list()"
   ]
  },
  {
   "cell_type": "code",
   "execution_count": 44,
   "metadata": {
    "ExecuteTime": {
     "end_time": "2021-01-10T07:46:22.439402Z",
     "start_time": "2021-01-10T07:46:22.433422Z"
    }
   },
   "outputs": [],
   "source": [
    "# 定义日期偏置对象，移至当前日期的下一个星期三或星期五，但是排除2020年1月9日\n",
    "my_filter = pd.offsets.CDay(n=1, weekmask='Thu Fri',holidays=['2020-01-09'])"
   ]
  },
  {
   "cell_type": "code",
   "execution_count": 45,
   "metadata": {
    "ExecuteTime": {
     "end_time": "2021-01-10T07:46:22.447382Z",
     "start_time": "2021-01-10T07:46:22.441397Z"
    },
    "scrolled": true
   },
   "outputs": [
    {
     "data": {
      "text/plain": [
       "[Timestamp('2020-01-10 00:00:00'),\n",
       " Timestamp('2020-01-10 00:00:00'),\n",
       " Timestamp('2020-01-16 00:00:00'),\n",
       " Timestamp('2020-01-16 00:00:00'),\n",
       " Timestamp('2020-01-16 00:00:00'),\n",
       " Timestamp('2020-01-16 00:00:00'),\n",
       " Timestamp('2020-01-16 00:00:00'),\n",
       " Timestamp('2020-01-16 00:00:00'),\n",
       " Timestamp('2020-01-17 00:00:00')]"
      ]
     },
     "execution_count": 45,
     "metadata": {},
     "output_type": "execute_result"
    }
   ],
   "source": [
    "[i + my_filter for i in dr]"
   ]
  },
  {
   "cell_type": "markdown",
   "metadata": {},
   "source": [
    "### 偏置字符串"
   ]
  },
  {
   "cell_type": "markdown",
   "metadata": {},
   "source": [
    "`pd.date_range`的`freq`参数取值可以为`Offset`对象，而后者有可以用对应的**字符串来替代**使用。仔细体会如下示例："
   ]
  },
  {
   "cell_type": "code",
   "execution_count": 46,
   "metadata": {
    "ExecuteTime": {
     "end_time": "2021-01-10T07:46:22.456358Z",
     "start_time": "2021-01-10T07:46:22.449376Z"
    }
   },
   "outputs": [
    {
     "data": {
      "text/plain": [
       "DatetimeIndex(['2020-01-01', '2020-02-01', '2020-03-01'], dtype='datetime64[ns]', freq='MS')"
      ]
     },
     "execution_count": 46,
     "metadata": {},
     "output_type": "execute_result"
    }
   ],
   "source": [
    "pd.date_range('20200101','20200331', freq='MS') # 月初"
   ]
  },
  {
   "cell_type": "code",
   "execution_count": 47,
   "metadata": {
    "ExecuteTime": {
     "end_time": "2021-01-10T07:46:22.464337Z",
     "start_time": "2021-01-10T07:46:22.458352Z"
    }
   },
   "outputs": [
    {
     "data": {
      "text/plain": [
       "DatetimeIndex(['2020-01-31', '2020-02-29', '2020-03-31'], dtype='datetime64[ns]', freq='M')"
      ]
     },
     "execution_count": 47,
     "metadata": {},
     "output_type": "execute_result"
    }
   ],
   "source": [
    "pd.date_range('20200101','20200331', freq='M') # 月末"
   ]
  },
  {
   "cell_type": "code",
   "execution_count": 48,
   "metadata": {
    "ExecuteTime": {
     "end_time": "2021-01-10T07:46:22.474308Z",
     "start_time": "2021-01-10T07:46:22.466331Z"
    }
   },
   "outputs": [
    {
     "data": {
      "text/plain": [
       "DatetimeIndex(['2020-01-01', '2020-01-02', '2020-01-03', '2020-01-06',\n",
       "               '2020-01-07', '2020-01-08', '2020-01-09', '2020-01-10'],\n",
       "              dtype='datetime64[ns]', freq='B')"
      ]
     },
     "execution_count": 48,
     "metadata": {},
     "output_type": "execute_result"
    }
   ],
   "source": [
    "pd.date_range('20200101','20200110', freq='B') # 工作日"
   ]
  },
  {
   "cell_type": "code",
   "execution_count": 49,
   "metadata": {
    "ExecuteTime": {
     "end_time": "2021-01-10T07:46:22.483285Z",
     "start_time": "2021-01-10T07:46:22.476320Z"
    }
   },
   "outputs": [
    {
     "data": {
      "text/plain": [
       "DatetimeIndex(['2020-01-06', '2020-01-13', '2020-01-20', '2020-01-27',\n",
       "               '2020-02-03'],\n",
       "              dtype='datetime64[ns]', freq='W-MON')"
      ]
     },
     "execution_count": 49,
     "metadata": {},
     "output_type": "execute_result"
    }
   ],
   "source": [
    "pd.date_range('20200101','20200208', freq='W-MON') # 周一"
   ]
  },
  {
   "cell_type": "code",
   "execution_count": 50,
   "metadata": {
    "ExecuteTime": {
     "end_time": "2021-01-10T07:46:22.494257Z",
     "start_time": "2021-01-10T07:46:22.486278Z"
    }
   },
   "outputs": [
    {
     "data": {
      "text/plain": [
       "DatetimeIndex(['2020-01-06', '2020-02-03'], dtype='datetime64[ns]', freq='WOM-1MON')"
      ]
     },
     "execution_count": 50,
     "metadata": {},
     "output_type": "execute_result"
    }
   ],
   "source": [
    "pd.date_range('20200101','20200208',freq='WOM-1MON') # 每月第一个周一"
   ]
  },
  {
   "cell_type": "markdown",
   "metadata": {},
   "source": [
    "## 时序中的滑窗与分组"
   ]
  },
  {
   "cell_type": "markdown",
   "metadata": {},
   "source": [
    "### 滑动窗口"
   ]
  },
  {
   "cell_type": "markdown",
   "metadata": {},
   "source": [
    "`rolling`对象的参数可以为`freq`关键词，以下为示例："
   ]
  },
  {
   "cell_type": "code",
   "execution_count": 51,
   "metadata": {
    "ExecuteTime": {
     "end_time": "2021-01-10T07:46:22.815396Z",
     "start_time": "2021-01-10T07:46:22.496251Z"
    }
   },
   "outputs": [],
   "source": [
    "import matplotlib.pyplot as plt"
   ]
  },
  {
   "cell_type": "code",
   "execution_count": 52,
   "metadata": {
    "ExecuteTime": {
     "end_time": "2021-01-10T07:46:22.828363Z",
     "start_time": "2021-01-10T07:46:22.819387Z"
    }
   },
   "outputs": [],
   "source": [
    "# 取2020年的工作日\n",
    "idx = pd.date_range('20200101', '20201231', freq='B')"
   ]
  },
  {
   "cell_type": "code",
   "execution_count": 53,
   "metadata": {
    "ExecuteTime": {
     "end_time": "2021-01-10T07:46:22.843322Z",
     "start_time": "2021-01-10T07:46:22.832352Z"
    }
   },
   "outputs": [],
   "source": [
    "np.random.seed(2020)\n",
    "data = np.random.randint(-1,2,len(idx)).cumsum() # 随机游动构造模拟序列\n",
    "s = pd.Series(data,index=idx)"
   ]
  },
  {
   "cell_type": "code",
   "execution_count": 54,
   "metadata": {
    "ExecuteTime": {
     "end_time": "2021-01-10T07:46:22.850308Z",
     "start_time": "2021-01-10T07:46:22.845316Z"
    }
   },
   "outputs": [],
   "source": [
    "# 构造滑窗对象，注意参数为frequency string\n",
    "r = s.rolling('30D')"
   ]
  },
  {
   "cell_type": "code",
   "execution_count": 55,
   "metadata": {
    "ExecuteTime": {
     "end_time": "2021-01-10T07:46:23.091662Z",
     "start_time": "2021-01-10T07:46:22.854296Z"
    }
   },
   "outputs": [
    {
     "data": {
      "text/plain": [
       "[<matplotlib.lines.Line2D at 0x18fa4925988>]"
      ]
     },
     "execution_count": 55,
     "metadata": {},
     "output_type": "execute_result"
    },
    {
     "data": {
      "image/png": "[encoded data removed]",
      "text/plain": [
       "<Figure size 432x288 with 1 Axes>"
      ]
     },
     "metadata": {
      "needs_background": "light"
     },
     "output_type": "display_data"
    }
   ],
   "source": [
    "plt.title('BOLL LINES')\n",
    "plt.plot(s)\n",
    "plt.plot(r.mean())\n",
    "plt.plot(r.mean()+r.std()*2)\n",
    "plt.plot(r.mean()-r.std()*2)"
   ]
  },
  {
   "cell_type": "markdown",
   "metadata": {},
   "source": [
    "类似地，如果`shift`函数作用在了以`datetime64`为索引的序列上，也可以指定`freq`单位实现**日期索引**的滑动："
   ]
  },
  {
   "cell_type": "code",
   "execution_count": 56,
   "metadata": {
    "ExecuteTime": {
     "end_time": "2021-01-10T07:46:23.104626Z",
     "start_time": "2021-01-10T07:46:23.095649Z"
    }
   },
   "outputs": [
    {
     "data": {
      "text/plain": [
       "2020-01-15   -1\n",
       "2020-01-16   -2\n",
       "2020-01-17   -1\n",
       "2020-01-20   -1\n",
       "2020-01-21   -2\n",
       "dtype: int32"
      ]
     },
     "execution_count": 56,
     "metadata": {},
     "output_type": "execute_result"
    }
   ],
   "source": [
    "s.shift(freq='10B').head()"
   ]
  },
  {
   "cell_type": "code",
   "execution_count": 57,
   "metadata": {
    "ExecuteTime": {
     "end_time": "2021-01-10T07:46:23.115117Z",
     "start_time": "2021-01-10T07:46:23.107135Z"
    }
   },
   "outputs": [
    {
     "data": {
      "text/plain": [
       "2020-01-01   -1\n",
       "2020-01-02   -2\n",
       "2020-01-03   -1\n",
       "2020-01-06   -1\n",
       "2020-01-07   -2\n",
       "Freq: B, dtype: int32"
      ]
     },
     "execution_count": 57,
     "metadata": {},
     "output_type": "execute_result"
    }
   ],
   "source": [
    "s.head()"
   ]
  },
  {
   "cell_type": "markdown",
   "metadata": {},
   "source": [
    "### 重采样"
   ]
  },
  {
   "cell_type": "markdown",
   "metadata": {},
   "source": [
    "重采样`resample`对象可以被视为对时间序列进行**分组**得到的对象。"
   ]
  },
  {
   "cell_type": "code",
   "execution_count": 58,
   "metadata": {
    "ExecuteTime": {
     "end_time": "2021-01-10T07:46:23.133066Z",
     "start_time": "2021-01-10T07:46:23.119104Z"
    }
   },
   "outputs": [
    {
     "data": {
      "text/plain": [
       "2020-01-01   -2.000000\n",
       "2020-01-11   -3.166667\n",
       "2020-01-21   -3.625000\n",
       "2020-01-31   -4.000000\n",
       "2020-02-10   -0.375000\n",
       "Freq: 10D, dtype: float64"
      ]
     },
     "execution_count": 58,
     "metadata": {},
     "output_type": "execute_result"
    }
   ],
   "source": [
    "# 以10天为一组，求均值\n",
    "s.resample('10D').mean().head()"
   ]
  },
  {
   "cell_type": "code",
   "execution_count": 59,
   "metadata": {
    "ExecuteTime": {
     "end_time": "2021-01-10T07:46:23.150046Z",
     "start_time": "2021-01-10T07:46:23.136058Z"
    }
   },
   "outputs": [
    {
     "data": {
      "text/plain": [
       "2020-01-01    3\n",
       "2020-01-11    4\n",
       "2020-01-21    4\n",
       "2020-01-31    2\n",
       "2020-02-10    4\n",
       "Freq: 10D, dtype: int32"
      ]
     },
     "execution_count": 59,
     "metadata": {},
     "output_type": "execute_result"
    }
   ],
   "source": [
    "# 可以自定义处理函数\n",
    "s.resample('10D').apply(lambda x:x.max()-x.min()).head()"
   ]
  },
  {
   "cell_type": "markdown",
   "metadata": {},
   "source": [
    "## 练习"
   ]
  },
  {
   "cell_type": "markdown",
   "metadata": {},
   "source": [
    "### Ex1: 太阳辐射数据集"
   ]
  },
  {
   "cell_type": "code",
   "execution_count": 60,
   "metadata": {
    "ExecuteTime": {
     "end_time": "2021-01-10T07:46:23.210857Z",
     "start_time": "2021-01-10T07:46:23.154018Z"
    }
   },
   "outputs": [],
   "source": [
    "df = pd.read_csv('data/solar.csv', usecols=['Data','Time','Radiation','Temperature'])"
   ]
  },
  {
   "cell_type": "code",
   "execution_count": 61,
   "metadata": {
    "ExecuteTime": {
     "end_time": "2021-01-10T07:46:23.225827Z",
     "start_time": "2021-01-10T07:46:23.212852Z"
    }
   },
   "outputs": [
    {
     "data": {
      "text/html": [
       "<div>\n",
       "<style scoped>\n",
       "    .dataframe tbody tr th:only-of-type {\n",
       "        vertical-align: middle;\n",
       "    }\n",
       "\n",
       "    .dataframe tbody tr th {\n",
       "        vertical-align: top;\n",
       "    }\n",
       "\n",
       "    .dataframe thead th {\n",
       "        text-align: right;\n",
       "    }\n",
       "</style>\n",
       "<table border=\"1\" class=\"dataframe\">\n",
       "  <thead>\n",
       "    <tr style=\"text-align: right;\">\n",
       "      <th></th>\n",
       "      <th>Data</th>\n",
       "      <th>Time</th>\n",
       "      <th>Radiation</th>\n",
       "      <th>Temperature</th>\n",
       "    </tr>\n",
       "  </thead>\n",
       "  <tbody>\n",
       "    <tr>\n",
       "      <th>0</th>\n",
       "      <td>9/29/2016 12:00:00 AM</td>\n",
       "      <td>23:55:26</td>\n",
       "      <td>1.21</td>\n",
       "      <td>48</td>\n",
       "    </tr>\n",
       "    <tr>\n",
       "      <th>1</th>\n",
       "      <td>9/29/2016 12:00:00 AM</td>\n",
       "      <td>23:50:23</td>\n",
       "      <td>1.21</td>\n",
       "      <td>48</td>\n",
       "    </tr>\n",
       "    <tr>\n",
       "      <th>2</th>\n",
       "      <td>9/29/2016 12:00:00 AM</td>\n",
       "      <td>23:45:26</td>\n",
       "      <td>1.23</td>\n",
       "      <td>48</td>\n",
       "    </tr>\n",
       "    <tr>\n",
       "      <th>3</th>\n",
       "      <td>9/29/2016 12:00:00 AM</td>\n",
       "      <td>23:40:21</td>\n",
       "      <td>1.21</td>\n",
       "      <td>48</td>\n",
       "    </tr>\n",
       "    <tr>\n",
       "      <th>4</th>\n",
       "      <td>9/29/2016 12:00:00 AM</td>\n",
       "      <td>23:35:24</td>\n",
       "      <td>1.17</td>\n",
       "      <td>48</td>\n",
       "    </tr>\n",
       "  </tbody>\n",
       "</table>\n",
       "</div>"
      ],
      "text/plain": [
       "                    Data      Time  Radiation  Temperature\n",
       "0  9/29/2016 12:00:00 AM  23:55:26       1.21           48\n",
       "1  9/29/2016 12:00:00 AM  23:50:23       1.21           48\n",
       "2  9/29/2016 12:00:00 AM  23:45:26       1.23           48\n",
       "3  9/29/2016 12:00:00 AM  23:40:21       1.21           48\n",
       "4  9/29/2016 12:00:00 AM  23:35:24       1.17           48"
      ]
     },
     "execution_count": 61,
     "metadata": {},
     "output_type": "execute_result"
    }
   ],
   "source": [
    "df.head()"
   ]
  },
  {
   "cell_type": "markdown",
   "metadata": {},
   "source": [
    "**第1问**"
   ]
  },
  {
   "cell_type": "code",
   "execution_count": 62,
   "metadata": {
    "ExecuteTime": {
     "end_time": "2021-01-10T07:46:23.234795Z",
     "start_time": "2021-01-10T07:46:23.227813Z"
    }
   },
   "outputs": [
    {
     "data": {
      "text/plain": [
       "Data            object\n",
       "Time            object\n",
       "Radiation      float64\n",
       "Temperature      int64\n",
       "dtype: object"
      ]
     },
     "execution_count": 62,
     "metadata": {},
     "output_type": "execute_result"
    }
   ],
   "source": [
    "df.dtypes"
   ]
  },
  {
   "cell_type": "code",
   "execution_count": 63,
   "metadata": {
    "ExecuteTime": {
     "end_time": "2021-01-10T07:46:27.575996Z",
     "start_time": "2021-01-10T07:46:23.237787Z"
    }
   },
   "outputs": [],
   "source": [
    "Datetime = pd.to_datetime(df.Data + df.Time)"
   ]
  },
  {
   "cell_type": "code",
   "execution_count": 64,
   "metadata": {
    "ExecuteTime": {
     "end_time": "2021-01-10T07:46:27.580778Z",
     "start_time": "2021-01-10T07:46:27.577774Z"
    }
   },
   "outputs": [],
   "source": [
    "Datetime.name = 'Datetime'"
   ]
  },
  {
   "cell_type": "code",
   "execution_count": 65,
   "metadata": {
    "ExecuteTime": {
     "end_time": "2021-01-10T07:46:27.594729Z",
     "start_time": "2021-01-10T07:46:27.582758Z"
    }
   },
   "outputs": [],
   "source": [
    "df = pd.concat([Datetime.to_frame(),df.iloc[:,2:]],1)"
   ]
  },
  {
   "cell_type": "code",
   "execution_count": 66,
   "metadata": {
    "ExecuteTime": {
     "end_time": "2021-01-10T07:46:27.606696Z",
     "start_time": "2021-01-10T07:46:27.596723Z"
    }
   },
   "outputs": [],
   "source": [
    "df = df.set_index('Datetime').sort_index()"
   ]
  },
  {
   "cell_type": "code",
   "execution_count": 67,
   "metadata": {
    "ExecuteTime": {
     "end_time": "2021-01-10T07:46:27.619660Z",
     "start_time": "2021-01-10T07:46:27.608690Z"
    }
   },
   "outputs": [
    {
     "data": {
      "text/html": [
       "<div>\n",
       "<style scoped>\n",
       "    .dataframe tbody tr th:only-of-type {\n",
       "        vertical-align: middle;\n",
       "    }\n",
       "\n",
       "    .dataframe tbody tr th {\n",
       "        vertical-align: top;\n",
       "    }\n",
       "\n",
       "    .dataframe thead th {\n",
       "        text-align: right;\n",
       "    }\n",
       "</style>\n",
       "<table border=\"1\" class=\"dataframe\">\n",
       "  <thead>\n",
       "    <tr style=\"text-align: right;\">\n",
       "      <th></th>\n",
       "      <th>Radiation</th>\n",
       "      <th>Temperature</th>\n",
       "    </tr>\n",
       "    <tr>\n",
       "      <th>Datetime</th>\n",
       "      <th></th>\n",
       "      <th></th>\n",
       "    </tr>\n",
       "  </thead>\n",
       "  <tbody>\n",
       "    <tr>\n",
       "      <th>2016-09-01 00:00:08</th>\n",
       "      <td>2.58</td>\n",
       "      <td>51</td>\n",
       "    </tr>\n",
       "    <tr>\n",
       "      <th>2016-09-01 00:05:10</th>\n",
       "      <td>2.83</td>\n",
       "      <td>51</td>\n",
       "    </tr>\n",
       "    <tr>\n",
       "      <th>2016-09-01 00:20:06</th>\n",
       "      <td>2.16</td>\n",
       "      <td>51</td>\n",
       "    </tr>\n",
       "    <tr>\n",
       "      <th>2016-09-01 00:25:05</th>\n",
       "      <td>2.21</td>\n",
       "      <td>51</td>\n",
       "    </tr>\n",
       "    <tr>\n",
       "      <th>2016-09-01 00:30:09</th>\n",
       "      <td>2.25</td>\n",
       "      <td>51</td>\n",
       "    </tr>\n",
       "  </tbody>\n",
       "</table>\n",
       "</div>"
      ],
      "text/plain": [
       "                     Radiation  Temperature\n",
       "Datetime                                   \n",
       "2016-09-01 00:00:08       2.58           51\n",
       "2016-09-01 00:05:10       2.83           51\n",
       "2016-09-01 00:20:06       2.16           51\n",
       "2016-09-01 00:25:05       2.21           51\n",
       "2016-09-01 00:30:09       2.25           51"
      ]
     },
     "execution_count": 67,
     "metadata": {},
     "output_type": "execute_result"
    }
   ],
   "source": [
    "df.head()"
   ]
  },
  {
   "cell_type": "markdown",
   "metadata": {},
   "source": [
    "**第2问**"
   ]
  },
  {
   "cell_type": "code",
   "execution_count": 68,
   "metadata": {
    "ExecuteTime": {
     "end_time": "2021-01-10T07:46:27.635617Z",
     "start_time": "2021-01-10T07:46:27.630632Z"
    }
   },
   "outputs": [],
   "source": [
    "times = pd.Series(df.index)"
   ]
  },
  {
   "cell_type": "code",
   "execution_count": 69,
   "metadata": {
    "ExecuteTime": {
     "end_time": "2021-01-10T07:46:27.648583Z",
     "start_time": "2021-01-10T07:46:27.641602Z"
    }
   },
   "outputs": [
    {
     "data": {
      "text/plain": [
       "0   2016-09-01 00:00:08\n",
       "1   2016-09-01 00:05:10\n",
       "2   2016-09-01 00:20:06\n",
       "3   2016-09-01 00:25:05\n",
       "4   2016-09-01 00:30:09\n",
       "Name: Datetime, dtype: datetime64[ns]"
      ]
     },
     "execution_count": 69,
     "metadata": {},
     "output_type": "execute_result"
    }
   ],
   "source": [
    "times.head()"
   ]
  },
  {
   "cell_type": "markdown",
   "metadata": {},
   "source": [
    "**a部分**"
   ]
  },
  {
   "cell_type": "code",
   "execution_count": 70,
   "metadata": {
    "ExecuteTime": {
     "end_time": "2021-01-10T07:46:27.663544Z",
     "start_time": "2021-01-10T07:46:27.650580Z"
    }
   },
   "outputs": [
    {
     "data": {
      "text/plain": [
       "25923   2 days 14:24:49\n",
       "24522   1 days 04:55:00\n",
       "7417    1 days 00:04:53\n",
       "Name: Datetime, dtype: timedelta64[ns]"
      ]
     },
     "execution_count": 70,
     "metadata": {},
     "output_type": "execute_result"
    }
   ],
   "source": [
    "times.diff(1).sort_values(ascending=False).head(3)"
   ]
  },
  {
   "cell_type": "code",
   "execution_count": 71,
   "metadata": {
    "ExecuteTime": {
     "end_time": "2021-01-10T07:46:27.673515Z",
     "start_time": "2021-01-10T07:46:27.665548Z"
    }
   },
   "outputs": [],
   "source": [
    "idx = times.diff(1).sort_values(ascending=False).head(3).index.to_list()"
   ]
  },
  {
   "cell_type": "code",
   "execution_count": 72,
   "metadata": {
    "ExecuteTime": {
     "end_time": "2021-01-10T07:46:27.685485Z",
     "start_time": "2021-01-10T07:46:27.674515Z"
    }
   },
   "outputs": [
    {
     "name": "stdout",
     "output_type": "stream",
     "text": [
      "[Timestamp('2016-12-05 20:45:53'), Timestamp('2016-12-08 11:10:42')]\n",
      "[Timestamp('2016-11-29 19:05:02'), Timestamp('2016-12-01 00:00:02')]\n",
      "[Timestamp('2016-09-29 23:55:26'), Timestamp('2016-10-01 00:00:19')]\n"
     ]
    }
   ],
   "source": [
    "for i in idx:\n",
    "    print(df.iloc[[i-1,i],].index.to_list())"
   ]
  },
  {
   "cell_type": "markdown",
   "metadata": {},
   "source": [
    "**b部分**"
   ]
  },
  {
   "cell_type": "markdown",
   "metadata": {
    "ExecuteTime": {
     "end_time": "2021-01-10T02:26:47.228336Z",
     "start_time": "2021-01-10T02:26:47.222365Z"
    }
   },
   "source": [
    "没读懂题目要求，故尝试理解答案。"
   ]
  },
  {
   "cell_type": "code",
   "execution_count": 73,
   "metadata": {
    "ExecuteTime": {
     "end_time": "2021-01-10T07:46:27.693497Z",
     "start_time": "2021-01-10T07:46:27.687481Z"
    }
   },
   "outputs": [],
   "source": [
    "# 生成间隔时间\n",
    "s = df.index.to_series().reset_index(drop=True).diff().dt.total_seconds()"
   ]
  },
  {
   "cell_type": "code",
   "execution_count": 74,
   "metadata": {
    "ExecuteTime": {
     "end_time": "2021-01-10T07:46:27.706428Z",
     "start_time": "2021-01-10T07:46:27.695458Z"
    }
   },
   "outputs": [],
   "source": [
    "# 将极端值设为缺失\n",
    "res = s.mask((s>s.quantile(0.99))|(s<s.quantile(0.01)))"
   ]
  },
  {
   "cell_type": "code",
   "execution_count": 75,
   "metadata": {
    "ExecuteTime": {
     "end_time": "2021-01-10T07:46:27.904899Z",
     "start_time": "2021-01-10T07:46:27.707427Z"
    }
   },
   "outputs": [
    {
     "name": "stderr",
     "output_type": "stream",
     "text": [
      "C:\\Users\\LWKM\\Anaconda3\\lib\\site-packages\\numpy\\lib\\histograms.py:839: RuntimeWarning: invalid value encountered in greater_equal\n",
      "  keep = (tmp_a >= first_edge)\n",
      "C:\\Users\\LWKM\\Anaconda3\\lib\\site-packages\\numpy\\lib\\histograms.py:840: RuntimeWarning: invalid value encountered in less_equal\n",
      "  keep &= (tmp_a <= last_edge)\n"
     ]
    },
    {
     "data": {
      "image/png": "[encoded data removed]",
      "text/plain": [
       "<Figure size 432x288 with 1 Axes>"
      ]
     },
     "metadata": {
      "needs_background": "light"
     },
     "output_type": "display_data"
    }
   ],
   "source": [
    "_=plt.hist(res,bins=50)"
   ]
  },
  {
   "cell_type": "markdown",
   "metadata": {},
   "source": [
    "**第3问** "
   ]
  },
  {
   "cell_type": "markdown",
   "metadata": {},
   "source": [
    "**a部分**"
   ]
  },
  {
   "cell_type": "code",
   "execution_count": 76,
   "metadata": {
    "ExecuteTime": {
     "end_time": "2021-01-10T07:46:28.070456Z",
     "start_time": "2021-01-10T07:46:27.907893Z"
    }
   },
   "outputs": [],
   "source": [
    "cor = df.rolling('6H').corr()"
   ]
  },
  {
   "cell_type": "code",
   "execution_count": 77,
   "metadata": {
    "ExecuteTime": {
     "end_time": "2021-01-10T07:46:28.076441Z",
     "start_time": "2021-01-10T07:46:28.072452Z"
    }
   },
   "outputs": [],
   "source": [
    "idr = pd.IndexSlice"
   ]
  },
  {
   "cell_type": "code",
   "execution_count": 78,
   "metadata": {
    "ExecuteTime": {
     "end_time": "2021-01-10T07:46:28.132290Z",
     "start_time": "2021-01-10T07:46:28.078436Z"
    }
   },
   "outputs": [
    {
     "data": {
      "text/plain": [
       "Datetime                      \n",
       "2016-09-01 00:00:08  Radiation         NaN\n",
       "2016-09-01 00:05:10  Radiation         NaN\n",
       "2016-09-01 00:20:06  Radiation         inf\n",
       "2016-09-01 00:25:05  Radiation        -inf\n",
       "2016-09-01 00:30:09  Radiation        -inf\n",
       "                                    ...   \n",
       "2016-12-31 23:35:02  Radiation    0.416187\n",
       "2016-12-31 23:40:01  Radiation    0.416565\n",
       "2016-12-31 23:45:04  Radiation    0.328574\n",
       "2016-12-31 23:50:03  Radiation    0.261883\n",
       "2016-12-31 23:55:01  Radiation    0.262406\n",
       "Name: Temperature, Length: 32686, dtype: float64"
      ]
     },
     "execution_count": 78,
     "metadata": {},
     "output_type": "execute_result"
    }
   ],
   "source": [
    "cor.loc[idr[:,'Radiation'],idr['Temperature']]"
   ]
  },
  {
   "cell_type": "markdown",
   "metadata": {},
   "source": [
    "参考答案的做法更规范："
   ]
  },
  {
   "cell_type": "code",
   "execution_count": 79,
   "metadata": {
    "ExecuteTime": {
     "end_time": "2021-01-10T07:46:28.177171Z",
     "start_time": "2021-01-10T07:46:28.134286Z"
    }
   },
   "outputs": [
    {
     "data": {
      "text/plain": [
       "Datetime\n",
       "2016-09-01 00:00:08         NaN\n",
       "2016-09-01 00:05:10         NaN\n",
       "2016-09-01 00:20:06         inf\n",
       "2016-09-01 00:25:05        -inf\n",
       "2016-09-01 00:30:09        -inf\n",
       "                         ...   \n",
       "2016-12-31 23:35:02    0.416187\n",
       "2016-12-31 23:40:01    0.416565\n",
       "2016-12-31 23:45:04    0.328574\n",
       "2016-12-31 23:50:03    0.261883\n",
       "2016-12-31 23:55:01    0.262406\n",
       "Length: 32686, dtype: float64"
      ]
     },
     "execution_count": 79,
     "metadata": {},
     "output_type": "execute_result"
    }
   ],
   "source": [
    "df.Radiation.rolling('6H').corr(df.Temperature)"
   ]
  },
  {
   "cell_type": "markdown",
   "metadata": {},
   "source": [
    "**b部分**"
   ]
  },
  {
   "cell_type": "code",
   "execution_count": 80,
   "metadata": {
    "ExecuteTime": {
     "end_time": "2021-01-10T07:46:28.189138Z",
     "start_time": "2021-01-10T07:46:28.178170Z"
    },
    "scrolled": true
   },
   "outputs": [
    {
     "data": {
      "text/plain": [
       "Datetime\n",
       "2016-08-31 21:00:00    51.218750\n",
       "2016-09-01 03:00:00    50.033333\n",
       "2016-09-01 09:00:00    59.379310\n",
       "2016-09-01 15:00:00    57.984375\n",
       "2016-09-01 21:00:00    51.393939\n",
       "Freq: 6H, Name: Temperature, dtype: float64"
      ]
     },
     "execution_count": 80,
     "metadata": {},
     "output_type": "execute_result"
    }
   ],
   "source": [
    "df.resample('6H',origin='03:00:00')['Temperature'].mean().head()"
   ]
  },
  {
   "cell_type": "markdown",
   "metadata": {},
   "source": [
    "**c部分**"
   ]
  },
  {
   "cell_type": "markdown",
   "metadata": {},
   "source": [
    "不知道如何实现，故尝试理解答案。"
   ]
  },
  {
   "cell_type": "code",
   "execution_count": 81,
   "metadata": {
    "ExecuteTime": {
     "end_time": "2021-01-10T07:46:28.195122Z",
     "start_time": "2021-01-10T07:46:28.190137Z"
    }
   },
   "outputs": [],
   "source": [
    "# 先前移6个小时\n",
    "my_dt = df.index.shift(freq='-6H')"
   ]
  },
  {
   "cell_type": "markdown",
   "metadata": {},
   "source": [
    "以下这一步为关键："
   ]
  },
  {
   "cell_type": "code",
   "execution_count": 82,
   "metadata": {
    "ExecuteTime": {
     "end_time": "2021-01-10T07:46:48.578497Z",
     "start_time": "2021-01-10T07:46:28.197118Z"
    }
   },
   "outputs": [],
   "source": [
    "# 找到最邻近的时间索引\n",
    "int_loc = [df.index.get_loc(i, method='nearest') for i in my_dt]"
   ]
  },
  {
   "cell_type": "code",
   "execution_count": 83,
   "metadata": {
    "ExecuteTime": {
     "end_time": "2021-01-10T07:46:48.588513Z",
     "start_time": "2021-01-10T07:46:48.580496Z"
    }
   },
   "outputs": [],
   "source": [
    "res = df.Radiation.iloc[int_loc]"
   ]
  },
  {
   "cell_type": "code",
   "execution_count": 84,
   "metadata": {
    "ExecuteTime": {
     "end_time": "2021-01-10T07:46:48.597454Z",
     "start_time": "2021-01-10T07:46:48.590470Z"
    }
   },
   "outputs": [
    {
     "data": {
      "text/plain": [
       "Datetime\n",
       "2016-12-31 17:35:01    15.96\n",
       "2016-12-31 17:40:06    11.98\n",
       "2016-12-31 17:45:02     9.33\n",
       "2016-12-31 17:50:01     8.49\n",
       "2016-12-31 17:55:02     5.84\n",
       "Name: Radiation, dtype: float64"
      ]
     },
     "execution_count": 84,
     "metadata": {},
     "output_type": "execute_result"
    }
   ],
   "source": [
    "res.tail()"
   ]
  },
  {
   "cell_type": "markdown",
   "metadata": {},
   "source": [
    "### Ex2: 水果销量数据集"
   ]
  },
  {
   "cell_type": "code",
   "execution_count": 85,
   "metadata": {
    "ExecuteTime": {
     "end_time": "2021-01-10T07:46:48.622430Z",
     "start_time": "2021-01-10T07:46:48.600445Z"
    }
   },
   "outputs": [],
   "source": [
    "df = pd.read_csv('data/fruit.csv')"
   ]
  },
  {
   "cell_type": "code",
   "execution_count": 86,
   "metadata": {
    "ExecuteTime": {
     "end_time": "2021-01-10T07:46:48.637345Z",
     "start_time": "2021-01-10T07:46:48.626377Z"
    },
    "scrolled": true
   },
   "outputs": [
    {
     "data": {
      "text/html": [
       "<div>\n",
       "<style scoped>\n",
       "    .dataframe tbody tr th:only-of-type {\n",
       "        vertical-align: middle;\n",
       "    }\n",
       "\n",
       "    .dataframe tbody tr th {\n",
       "        vertical-align: top;\n",
       "    }\n",
       "\n",
       "    .dataframe thead th {\n",
       "        text-align: right;\n",
       "    }\n",
       "</style>\n",
       "<table border=\"1\" class=\"dataframe\">\n",
       "  <thead>\n",
       "    <tr style=\"text-align: right;\">\n",
       "      <th></th>\n",
       "      <th>Date</th>\n",
       "      <th>Fruit</th>\n",
       "      <th>Sale</th>\n",
       "    </tr>\n",
       "  </thead>\n",
       "  <tbody>\n",
       "    <tr>\n",
       "      <th>0</th>\n",
       "      <td>2019-04-18</td>\n",
       "      <td>Peach</td>\n",
       "      <td>15</td>\n",
       "    </tr>\n",
       "    <tr>\n",
       "      <th>1</th>\n",
       "      <td>2019-12-29</td>\n",
       "      <td>Peach</td>\n",
       "      <td>15</td>\n",
       "    </tr>\n",
       "    <tr>\n",
       "      <th>2</th>\n",
       "      <td>2019-06-05</td>\n",
       "      <td>Peach</td>\n",
       "      <td>19</td>\n",
       "    </tr>\n",
       "  </tbody>\n",
       "</table>\n",
       "</div>"
      ],
      "text/plain": [
       "         Date  Fruit  Sale\n",
       "0  2019-04-18  Peach    15\n",
       "1  2019-12-29  Peach    15\n",
       "2  2019-06-05  Peach    19"
      ]
     },
     "execution_count": 86,
     "metadata": {},
     "output_type": "execute_result"
    }
   ],
   "source": [
    "df.head(3)"
   ]
  },
  {
   "cell_type": "code",
   "execution_count": 87,
   "metadata": {
    "ExecuteTime": {
     "end_time": "2021-01-10T07:46:48.647317Z",
     "start_time": "2021-01-10T07:46:48.638342Z"
    }
   },
   "outputs": [],
   "source": [
    "df.Date = pd.to_datetime(df.Date)"
   ]
  },
  {
   "cell_type": "code",
   "execution_count": 88,
   "metadata": {
    "ExecuteTime": {
     "end_time": "2021-01-10T07:46:48.658288Z",
     "start_time": "2021-01-10T07:46:48.649313Z"
    }
   },
   "outputs": [],
   "source": [
    "df = df.sort_values(['Date','Fruit']).reset_index(drop=True)"
   ]
  },
  {
   "cell_type": "code",
   "execution_count": 89,
   "metadata": {
    "ExecuteTime": {
     "end_time": "2021-01-10T07:46:48.666268Z",
     "start_time": "2021-01-10T07:46:48.659286Z"
    }
   },
   "outputs": [
    {
     "data": {
      "text/plain": [
       "array(['Apple', 'Banana', 'Grape', 'Peach', 'Pear'], dtype=object)"
      ]
     },
     "execution_count": 89,
     "metadata": {},
     "output_type": "execute_result"
    }
   ],
   "source": [
    "df.Fruit.unique()"
   ]
  },
  {
   "cell_type": "markdown",
   "metadata": {},
   "source": [
    "**第1问**"
   ]
  },
  {
   "cell_type": "markdown",
   "metadata": {},
   "source": [
    "**a部分**"
   ]
  },
  {
   "cell_type": "code",
   "execution_count": 90,
   "metadata": {
    "ExecuteTime": {
     "end_time": "2021-01-10T07:46:48.678235Z",
     "start_time": "2021-01-10T07:46:48.668262Z"
    }
   },
   "outputs": [],
   "source": [
    "sale = df.groupby(['Date','Fruit']).sum().reset_index()"
   ]
  },
  {
   "cell_type": "markdown",
   "metadata": {},
   "source": [
    "可能需要长变宽："
   ]
  },
  {
   "cell_type": "code",
   "execution_count": 91,
   "metadata": {
    "ExecuteTime": {
     "end_time": "2021-01-10T07:46:48.689208Z",
     "start_time": "2021-01-10T07:46:48.680231Z"
    }
   },
   "outputs": [],
   "source": [
    "sale = sale.pivot(index='Date',columns='Fruit',values='Sale')"
   ]
  },
  {
   "cell_type": "code",
   "execution_count": 92,
   "metadata": {
    "ExecuteTime": {
     "end_time": "2021-01-10T07:46:48.702174Z",
     "start_time": "2021-01-10T07:46:48.693198Z"
    }
   },
   "outputs": [],
   "source": [
    "gsale = sale.Grape.resample('SMS').sum()"
   ]
  },
  {
   "cell_type": "code",
   "execution_count": 93,
   "metadata": {
    "ExecuteTime": {
     "end_time": "2021-01-10T07:46:48.715137Z",
     "start_time": "2021-01-10T07:46:48.706178Z"
    }
   },
   "outputs": [
    {
     "data": {
      "text/plain": [
       "Date\n",
       "2019-01-01    10709\n",
       "2019-01-15    12135\n",
       "2019-02-01     9134\n",
       "2019-02-15    10973\n",
       "2019-03-01     9139\n",
       "Freq: SMS-15, Name: Grape, dtype: int64"
      ]
     },
     "execution_count": 93,
     "metadata": {},
     "output_type": "execute_result"
    }
   ],
   "source": [
    "gsale.head()"
   ]
  },
  {
   "cell_type": "code",
   "execution_count": 94,
   "metadata": {
    "ExecuteTime": {
     "end_time": "2021-01-10T07:46:48.732092Z",
     "start_time": "2021-01-10T07:46:48.718130Z"
    }
   },
   "outputs": [
    {
     "data": {
      "text/plain": [
       "Date\n",
       "2019-01-01    0.882489\n",
       "2019-02-01    0.832407\n",
       "2019-03-01    0.670851\n",
       "2019-04-01    0.875372\n",
       "2019-05-01    0.765635\n",
       "2019-06-01    0.880839\n",
       "2019-07-01    1.181905\n",
       "2019-08-01    0.950072\n",
       "2019-09-01    0.980867\n",
       "2019-10-01    0.853451\n",
       "2019-11-01    1.149994\n",
       "2019-12-01    0.805612\n",
       "Freq: MS, Name: Grape, dtype: float64"
      ]
     },
     "execution_count": 94,
     "metadata": {},
     "output_type": "execute_result"
    }
   ],
   "source": [
    "gsale.resample('MS').first()/gsale.resample('MS').last()"
   ]
  },
  {
   "cell_type": "markdown",
   "metadata": {},
   "source": [
    "**b部分**"
   ]
  },
  {
   "cell_type": "code",
   "execution_count": 95,
   "metadata": {
    "ExecuteTime": {
     "end_time": "2021-01-10T07:46:48.746054Z",
     "start_time": "2021-01-10T07:46:48.734088Z"
    }
   },
   "outputs": [
    {
     "data": {
      "text/plain": [
       "Date\n",
       "2019-01-31    847\n",
       "2019-02-28    774\n",
       "2019-03-31    761\n",
       "2019-04-30    648\n",
       "2019-05-31    616\n",
       "2019-06-30    179\n",
       "2019-07-31    757\n",
       "2019-08-31    813\n",
       "2019-09-30    858\n",
       "2019-10-31    753\n",
       "2019-11-30    859\n",
       "2019-12-31    648\n",
       "Freq: M, Name: Pear, dtype: int64"
      ]
     },
     "execution_count": 95,
     "metadata": {},
     "output_type": "execute_result"
    }
   ],
   "source": [
    "sale.Pear.resample('D').sum().resample('M').last()"
   ]
  },
  {
   "cell_type": "markdown",
   "metadata": {},
   "source": [
    "答案的实现方式："
   ]
  },
  {
   "cell_type": "code",
   "execution_count": 96,
   "metadata": {
    "ExecuteTime": {
     "end_time": "2021-01-10T07:46:48.760018Z",
     "start_time": "2021-01-10T07:46:48.748049Z"
    }
   },
   "outputs": [
    {
     "data": {
      "text/plain": [
       "Date\n",
       "2019-01-31    847\n",
       "2019-02-28    774\n",
       "2019-03-31    761\n",
       "2019-04-30    648\n",
       "2019-05-31    616\n",
       "2019-06-30    179\n",
       "2019-07-31    757\n",
       "2019-08-31    813\n",
       "2019-09-30    858\n",
       "2019-10-31    753\n",
       "2019-11-30    859\n",
       "Name: Sale, dtype: int64"
      ]
     },
     "execution_count": 96,
     "metadata": {},
     "output_type": "execute_result"
    }
   ],
   "source": [
    "df[df.Date.dt.is_month_end].query(\"Fruit=='Pear'\").groupby('Date').Sale.sum()"
   ]
  },
  {
   "cell_type": "markdown",
   "metadata": {},
   "source": [
    "**c部分**"
   ]
  },
  {
   "cell_type": "code",
   "execution_count": 97,
   "metadata": {
    "ExecuteTime": {
     "end_time": "2021-01-10T07:46:48.767995Z",
     "start_time": "2021-01-10T07:46:48.762012Z"
    }
   },
   "outputs": [],
   "source": [
    "psale = sale.Peach.resample('D').sum()"
   ]
  },
  {
   "cell_type": "markdown",
   "metadata": {},
   "source": [
    "本题不知如何实现，故尝试理解答案。"
   ]
  },
  {
   "cell_type": "code",
   "execution_count": 98,
   "metadata": {
    "ExecuteTime": {
     "end_time": "2021-01-10T07:46:48.781958Z",
     "start_time": "2021-01-10T07:46:48.769990Z"
    }
   },
   "outputs": [
    {
     "data": {
      "text/plain": [
       "Date\n",
       "2019-01-31    60.500000\n",
       "2019-02-28    59.538462\n",
       "2019-03-29    56.666667\n",
       "2019-04-30    64.800000\n",
       "2019-05-31    61.600000\n",
       "2019-06-28    67.222222\n",
       "2019-07-31    63.083333\n",
       "2019-08-30    71.714286\n",
       "2019-09-30    78.000000\n",
       "2019-10-31    62.750000\n",
       "2019-11-29    62.789474\n",
       "Name: Sale, dtype: float64"
      ]
     },
     "execution_count": 98,
     "metadata": {},
     "output_type": "execute_result"
    }
   ],
   "source": [
    "# 注意：“BM”表示“Business Monthend”\n",
    "df[df.Date.isin(pd.date_range('20190101','20191231',freq='BM'))].query(\"Fruit=='Pear'\").groupby('Date').Sale.mean()"
   ]
  },
  {
   "cell_type": "markdown",
   "metadata": {},
   "source": [
    "**d部分**"
   ]
  },
  {
   "cell_type": "code",
   "execution_count": 99,
   "metadata": {
    "ExecuteTime": {
     "end_time": "2021-01-10T07:46:48.793926Z",
     "start_time": "2021-01-10T07:46:48.783952Z"
    }
   },
   "outputs": [
    {
     "data": {
      "text/plain": [
       "Date\n",
       "2019-01-31    604.20\n",
       "2019-02-28    632.00\n",
       "2019-03-31    510.20\n",
       "2019-04-30    579.00\n",
       "2019-05-31    603.80\n",
       "2019-06-30    543.80\n",
       "2019-07-31    481.40\n",
       "2019-08-31    679.80\n",
       "2019-09-30    760.20\n",
       "2019-10-31    525.80\n",
       "2019-11-30    544.80\n",
       "2019-12-31    662.75\n",
       "Freq: M, Name: Apple, dtype: float64"
      ]
     },
     "execution_count": 99,
     "metadata": {},
     "output_type": "execute_result"
    }
   ],
   "source": [
    "sale.Apple.resample('5D').mean().resample('M').last()"
   ]
  },
  {
   "cell_type": "markdown",
   "metadata": {},
   "source": [
    "**第2问**"
   ]
  },
  {
   "cell_type": "code",
   "execution_count": 100,
   "metadata": {
    "ExecuteTime": {
     "end_time": "2021-01-10T07:46:48.801905Z",
     "start_time": "2021-01-10T07:46:48.795922Z"
    }
   },
   "outputs": [],
   "source": [
    "df['month']=df.Date.dt.month"
   ]
  },
  {
   "cell_type": "code",
   "execution_count": 101,
   "metadata": {
    "ExecuteTime": {
     "end_time": "2021-01-10T07:46:48.810880Z",
     "start_time": "2021-01-10T07:46:48.803900Z"
    }
   },
   "outputs": [],
   "source": [
    "df['weekday']=df.Date.dt.dayofweek + 1"
   ]
  },
  {
   "cell_type": "code",
   "execution_count": 102,
   "metadata": {
    "ExecuteTime": {
     "end_time": "2021-01-10T07:46:48.816864Z",
     "start_time": "2021-01-10T07:46:48.811878Z"
    }
   },
   "outputs": [],
   "source": [
    "sdf = df.copy()"
   ]
  },
  {
   "cell_type": "code",
   "execution_count": 103,
   "metadata": {
    "ExecuteTime": {
     "end_time": "2021-01-10T07:46:48.829831Z",
     "start_time": "2021-01-10T07:46:48.818859Z"
    }
   },
   "outputs": [
    {
     "data": {
      "text/html": [
       "<div>\n",
       "<style scoped>\n",
       "    .dataframe tbody tr th:only-of-type {\n",
       "        vertical-align: middle;\n",
       "    }\n",
       "\n",
       "    .dataframe tbody tr th {\n",
       "        vertical-align: top;\n",
       "    }\n",
       "\n",
       "    .dataframe thead th {\n",
       "        text-align: right;\n",
       "    }\n",
       "</style>\n",
       "<table border=\"1\" class=\"dataframe\">\n",
       "  <thead>\n",
       "    <tr style=\"text-align: right;\">\n",
       "      <th></th>\n",
       "      <th>Date</th>\n",
       "      <th>Fruit</th>\n",
       "      <th>Sale</th>\n",
       "      <th>month</th>\n",
       "      <th>weekday</th>\n",
       "    </tr>\n",
       "  </thead>\n",
       "  <tbody>\n",
       "    <tr>\n",
       "      <th>0</th>\n",
       "      <td>2019-01-01</td>\n",
       "      <td>Apple</td>\n",
       "      <td>6</td>\n",
       "      <td>1</td>\n",
       "      <td>2</td>\n",
       "    </tr>\n",
       "    <tr>\n",
       "      <th>1</th>\n",
       "      <td>2019-01-01</td>\n",
       "      <td>Apple</td>\n",
       "      <td>15</td>\n",
       "      <td>1</td>\n",
       "      <td>2</td>\n",
       "    </tr>\n",
       "    <tr>\n",
       "      <th>2</th>\n",
       "      <td>2019-01-01</td>\n",
       "      <td>Apple</td>\n",
       "      <td>1</td>\n",
       "      <td>1</td>\n",
       "      <td>2</td>\n",
       "    </tr>\n",
       "    <tr>\n",
       "      <th>3</th>\n",
       "      <td>2019-01-01</td>\n",
       "      <td>Apple</td>\n",
       "      <td>54</td>\n",
       "      <td>1</td>\n",
       "      <td>2</td>\n",
       "    </tr>\n",
       "    <tr>\n",
       "      <th>4</th>\n",
       "      <td>2019-01-01</td>\n",
       "      <td>Apple</td>\n",
       "      <td>45</td>\n",
       "      <td>1</td>\n",
       "      <td>2</td>\n",
       "    </tr>\n",
       "  </tbody>\n",
       "</table>\n",
       "</div>"
      ],
      "text/plain": [
       "        Date  Fruit  Sale  month  weekday\n",
       "0 2019-01-01  Apple     6      1        2\n",
       "1 2019-01-01  Apple    15      1        2\n",
       "2 2019-01-01  Apple     1      1        2\n",
       "3 2019-01-01  Apple    54      1        2\n",
       "4 2019-01-01  Apple    45      1        2"
      ]
     },
     "execution_count": 103,
     "metadata": {},
     "output_type": "execute_result"
    }
   ],
   "source": [
    "sdf.head()"
   ]
  },
  {
   "cell_type": "code",
   "execution_count": 104,
   "metadata": {
    "ExecuteTime": {
     "end_time": "2021-01-10T07:46:48.841799Z",
     "start_time": "2021-01-10T07:46:48.831826Z"
    }
   },
   "outputs": [],
   "source": [
    "dcount = sdf.groupby(['Fruit','Date'])['Sale'].count().reset_index()"
   ]
  },
  {
   "cell_type": "code",
   "execution_count": 105,
   "metadata": {
    "ExecuteTime": {
     "end_time": "2021-01-10T07:46:48.855760Z",
     "start_time": "2021-01-10T07:46:48.843792Z"
    }
   },
   "outputs": [
    {
     "data": {
      "text/html": [
       "<div>\n",
       "<style scoped>\n",
       "    .dataframe tbody tr th:only-of-type {\n",
       "        vertical-align: middle;\n",
       "    }\n",
       "\n",
       "    .dataframe tbody tr th {\n",
       "        vertical-align: top;\n",
       "    }\n",
       "\n",
       "    .dataframe thead th {\n",
       "        text-align: right;\n",
       "    }\n",
       "</style>\n",
       "<table border=\"1\" class=\"dataframe\">\n",
       "  <thead>\n",
       "    <tr style=\"text-align: right;\">\n",
       "      <th></th>\n",
       "      <th>Fruit</th>\n",
       "      <th>Date</th>\n",
       "      <th>Sale</th>\n",
       "    </tr>\n",
       "  </thead>\n",
       "  <tbody>\n",
       "    <tr>\n",
       "      <th>0</th>\n",
       "      <td>Apple</td>\n",
       "      <td>2019-01-01</td>\n",
       "      <td>6</td>\n",
       "    </tr>\n",
       "    <tr>\n",
       "      <th>1</th>\n",
       "      <td>Apple</td>\n",
       "      <td>2019-01-02</td>\n",
       "      <td>8</td>\n",
       "    </tr>\n",
       "    <tr>\n",
       "      <th>2</th>\n",
       "      <td>Apple</td>\n",
       "      <td>2019-01-03</td>\n",
       "      <td>15</td>\n",
       "    </tr>\n",
       "    <tr>\n",
       "      <th>3</th>\n",
       "      <td>Apple</td>\n",
       "      <td>2019-01-04</td>\n",
       "      <td>7</td>\n",
       "    </tr>\n",
       "    <tr>\n",
       "      <th>4</th>\n",
       "      <td>Apple</td>\n",
       "      <td>2019-01-05</td>\n",
       "      <td>11</td>\n",
       "    </tr>\n",
       "    <tr>\n",
       "      <th>...</th>\n",
       "      <td>...</td>\n",
       "      <td>...</td>\n",
       "      <td>...</td>\n",
       "    </tr>\n",
       "    <tr>\n",
       "      <th>1815</th>\n",
       "      <td>Pear</td>\n",
       "      <td>2019-12-26</td>\n",
       "      <td>8</td>\n",
       "    </tr>\n",
       "    <tr>\n",
       "      <th>1816</th>\n",
       "      <td>Pear</td>\n",
       "      <td>2019-12-27</td>\n",
       "      <td>15</td>\n",
       "    </tr>\n",
       "    <tr>\n",
       "      <th>1817</th>\n",
       "      <td>Pear</td>\n",
       "      <td>2019-12-28</td>\n",
       "      <td>10</td>\n",
       "    </tr>\n",
       "    <tr>\n",
       "      <th>1818</th>\n",
       "      <td>Pear</td>\n",
       "      <td>2019-12-29</td>\n",
       "      <td>11</td>\n",
       "    </tr>\n",
       "    <tr>\n",
       "      <th>1819</th>\n",
       "      <td>Pear</td>\n",
       "      <td>2019-12-30</td>\n",
       "      <td>8</td>\n",
       "    </tr>\n",
       "  </tbody>\n",
       "</table>\n",
       "<p>1820 rows × 3 columns</p>\n",
       "</div>"
      ],
      "text/plain": [
       "      Fruit       Date  Sale\n",
       "0     Apple 2019-01-01     6\n",
       "1     Apple 2019-01-02     8\n",
       "2     Apple 2019-01-03    15\n",
       "3     Apple 2019-01-04     7\n",
       "4     Apple 2019-01-05    11\n",
       "...     ...        ...   ...\n",
       "1815   Pear 2019-12-26     8\n",
       "1816   Pear 2019-12-27    15\n",
       "1817   Pear 2019-12-28    10\n",
       "1818   Pear 2019-12-29    11\n",
       "1819   Pear 2019-12-30     8\n",
       "\n",
       "[1820 rows x 3 columns]"
      ]
     },
     "execution_count": 105,
     "metadata": {},
     "output_type": "execute_result"
    }
   ],
   "source": [
    "dcount"
   ]
  },
  {
   "cell_type": "code",
   "execution_count": 106,
   "metadata": {
    "ExecuteTime": {
     "end_time": "2021-01-10T07:46:48.869723Z",
     "start_time": "2021-01-10T07:46:48.857755Z"
    }
   },
   "outputs": [],
   "source": [
    "sdf = sdf.merge(dcount,on=['Date','Fruit'],how='left', suffixes=['_q','_c'])"
   ]
  },
  {
   "cell_type": "markdown",
   "metadata": {},
   "source": [
    "长表变宽表："
   ]
  },
  {
   "cell_type": "code",
   "execution_count": 107,
   "metadata": {
    "ExecuteTime": {
     "end_time": "2021-01-10T07:46:48.909618Z",
     "start_time": "2021-01-10T07:46:48.870720Z"
    }
   },
   "outputs": [
    {
     "data": {
      "text/html": [
       "<div>\n",
       "<style scoped>\n",
       "    .dataframe tbody tr th:only-of-type {\n",
       "        vertical-align: middle;\n",
       "    }\n",
       "\n",
       "    .dataframe tbody tr th {\n",
       "        vertical-align: top;\n",
       "    }\n",
       "\n",
       "    .dataframe thead th {\n",
       "        text-align: right;\n",
       "    }\n",
       "</style>\n",
       "<table border=\"1\" class=\"dataframe\">\n",
       "  <thead>\n",
       "    <tr style=\"text-align: right;\">\n",
       "      <th></th>\n",
       "      <th>weekday</th>\n",
       "      <th>1</th>\n",
       "      <th>2</th>\n",
       "      <th>3</th>\n",
       "      <th>4</th>\n",
       "      <th>5</th>\n",
       "      <th>6</th>\n",
       "      <th>7</th>\n",
       "    </tr>\n",
       "    <tr>\n",
       "      <th>Fruit</th>\n",
       "      <th>month</th>\n",
       "      <th></th>\n",
       "      <th></th>\n",
       "      <th></th>\n",
       "      <th></th>\n",
       "      <th></th>\n",
       "      <th></th>\n",
       "      <th></th>\n",
       "    </tr>\n",
       "  </thead>\n",
       "  <tbody>\n",
       "    <tr>\n",
       "      <th rowspan=\"5\" valign=\"top\">Apple</th>\n",
       "      <th>1</th>\n",
       "      <td>11.608696</td>\n",
       "      <td>10.560000</td>\n",
       "      <td>10.640000</td>\n",
       "      <td>10.111111</td>\n",
       "      <td>8.187500</td>\n",
       "      <td>11.285714</td>\n",
       "      <td>6.217391</td>\n",
       "    </tr>\n",
       "    <tr>\n",
       "      <th>2</th>\n",
       "      <td>11.279070</td>\n",
       "      <td>10.200000</td>\n",
       "      <td>13.638298</td>\n",
       "      <td>9.228571</td>\n",
       "      <td>9.242424</td>\n",
       "      <td>10.263158</td>\n",
       "      <td>12.066667</td>\n",
       "    </tr>\n",
       "    <tr>\n",
       "      <th>3</th>\n",
       "      <td>11.325581</td>\n",
       "      <td>11.409091</td>\n",
       "      <td>10.513514</td>\n",
       "      <td>8.612903</td>\n",
       "      <td>10.807692</td>\n",
       "      <td>9.476190</td>\n",
       "      <td>8.952381</td>\n",
       "    </tr>\n",
       "    <tr>\n",
       "      <th>4</th>\n",
       "      <td>10.148936</td>\n",
       "      <td>11.653846</td>\n",
       "      <td>12.720930</td>\n",
       "      <td>12.319149</td>\n",
       "      <td>8.290323</td>\n",
       "      <td>9.857143</td>\n",
       "      <td>9.972973</td>\n",
       "    </tr>\n",
       "    <tr>\n",
       "      <th>5</th>\n",
       "      <td>10.813953</td>\n",
       "      <td>11.956522</td>\n",
       "      <td>8.282051</td>\n",
       "      <td>11.655172</td>\n",
       "      <td>9.521739</td>\n",
       "      <td>14.818182</td>\n",
       "      <td>8.290323</td>\n",
       "    </tr>\n",
       "  </tbody>\n",
       "</table>\n",
       "</div>"
      ],
      "text/plain": [
       "weekday              1          2          3          4          5          6  \\\n",
       "Fruit month                                                                     \n",
       "Apple 1      11.608696  10.560000  10.640000  10.111111   8.187500  11.285714   \n",
       "      2      11.279070  10.200000  13.638298   9.228571   9.242424  10.263158   \n",
       "      3      11.325581  11.409091  10.513514   8.612903  10.807692   9.476190   \n",
       "      4      10.148936  11.653846  12.720930  12.319149   8.290323   9.857143   \n",
       "      5      10.813953  11.956522   8.282051  11.655172   9.521739  14.818182   \n",
       "\n",
       "weekday              7  \n",
       "Fruit month             \n",
       "Apple 1       6.217391  \n",
       "      2      12.066667  \n",
       "      3       8.952381  \n",
       "      4       9.972973  \n",
       "      5       8.290323  "
      ]
     },
     "execution_count": 107,
     "metadata": {},
     "output_type": "execute_result"
    }
   ],
   "source": [
    "sdf.pivot_table(index=['Fruit','month'],columns='weekday',values='Sale_c',aggfunc='mean').head()"
   ]
  },
  {
   "cell_type": "markdown",
   "metadata": {},
   "source": [
    "**第3问**"
   ]
  },
  {
   "cell_type": "code",
   "execution_count": 108,
   "metadata": {
    "ExecuteTime": {
     "end_time": "2021-01-10T07:46:48.922583Z",
     "start_time": "2021-01-10T07:46:48.910615Z"
    }
   },
   "outputs": [],
   "source": [
    "asale = df[df.Fruit=='Apple'].set_index('Date').resample('D')['Sale'].sum()"
   ]
  },
  {
   "cell_type": "code",
   "execution_count": 109,
   "metadata": {
    "ExecuteTime": {
     "end_time": "2021-01-10T07:46:48.931558Z",
     "start_time": "2021-01-10T07:46:48.924577Z"
    }
   },
   "outputs": [
    {
     "data": {
      "text/plain": [
       "Date\n",
       "2019-01-01    189\n",
       "2019-01-02    482\n",
       "2019-01-03    890\n",
       "2019-01-04    550\n",
       "2019-01-05    583\n",
       "Freq: D, Name: Sale, dtype: int64"
      ]
     },
     "execution_count": 109,
     "metadata": {},
     "output_type": "execute_result"
    }
   ],
   "source": [
    "asale.head()"
   ]
  },
  {
   "cell_type": "markdown",
   "metadata": {},
   "source": [
    "本题不知道如何实现，只能学习参考答案。"
   ]
  },
  {
   "cell_type": "code",
   "execution_count": 110,
   "metadata": {
    "ExecuteTime": {
     "end_time": "2021-01-10T07:46:48.943525Z",
     "start_time": "2021-01-10T07:46:48.933553Z"
    }
   },
   "outputs": [],
   "source": [
    "# 取出工作日苹果销量\n",
    "df_apple = df[(df.Fruit=='Apple')&(~df.Date.dt.dayofweek.isin([5,6]))]"
   ]
  },
  {
   "cell_type": "code",
   "execution_count": 111,
   "metadata": {
    "ExecuteTime": {
     "end_time": "2021-01-10T07:46:48.951505Z",
     "start_time": "2021-01-10T07:46:48.944522Z"
    }
   },
   "outputs": [],
   "source": [
    "# 计算每个工作日苹果总销量\n",
    "s = pd.Series(df_apple.Sale.values,index=df_apple.Date).groupby('Date').sum()"
   ]
  },
  {
   "cell_type": "code",
   "execution_count": 112,
   "metadata": {
    "ExecuteTime": {
     "end_time": "2021-01-10T07:46:48.959486Z",
     "start_time": "2021-01-10T07:46:48.953500Z"
    }
   },
   "outputs": [],
   "source": [
    "res = s.rolling('10D').mean().reindex(pd.date_range('20190101','20191231')).fillna(method='ffill')"
   ]
  },
  {
   "cell_type": "markdown",
   "metadata": {},
   "source": [
    "本题的关键是理解日期索引的扩充。原来表中的数据在新表中会根据索引**自动对齐**，新表索引无对应数据则设为缺失。"
   ]
  }
 ],
 "metadata": {
  "kernelspec": {
   "display_name": "Python 3",
   "language": "python",
   "name": "python3"
  },
  "language_info": {
   "codemirror_mode": {
    "name": "ipython",
    "version": 3
   },
   "file_extension": ".py",
   "mimetype": "text/x-python",
   "name": "python",
   "nbconvert_exporter": "python",
   "pygments_lexer": "ipython3",
   "version": "3.7.4"
  },
  "toc": {
   "base_numbering": 1,
   "nav_menu": {},
   "number_sections": true,
   "sideBar": true,
   "skip_h1_title": false,
   "title_cell": "Table of Contents",
   "title_sidebar": "Contents",
   "toc_cell": false,
   "toc_position": {},
   "toc_section_display": true,
   "toc_window_display": false
  },
  "varInspector": {
   "cols": {
    "lenName": 16,
    "lenType": 16,
    "lenVar": 40
   },
   "kernels_config": {
    "python": {
     "delete_cmd_postfix": "",
     "delete_cmd_prefix": "del ",
     "library": "var_list.py",
     "varRefreshCmd": "print(var_dic_list())"
    },
    "r": {
     "delete_cmd_postfix": ") ",
     "delete_cmd_prefix": "rm(",
     "library": "var_list.r",
     "varRefreshCmd": "cat(var_dic_list()) "
    }
   },
   "types_to_exclude": [
    "module",
    "function",
    "builtin_function_or_method",
    "instance",
    "_Feature"
   ],
   "window_display": false
  }
 },
 "nbformat": 4,
 "nbformat_minor": 2
}
