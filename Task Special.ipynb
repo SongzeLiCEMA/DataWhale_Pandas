{
 "cells": [
  {
   "cell_type": "markdown",
   "metadata": {},
   "source": [
    "# 第一次综合练习"
   ]
  },
  {
   "cell_type": "code",
   "execution_count": 1,
   "metadata": {
    "ExecuteTime": {
     "end_time": "2021-01-01T08:44:12.927178Z",
     "start_time": "2021-01-01T08:44:12.355519Z"
    }
   },
   "outputs": [],
   "source": [
    "import numpy as np\n",
    "import pandas as pd"
   ]
  },
  {
   "cell_type": "markdown",
   "metadata": {},
   "source": [
    "## 【任务一】企业收入的多样性"
   ]
  },
  {
   "cell_type": "markdown",
   "metadata": {},
   "source": [
    "【题目复述】收入熵反映了一个企业的产业收入多样性，定义式如下："
   ]
  },
  {
   "cell_type": "markdown",
   "metadata": {},
   "source": [
    "$$\n",
    "I = - \\sum_ip(x_i)\\log(p(x_i))\n",
    "$$"
   ]
  },
  {
   "cell_type": "markdown",
   "metadata": {},
   "source": [
    "其中$p(x_i)$是企业该年产业$x_i$收入额占所有产业总收入的比重。"
   ]
  },
  {
   "cell_type": "markdown",
   "metadata": {},
   "source": [
    "【任务】利用`company_data.csv`的数据计算收入熵$I$，并将计算结果作为新的一列添加至`company.csv`。"
   ]
  },
  {
   "cell_type": "markdown",
   "metadata": {},
   "source": [
    "先读取待处理数据集，了解基本情况。"
   ]
  },
  {
   "cell_type": "code",
   "execution_count": 2,
   "metadata": {
    "ExecuteTime": {
     "end_time": "2021-01-01T08:44:12.948103Z",
     "start_time": "2021-01-01T08:44:12.929128Z"
    }
   },
   "outputs": [
    {
     "data": {
      "text/html": [
       "<div>\n",
       "<style scoped>\n",
       "    .dataframe tbody tr th:only-of-type {\n",
       "        vertical-align: middle;\n",
       "    }\n",
       "\n",
       "    .dataframe tbody tr th {\n",
       "        vertical-align: top;\n",
       "    }\n",
       "\n",
       "    .dataframe thead th {\n",
       "        text-align: right;\n",
       "    }\n",
       "</style>\n",
       "<table border=\"1\" class=\"dataframe\">\n",
       "  <thead>\n",
       "    <tr style=\"text-align: right;\">\n",
       "      <th></th>\n",
       "      <th>证券代码</th>\n",
       "      <th>日期</th>\n",
       "    </tr>\n",
       "  </thead>\n",
       "  <tbody>\n",
       "    <tr>\n",
       "      <th>0</th>\n",
       "      <td>#000007</td>\n",
       "      <td>2014</td>\n",
       "    </tr>\n",
       "    <tr>\n",
       "      <th>1</th>\n",
       "      <td>#000403</td>\n",
       "      <td>2015</td>\n",
       "    </tr>\n",
       "    <tr>\n",
       "      <th>2</th>\n",
       "      <td>#000408</td>\n",
       "      <td>2016</td>\n",
       "    </tr>\n",
       "    <tr>\n",
       "      <th>3</th>\n",
       "      <td>#000408</td>\n",
       "      <td>2017</td>\n",
       "    </tr>\n",
       "    <tr>\n",
       "      <th>4</th>\n",
       "      <td>#000426</td>\n",
       "      <td>2015</td>\n",
       "    </tr>\n",
       "  </tbody>\n",
       "</table>\n",
       "</div>"
      ],
      "text/plain": [
       "      证券代码    日期\n",
       "0  #000007  2014\n",
       "1  #000403  2015\n",
       "2  #000408  2016\n",
       "3  #000408  2017\n",
       "4  #000426  2015"
      ]
     },
     "execution_count": 2,
     "metadata": {},
     "output_type": "execute_result"
    }
   ],
   "source": [
    "# 读取企业清单\n",
    "company = pd.read_csv('./data/Task Special/Company.csv')\n",
    "company.head()"
   ]
  },
  {
   "cell_type": "code",
   "execution_count": 3,
   "metadata": {
    "ExecuteTime": {
     "end_time": "2021-01-01T08:44:13.373906Z",
     "start_time": "2021-01-01T08:44:12.951070Z"
    }
   },
   "outputs": [
    {
     "data": {
      "text/html": [
       "<div>\n",
       "<style scoped>\n",
       "    .dataframe tbody tr th:only-of-type {\n",
       "        vertical-align: middle;\n",
       "    }\n",
       "\n",
       "    .dataframe tbody tr th {\n",
       "        vertical-align: top;\n",
       "    }\n",
       "\n",
       "    .dataframe thead th {\n",
       "        text-align: right;\n",
       "    }\n",
       "</style>\n",
       "<table border=\"1\" class=\"dataframe\">\n",
       "  <thead>\n",
       "    <tr style=\"text-align: right;\">\n",
       "      <th></th>\n",
       "      <th>证券代码</th>\n",
       "      <th>日期</th>\n",
       "      <th>收入类型</th>\n",
       "      <th>收入额</th>\n",
       "    </tr>\n",
       "  </thead>\n",
       "  <tbody>\n",
       "    <tr>\n",
       "      <th>0</th>\n",
       "      <td>1</td>\n",
       "      <td>2008/12/31</td>\n",
       "      <td>1</td>\n",
       "      <td>1.084218e+10</td>\n",
       "    </tr>\n",
       "    <tr>\n",
       "      <th>1</th>\n",
       "      <td>1</td>\n",
       "      <td>2008/12/31</td>\n",
       "      <td>2</td>\n",
       "      <td>1.259789e+10</td>\n",
       "    </tr>\n",
       "    <tr>\n",
       "      <th>2</th>\n",
       "      <td>1</td>\n",
       "      <td>2008/12/31</td>\n",
       "      <td>3</td>\n",
       "      <td>1.451312e+10</td>\n",
       "    </tr>\n",
       "    <tr>\n",
       "      <th>3</th>\n",
       "      <td>1</td>\n",
       "      <td>2008/12/31</td>\n",
       "      <td>4</td>\n",
       "      <td>1.063843e+09</td>\n",
       "    </tr>\n",
       "    <tr>\n",
       "      <th>4</th>\n",
       "      <td>1</td>\n",
       "      <td>2008/12/31</td>\n",
       "      <td>5</td>\n",
       "      <td>8.513880e+08</td>\n",
       "    </tr>\n",
       "  </tbody>\n",
       "</table>\n",
       "</div>"
      ],
      "text/plain": [
       "   证券代码          日期  收入类型           收入额\n",
       "0     1  2008/12/31     1  1.084218e+10\n",
       "1     1  2008/12/31     2  1.259789e+10\n",
       "2     1  2008/12/31     3  1.451312e+10\n",
       "3     1  2008/12/31     4  1.063843e+09\n",
       "4     1  2008/12/31     5  8.513880e+08"
      ]
     },
     "execution_count": 3,
     "metadata": {},
     "output_type": "execute_result"
    }
   ],
   "source": [
    "# 读取企业详细信息\n",
    "df = pd.read_csv('./data/Task Special/Company_data.csv')\n",
    "df.head()"
   ]
  },
  {
   "cell_type": "code",
   "execution_count": 4,
   "metadata": {
    "ExecuteTime": {
     "end_time": "2021-01-01T08:44:13.388971Z",
     "start_time": "2021-01-01T08:44:13.373906Z"
    }
   },
   "outputs": [
    {
     "data": {
      "text/plain": [
       "253"
      ]
     },
     "execution_count": 4,
     "metadata": {},
     "output_type": "execute_result"
    }
   ],
   "source": [
    "company['证券代码'].nunique()"
   ]
  },
  {
   "cell_type": "code",
   "execution_count": 5,
   "metadata": {
    "ExecuteTime": {
     "end_time": "2021-01-01T08:44:13.408921Z",
     "start_time": "2021-01-01T08:44:13.391000Z"
    }
   },
   "outputs": [
    {
     "data": {
      "text/plain": [
       "3172"
      ]
     },
     "execution_count": 5,
     "metadata": {},
     "output_type": "execute_result"
    }
   ],
   "source": [
    "df['证券代码'].nunique()"
   ]
  },
  {
   "cell_type": "markdown",
   "metadata": {},
   "source": [
    "通过初步观察原始数据，可以得出基本思路如下："
   ]
  },
  {
   "cell_type": "markdown",
   "metadata": {},
   "source": [
    "1. 将`company_data.csv`中的数据按照**证券代码**和**日期**分组。\n",
    "2. 定义一个函数，用来计算收入熵，这个函数返回一个标量。\n",
    "3. （有可能不对）利用`agg`方法分组计算收入熵。或者考虑利用`transform`，然后取唯一值。\n",
    "4. 将`company.csv`与操作后的表进行左连接。"
   ]
  },
  {
   "cell_type": "markdown",
   "metadata": {},
   "source": [
    "需要解决的细节问题问题是："
   ]
  },
  {
   "cell_type": "markdown",
   "metadata": {},
   "source": [
    "1. 将`company_data.csv`的证券代码格式化。\n"
   ]
  },
  {
   "cell_type": "code",
   "execution_count": 6,
   "metadata": {
    "ExecuteTime": {
     "end_time": "2021-01-01T08:44:13.855343Z",
     "start_time": "2021-01-01T08:44:13.411914Z"
    }
   },
   "outputs": [],
   "source": [
    "# 将证券代码格式化\n",
    "df['证券代码'] = ['#%06d' % x for x in df['证券代码']]"
   ]
  },
  {
   "cell_type": "markdown",
   "metadata": {},
   "source": [
    "可以看到，第二张表记录了2008年至2016年的数据"
   ]
  },
  {
   "cell_type": "code",
   "execution_count": 7,
   "metadata": {
    "ExecuteTime": {
     "end_time": "2021-01-01T08:44:13.948867Z",
     "start_time": "2021-01-01T08:44:13.855343Z"
    }
   },
   "outputs": [
    {
     "data": {
      "text/plain": [
       "2013/12/31    155994\n",
       "2012/12/31    149876\n",
       "2016/12/31    122270\n",
       "2011/12/31    117346\n",
       "2015/12/31    109262\n",
       "2014/12/31     92848\n",
       "2010/12/31     90877\n",
       "2009/12/31     73401\n",
       "2008/12/31     52148\n",
       "Name: 日期, dtype: int64"
      ]
     },
     "execution_count": 7,
     "metadata": {},
     "output_type": "execute_result"
    }
   ],
   "source": [
    "df['日期'].value_counts()"
   ]
  },
  {
   "cell_type": "markdown",
   "metadata": {},
   "source": [
    "将日期数据改为年份。"
   ]
  },
  {
   "cell_type": "code",
   "execution_count": 8,
   "metadata": {
    "ExecuteTime": {
     "end_time": "2021-01-01T08:44:14.387435Z",
     "start_time": "2021-01-01T08:44:13.951732Z"
    }
   },
   "outputs": [],
   "source": [
    "df['日期'] = [x.split('/')[0] for x in df['日期']]"
   ]
  },
  {
   "cell_type": "code",
   "execution_count": 9,
   "metadata": {
    "ExecuteTime": {
     "end_time": "2021-01-01T08:44:14.403099Z",
     "start_time": "2021-01-01T08:44:14.387435Z"
    },
    "scrolled": true
   },
   "outputs": [
    {
     "data": {
      "text/html": [
       "<div>\n",
       "<style scoped>\n",
       "    .dataframe tbody tr th:only-of-type {\n",
       "        vertical-align: middle;\n",
       "    }\n",
       "\n",
       "    .dataframe tbody tr th {\n",
       "        vertical-align: top;\n",
       "    }\n",
       "\n",
       "    .dataframe thead th {\n",
       "        text-align: right;\n",
       "    }\n",
       "</style>\n",
       "<table border=\"1\" class=\"dataframe\">\n",
       "  <thead>\n",
       "    <tr style=\"text-align: right;\">\n",
       "      <th></th>\n",
       "      <th>证券代码</th>\n",
       "      <th>日期</th>\n",
       "      <th>收入类型</th>\n",
       "      <th>收入额</th>\n",
       "    </tr>\n",
       "  </thead>\n",
       "  <tbody>\n",
       "    <tr>\n",
       "      <th>0</th>\n",
       "      <td>#000001</td>\n",
       "      <td>2008</td>\n",
       "      <td>1</td>\n",
       "      <td>1.084218e+10</td>\n",
       "    </tr>\n",
       "    <tr>\n",
       "      <th>1</th>\n",
       "      <td>#000001</td>\n",
       "      <td>2008</td>\n",
       "      <td>2</td>\n",
       "      <td>1.259789e+10</td>\n",
       "    </tr>\n",
       "    <tr>\n",
       "      <th>2</th>\n",
       "      <td>#000001</td>\n",
       "      <td>2008</td>\n",
       "      <td>3</td>\n",
       "      <td>1.451312e+10</td>\n",
       "    </tr>\n",
       "    <tr>\n",
       "      <th>3</th>\n",
       "      <td>#000001</td>\n",
       "      <td>2008</td>\n",
       "      <td>4</td>\n",
       "      <td>1.063843e+09</td>\n",
       "    </tr>\n",
       "    <tr>\n",
       "      <th>4</th>\n",
       "      <td>#000001</td>\n",
       "      <td>2008</td>\n",
       "      <td>5</td>\n",
       "      <td>8.513880e+08</td>\n",
       "    </tr>\n",
       "  </tbody>\n",
       "</table>\n",
       "</div>"
      ],
      "text/plain": [
       "      证券代码    日期  收入类型           收入额\n",
       "0  #000001  2008     1  1.084218e+10\n",
       "1  #000001  2008     2  1.259789e+10\n",
       "2  #000001  2008     3  1.451312e+10\n",
       "3  #000001  2008     4  1.063843e+09\n",
       "4  #000001  2008     5  8.513880e+08"
      ]
     },
     "execution_count": 9,
     "metadata": {},
     "output_type": "execute_result"
    }
   ],
   "source": [
    "df.head()"
   ]
  },
  {
   "cell_type": "markdown",
   "metadata": {},
   "source": [
    "先取出某一个公司，某一年的收入情况，进行初步尝试。"
   ]
  },
  {
   "cell_type": "code",
   "execution_count": 10,
   "metadata": {
    "ExecuteTime": {
     "end_time": "2021-01-01T08:44:14.630012Z",
     "start_time": "2021-01-01T08:44:14.405930Z"
    }
   },
   "outputs": [],
   "source": [
    "ex = df.loc[(df['证券代码']=='#000001') & (df['日期']=='2008')].reset_index()"
   ]
  },
  {
   "cell_type": "markdown",
   "metadata": {},
   "source": [
    "生成新的一列，表示单项收入占比。"
   ]
  },
  {
   "cell_type": "code",
   "execution_count": 11,
   "metadata": {
    "ExecuteTime": {
     "end_time": "2021-01-01T08:44:14.661078Z",
     "start_time": "2021-01-01T08:44:14.630012Z"
    }
   },
   "outputs": [],
   "source": [
    "ex['比例'] = ex['收入额']/ex['收入额'].sum()"
   ]
  },
  {
   "cell_type": "code",
   "execution_count": 12,
   "metadata": {
    "ExecuteTime": {
     "end_time": "2021-01-01T08:44:14.678308Z",
     "start_time": "2021-01-01T08:44:14.661078Z"
    }
   },
   "outputs": [
    {
     "name": "stderr",
     "output_type": "stream",
     "text": [
      "C:\\Users\\LWKM\\Anaconda3\\lib\\site-packages\\pandas\\core\\series.py:726: RuntimeWarning: invalid value encountered in log\n",
      "  result = getattr(ufunc, method)(*inputs, **kwargs)\n"
     ]
    },
    {
     "data": {
      "text/plain": [
       "0    -0.283522\n",
       "1    -0.303478\n",
       "2    -0.321419\n",
       "3    -0.061724\n",
       "4    -0.052001\n",
       "5    -0.100929\n",
       "6          NaN\n",
       "7    -0.267157\n",
       "8          NaN\n",
       "9    -0.260948\n",
       "10   -0.283090\n",
       "11   -0.035319\n",
       "12   -0.071894\n",
       "13   -0.043679\n",
       "Name: 比例, dtype: float64"
      ]
     },
     "execution_count": 12,
     "metadata": {},
     "output_type": "execute_result"
    }
   ],
   "source": [
    "ex['比例']*np.log(ex['比例'])    "
   ]
  },
  {
   "cell_type": "markdown",
   "metadata": {},
   "source": [
    "这里出现了一个问题：若收入为**负或零**，则无法取对数。"
   ]
  },
  {
   "cell_type": "code",
   "execution_count": 13,
   "metadata": {
    "ExecuteTime": {
     "end_time": "2021-01-01T08:44:14.706238Z",
     "start_time": "2021-01-01T08:44:14.680304Z"
    }
   },
   "outputs": [
    {
     "data": {
      "text/plain": [
       "2904"
      ]
     },
     "execution_count": 13,
     "metadata": {},
     "output_type": "execute_result"
    }
   ],
   "source": [
    "df.loc[df['收入额']<=0]['证券代码'].nunique()"
   ]
  },
  {
   "cell_type": "code",
   "execution_count": 14,
   "metadata": {
    "ExecuteTime": {
     "end_time": "2021-01-01T08:44:14.787908Z",
     "start_time": "2021-01-01T08:44:14.708200Z"
    }
   },
   "outputs": [
    {
     "data": {
      "text/plain": [
       "3172"
      ]
     },
     "execution_count": 14,
     "metadata": {},
     "output_type": "execute_result"
    }
   ],
   "source": [
    "df['证券代码'].nunique()"
   ]
  },
  {
   "cell_type": "markdown",
   "metadata": {},
   "source": [
    "实现任务时可以暂时排除存在负收入业务的公司。"
   ]
  },
  {
   "cell_type": "code",
   "execution_count": 15,
   "metadata": {
    "ExecuteTime": {
     "end_time": "2021-01-01T08:44:14.858761Z",
     "start_time": "2021-01-01T08:44:14.790933Z"
    }
   },
   "outputs": [],
   "source": [
    "# 生成有负收入企业的代码\n",
    "al = set(df['证券代码'].unique())\n",
    "neg = set(df.loc[df['收入额']<0]['证券代码'].unique())"
   ]
  },
  {
   "cell_type": "code",
   "execution_count": 16,
   "metadata": {
    "ExecuteTime": {
     "end_time": "2021-01-01T08:44:14.867728Z",
     "start_time": "2021-01-01T08:44:14.859714Z"
    }
   },
   "outputs": [],
   "source": [
    "# 取补集\n",
    "pos = pd.DataFrame(list(al.difference(neg)),columns=['证券代码'])"
   ]
  },
  {
   "cell_type": "code",
   "execution_count": 17,
   "metadata": {
    "ExecuteTime": {
     "end_time": "2021-01-01T08:44:15.276260Z",
     "start_time": "2021-01-01T08:44:14.869690Z"
    }
   },
   "outputs": [],
   "source": [
    "# 保留各项收入均为正的企业\n",
    "pos = pos.merge(df,on='证券代码',how='left')"
   ]
  },
  {
   "cell_type": "code",
   "execution_count": 18,
   "metadata": {
    "ExecuteTime": {
     "end_time": "2021-01-01T08:44:15.295729Z",
     "start_time": "2021-01-01T08:44:15.276260Z"
    }
   },
   "outputs": [
    {
     "data": {
      "text/html": [
       "<div>\n",
       "<style scoped>\n",
       "    .dataframe tbody tr th:only-of-type {\n",
       "        vertical-align: middle;\n",
       "    }\n",
       "\n",
       "    .dataframe tbody tr th {\n",
       "        vertical-align: top;\n",
       "    }\n",
       "\n",
       "    .dataframe thead th {\n",
       "        text-align: right;\n",
       "    }\n",
       "</style>\n",
       "<table border=\"1\" class=\"dataframe\">\n",
       "  <thead>\n",
       "    <tr style=\"text-align: right;\">\n",
       "      <th></th>\n",
       "      <th>证券代码</th>\n",
       "      <th>日期</th>\n",
       "      <th>收入类型</th>\n",
       "      <th>收入额</th>\n",
       "    </tr>\n",
       "  </thead>\n",
       "  <tbody>\n",
       "    <tr>\n",
       "      <th>0</th>\n",
       "      <td>#002451</td>\n",
       "      <td>2010</td>\n",
       "      <td>1</td>\n",
       "      <td>6.855732e+07</td>\n",
       "    </tr>\n",
       "    <tr>\n",
       "      <th>1</th>\n",
       "      <td>#002451</td>\n",
       "      <td>2010</td>\n",
       "      <td>2</td>\n",
       "      <td>2.667245e+08</td>\n",
       "    </tr>\n",
       "    <tr>\n",
       "      <th>2</th>\n",
       "      <td>#002451</td>\n",
       "      <td>2010</td>\n",
       "      <td>3</td>\n",
       "      <td>2.127605e+07</td>\n",
       "    </tr>\n",
       "    <tr>\n",
       "      <th>3</th>\n",
       "      <td>#002451</td>\n",
       "      <td>2010</td>\n",
       "      <td>4</td>\n",
       "      <td>3.565579e+08</td>\n",
       "    </tr>\n",
       "    <tr>\n",
       "      <th>4</th>\n",
       "      <td>#002451</td>\n",
       "      <td>2010</td>\n",
       "      <td>5</td>\n",
       "      <td>8.925571e+05</td>\n",
       "    </tr>\n",
       "  </tbody>\n",
       "</table>\n",
       "</div>"
      ],
      "text/plain": [
       "      证券代码    日期  收入类型           收入额\n",
       "0  #002451  2010     1  6.855732e+07\n",
       "1  #002451  2010     2  2.667245e+08\n",
       "2  #002451  2010     3  2.127605e+07\n",
       "3  #002451  2010     4  3.565579e+08\n",
       "4  #002451  2010     5  8.925571e+05"
      ]
     },
     "execution_count": 18,
     "metadata": {},
     "output_type": "execute_result"
    }
   ],
   "source": [
    "pos.head()"
   ]
  },
  {
   "cell_type": "code",
   "execution_count": 19,
   "metadata": {
    "ExecuteTime": {
     "end_time": "2021-01-01T08:44:23.820779Z",
     "start_time": "2021-01-01T08:44:15.297724Z"
    }
   },
   "outputs": [],
   "source": [
    "pos['比例'] = pos.groupby(['证券代码','日期'])['收入额'].transform(lambda x: x/x.sum())"
   ]
  },
  {
   "cell_type": "code",
   "execution_count": 20,
   "metadata": {
    "ExecuteTime": {
     "end_time": "2021-01-01T08:44:30.159514Z",
     "start_time": "2021-01-01T08:44:23.820779Z"
    }
   },
   "outputs": [
    {
     "name": "stderr",
     "output_type": "stream",
     "text": [
      "C:\\Users\\LWKM\\Anaconda3\\lib\\site-packages\\pandas\\core\\series.py:726: RuntimeWarning: divide by zero encountered in log\n",
      "  result = getattr(ufunc, method)(*inputs, **kwargs)\n"
     ]
    }
   ],
   "source": [
    "entro = pos.groupby(['证券代码','日期'])['比例'].agg([('收入熵',lambda x: -(x*np.log(x)).sum())])"
   ]
  },
  {
   "cell_type": "code",
   "execution_count": 21,
   "metadata": {
    "ExecuteTime": {
     "end_time": "2021-01-01T08:44:30.169737Z",
     "start_time": "2021-01-01T08:44:30.159514Z"
    }
   },
   "outputs": [],
   "source": [
    "entro = entro.reset_index()"
   ]
  },
  {
   "cell_type": "code",
   "execution_count": 22,
   "metadata": {
    "ExecuteTime": {
     "end_time": "2021-01-01T08:44:30.178682Z",
     "start_time": "2021-01-01T08:44:30.171699Z"
    }
   },
   "outputs": [],
   "source": [
    "entro['日期'] = entro['日期'].astype('int')"
   ]
  },
  {
   "cell_type": "code",
   "execution_count": 23,
   "metadata": {
    "ExecuteTime": {
     "end_time": "2021-01-01T08:44:30.203656Z",
     "start_time": "2021-01-01T08:44:30.188665Z"
    }
   },
   "outputs": [],
   "source": [
    "company = company.merge(entro,on=['证券代码','日期'],how='left')"
   ]
  },
  {
   "cell_type": "markdown",
   "metadata": {},
   "source": [
    "**最终结果**如下："
   ]
  },
  {
   "cell_type": "code",
   "execution_count": 24,
   "metadata": {
    "ExecuteTime": {
     "end_time": "2021-01-01T08:44:30.217587Z",
     "start_time": "2021-01-01T08:44:30.206607Z"
    }
   },
   "outputs": [
    {
     "data": {
      "text/html": [
       "<div>\n",
       "<style scoped>\n",
       "    .dataframe tbody tr th:only-of-type {\n",
       "        vertical-align: middle;\n",
       "    }\n",
       "\n",
       "    .dataframe tbody tr th {\n",
       "        vertical-align: top;\n",
       "    }\n",
       "\n",
       "    .dataframe thead th {\n",
       "        text-align: right;\n",
       "    }\n",
       "</style>\n",
       "<table border=\"1\" class=\"dataframe\">\n",
       "  <thead>\n",
       "    <tr style=\"text-align: right;\">\n",
       "      <th></th>\n",
       "      <th>证券代码</th>\n",
       "      <th>日期</th>\n",
       "      <th>收入熵</th>\n",
       "    </tr>\n",
       "  </thead>\n",
       "  <tbody>\n",
       "    <tr>\n",
       "      <th>0</th>\n",
       "      <td>#000007</td>\n",
       "      <td>2014</td>\n",
       "      <td>3.070462</td>\n",
       "    </tr>\n",
       "    <tr>\n",
       "      <th>1</th>\n",
       "      <td>#000403</td>\n",
       "      <td>2015</td>\n",
       "      <td>2.790585</td>\n",
       "    </tr>\n",
       "    <tr>\n",
       "      <th>2</th>\n",
       "      <td>#000408</td>\n",
       "      <td>2016</td>\n",
       "      <td>2.818541</td>\n",
       "    </tr>\n",
       "    <tr>\n",
       "      <th>3</th>\n",
       "      <td>#000408</td>\n",
       "      <td>2017</td>\n",
       "      <td>NaN</td>\n",
       "    </tr>\n",
       "    <tr>\n",
       "      <th>4</th>\n",
       "      <td>#000426</td>\n",
       "      <td>2015</td>\n",
       "      <td>3.084266</td>\n",
       "    </tr>\n",
       "    <tr>\n",
       "      <th>5</th>\n",
       "      <td>#000426</td>\n",
       "      <td>2016</td>\n",
       "      <td>2.988900</td>\n",
       "    </tr>\n",
       "    <tr>\n",
       "      <th>6</th>\n",
       "      <td>#000426</td>\n",
       "      <td>2017</td>\n",
       "      <td>NaN</td>\n",
       "    </tr>\n",
       "    <tr>\n",
       "      <th>7</th>\n",
       "      <td>#000511</td>\n",
       "      <td>2012</td>\n",
       "      <td>3.123733</td>\n",
       "    </tr>\n",
       "    <tr>\n",
       "      <th>8</th>\n",
       "      <td>#000511</td>\n",
       "      <td>2013</td>\n",
       "      <td>3.121685</td>\n",
       "    </tr>\n",
       "    <tr>\n",
       "      <th>9</th>\n",
       "      <td>#000571</td>\n",
       "      <td>2014</td>\n",
       "      <td>2.858982</td>\n",
       "    </tr>\n",
       "  </tbody>\n",
       "</table>\n",
       "</div>"
      ],
      "text/plain": [
       "      证券代码    日期       收入熵\n",
       "0  #000007  2014  3.070462\n",
       "1  #000403  2015  2.790585\n",
       "2  #000408  2016  2.818541\n",
       "3  #000408  2017       NaN\n",
       "4  #000426  2015  3.084266\n",
       "5  #000426  2016  2.988900\n",
       "6  #000426  2017       NaN\n",
       "7  #000511  2012  3.123733\n",
       "8  #000511  2013  3.121685\n",
       "9  #000571  2014  2.858982"
      ]
     },
     "execution_count": 24,
     "metadata": {},
     "output_type": "execute_result"
    }
   ],
   "source": [
    "company.head(10)"
   ]
  },
  {
   "cell_type": "markdown",
   "metadata": {},
   "source": [
    "## 【任务二】组队学习信息表的变换"
   ]
  },
  {
   "cell_type": "code",
   "execution_count": 25,
   "metadata": {
    "ExecuteTime": {
     "end_time": "2021-01-01T08:44:30.299363Z",
     "start_time": "2021-01-01T08:44:30.220571Z"
    }
   },
   "outputs": [],
   "source": [
    "team = pd.read_excel('./data/Task Special/组队信息汇总表（Pandas）.xlsx')"
   ]
  },
  {
   "cell_type": "code",
   "execution_count": 26,
   "metadata": {
    "ExecuteTime": {
     "end_time": "2021-01-01T08:44:30.319305Z",
     "start_time": "2021-01-01T08:44:30.304346Z"
    }
   },
   "outputs": [
    {
     "name": "stdout",
     "output_type": "stream",
     "text": [
      "<class 'pandas.core.frame.DataFrame'>\n",
      "RangeIndex: 21 entries, 0 to 20\n",
      "Data columns (total 24 columns):\n",
      " #   Column    Non-Null Count  Dtype  \n",
      "---  ------    --------------  -----  \n",
      " 0   所在群       21 non-null     object \n",
      " 1   队伍名称      21 non-null     object \n",
      " 2   队长编号      21 non-null     int64  \n",
      " 3   队长_群昵称    21 non-null     object \n",
      " 4   队员1 编号    21 non-null     int64  \n",
      " 5   队员_群昵称    21 non-null     object \n",
      " 6   队员2 编号    20 non-null     float64\n",
      " 7   队员_群昵称.1  20 non-null     object \n",
      " 8   队员3 编号    18 non-null     float64\n",
      " 9   队员_群昵称.2  18 non-null     object \n",
      " 10  队员4 编号    16 non-null     float64\n",
      " 11  队员_群昵称.3  16 non-null     object \n",
      " 12  队员5 编号    14 non-null     float64\n",
      " 13  队员_群昵称.4  14 non-null     object \n",
      " 14  队员6 编号    13 non-null     float64\n",
      " 15  队员_群昵称.5  13 non-null     object \n",
      " 16  队员7 编号    10 non-null     float64\n",
      " 17  队员_群昵称.6  10 non-null     object \n",
      " 18  队员8 编号    8 non-null      float64\n",
      " 19  队员_群昵称.7  8 non-null      object \n",
      " 20  队员9 编号    4 non-null      float64\n",
      " 21  队员_群昵称.8  4 non-null      object \n",
      " 22  队员10编号    1 non-null      float64\n",
      " 23  队员_群昵称.9  1 non-null      object \n",
      "dtypes: float64(9), int64(2), object(13)\n",
      "memory usage: 4.1+ KB\n"
     ]
    }
   ],
   "source": [
    "team.info()"
   ]
  },
  {
   "cell_type": "code",
   "execution_count": 27,
   "metadata": {
    "ExecuteTime": {
     "end_time": "2021-01-01T08:44:30.353260Z",
     "start_time": "2021-01-01T08:44:30.321334Z"
    }
   },
   "outputs": [
    {
     "data": {
      "text/html": [
       "<div>\n",
       "<style scoped>\n",
       "    .dataframe tbody tr th:only-of-type {\n",
       "        vertical-align: middle;\n",
       "    }\n",
       "\n",
       "    .dataframe tbody tr th {\n",
       "        vertical-align: top;\n",
       "    }\n",
       "\n",
       "    .dataframe thead th {\n",
       "        text-align: right;\n",
       "    }\n",
       "</style>\n",
       "<table border=\"1\" class=\"dataframe\">\n",
       "  <thead>\n",
       "    <tr style=\"text-align: right;\">\n",
       "      <th></th>\n",
       "      <th>所在群</th>\n",
       "      <th>队伍名称</th>\n",
       "      <th>队长编号</th>\n",
       "      <th>队长_群昵称</th>\n",
       "      <th>队员1 编号</th>\n",
       "      <th>队员_群昵称</th>\n",
       "      <th>队员2 编号</th>\n",
       "      <th>队员_群昵称.1</th>\n",
       "      <th>队员3 编号</th>\n",
       "      <th>队员_群昵称.2</th>\n",
       "      <th>...</th>\n",
       "      <th>队员6 编号</th>\n",
       "      <th>队员_群昵称.5</th>\n",
       "      <th>队员7 编号</th>\n",
       "      <th>队员_群昵称.6</th>\n",
       "      <th>队员8 编号</th>\n",
       "      <th>队员_群昵称.7</th>\n",
       "      <th>队员9 编号</th>\n",
       "      <th>队员_群昵称.8</th>\n",
       "      <th>队员10编号</th>\n",
       "      <th>队员_群昵称.9</th>\n",
       "    </tr>\n",
       "  </thead>\n",
       "  <tbody>\n",
       "    <tr>\n",
       "      <th>0</th>\n",
       "      <td>Pandas数据分析</td>\n",
       "      <td>你说的都对队</td>\n",
       "      <td>5</td>\n",
       "      <td>山枫叶纷飞</td>\n",
       "      <td>6</td>\n",
       "      <td>蔡</td>\n",
       "      <td>7.0</td>\n",
       "      <td>安慕希</td>\n",
       "      <td>8.0</td>\n",
       "      <td>信仰</td>\n",
       "      <td>...</td>\n",
       "      <td>NaN</td>\n",
       "      <td>NaN</td>\n",
       "      <td>NaN</td>\n",
       "      <td>NaN</td>\n",
       "      <td>NaN</td>\n",
       "      <td>NaN</td>\n",
       "      <td>NaN</td>\n",
       "      <td>NaN</td>\n",
       "      <td>NaN</td>\n",
       "      <td>NaN</td>\n",
       "    </tr>\n",
       "    <tr>\n",
       "      <th>1</th>\n",
       "      <td>Pandas数据分析</td>\n",
       "      <td>熊猫人</td>\n",
       "      <td>175</td>\n",
       "      <td>鱼呲呲</td>\n",
       "      <td>44</td>\n",
       "      <td>Heaven</td>\n",
       "      <td>37.0</td>\n",
       "      <td>吕青</td>\n",
       "      <td>50.0</td>\n",
       "      <td>余柳成荫</td>\n",
       "      <td>...</td>\n",
       "      <td>25.0</td>\n",
       "      <td>Never say never</td>\n",
       "      <td>55.0</td>\n",
       "      <td>K</td>\n",
       "      <td>120.0</td>\n",
       "      <td>Y.</td>\n",
       "      <td>28.0</td>\n",
       "      <td>X.Y.Q</td>\n",
       "      <td>151.0</td>\n",
       "      <td>swrong</td>\n",
       "    </tr>\n",
       "    <tr>\n",
       "      <th>2</th>\n",
       "      <td>Pandas数据分析</td>\n",
       "      <td>中国移不动</td>\n",
       "      <td>107</td>\n",
       "      <td>Y's</td>\n",
       "      <td>124</td>\n",
       "      <td>🥕</td>\n",
       "      <td>75.0</td>\n",
       "      <td>Vito</td>\n",
       "      <td>146.0</td>\n",
       "      <td>张小五</td>\n",
       "      <td>...</td>\n",
       "      <td>NaN</td>\n",
       "      <td>NaN</td>\n",
       "      <td>NaN</td>\n",
       "      <td>NaN</td>\n",
       "      <td>NaN</td>\n",
       "      <td>NaN</td>\n",
       "      <td>NaN</td>\n",
       "      <td>NaN</td>\n",
       "      <td>NaN</td>\n",
       "      <td>NaN</td>\n",
       "    </tr>\n",
       "    <tr>\n",
       "      <th>3</th>\n",
       "      <td>Pandas数据分析</td>\n",
       "      <td>panda</td>\n",
       "      <td>11</td>\n",
       "      <td>太下真君</td>\n",
       "      <td>35</td>\n",
       "      <td>柚子</td>\n",
       "      <td>108.0</td>\n",
       "      <td>My</td>\n",
       "      <td>42.0</td>\n",
       "      <td>星星点灯</td>\n",
       "      <td>...</td>\n",
       "      <td>157.0</td>\n",
       "      <td>Zys</td>\n",
       "      <td>158.0</td>\n",
       "      <td>不器</td>\n",
       "      <td>102.0</td>\n",
       "      <td>嘉平佑染</td>\n",
       "      <td>NaN</td>\n",
       "      <td>NaN</td>\n",
       "      <td>NaN</td>\n",
       "      <td>NaN</td>\n",
       "    </tr>\n",
       "    <tr>\n",
       "      <th>4</th>\n",
       "      <td>Pandas数据分析</td>\n",
       "      <td>一路向北</td>\n",
       "      <td>13</td>\n",
       "      <td>黄元帅</td>\n",
       "      <td>15</td>\n",
       "      <td>化</td>\n",
       "      <td>16.0</td>\n",
       "      <td>未期</td>\n",
       "      <td>18.0</td>\n",
       "      <td>太陽光下</td>\n",
       "      <td>...</td>\n",
       "      <td>23.0</td>\n",
       "      <td>🚀</td>\n",
       "      <td>169.0</td>\n",
       "      <td>听风</td>\n",
       "      <td>189.0</td>\n",
       "      <td>Cappuccino</td>\n",
       "      <td>NaN</td>\n",
       "      <td>NaN</td>\n",
       "      <td>NaN</td>\n",
       "      <td>NaN</td>\n",
       "    </tr>\n",
       "  </tbody>\n",
       "</table>\n",
       "<p>5 rows × 24 columns</p>\n",
       "</div>"
      ],
      "text/plain": [
       "          所在群    队伍名称  队长编号  队长_群昵称  队员1 编号  队员_群昵称  队员2 编号 队员_群昵称.1  队员3 编号  \\\n",
       "0  Pandas数据分析  你说的都对队     5  山枫叶纷飞        6      蔡      7.0     安慕希      8.0   \n",
       "1  Pandas数据分析     熊猫人   175     鱼呲呲      44  Heaven    37.0       吕青    50.0   \n",
       "2  Pandas数据分析   中国移不动   107     Y's     124       🥕    75.0     Vito   146.0   \n",
       "3  Pandas数据分析   panda    11    太下真君      35      柚子   108.0       My    42.0   \n",
       "4  Pandas数据分析    一路向北    13     黄元帅      15       化    16.0       未期    18.0   \n",
       "\n",
       "  队员_群昵称.2  ...  队员6 编号         队员_群昵称.5  队员7 编号 队员_群昵称.6  队员8 编号    队员_群昵称.7  \\\n",
       "0       信仰  ...     NaN              NaN     NaN      NaN     NaN         NaN   \n",
       "1     余柳成荫  ...    25.0  Never say never    55.0        K   120.0          Y.   \n",
       "2      张小五  ...     NaN              NaN     NaN      NaN     NaN         NaN   \n",
       "3     星星点灯  ...   157.0              Zys   158.0       不器   102.0        嘉平佑染   \n",
       "4     太陽光下  ...    23.0                🚀   169.0       听风   189.0  Cappuccino   \n",
       "\n",
       "   队员9 编号 队员_群昵称.8  队员10编号 队员_群昵称.9  \n",
       "0     NaN      NaN     NaN      NaN  \n",
       "1    28.0    X.Y.Q   151.0   swrong  \n",
       "2     NaN      NaN     NaN      NaN  \n",
       "3     NaN      NaN     NaN      NaN  \n",
       "4     NaN      NaN     NaN      NaN  \n",
       "\n",
       "[5 rows x 24 columns]"
      ]
     },
     "execution_count": 27,
     "metadata": {},
     "output_type": "execute_result"
    }
   ],
   "source": [
    "team.head()"
   ]
  },
  {
   "cell_type": "markdown",
   "metadata": {},
   "source": [
    "可以看出，本任务的主要目标是实现从宽表到长表的变形。"
   ]
  },
  {
   "cell_type": "markdown",
   "metadata": {},
   "source": [
    "结合原表特征，应该采用`wide_to_long`方法。"
   ]
  },
  {
   "cell_type": "markdown",
   "metadata": {},
   "source": [
    "本题技术难点：列名称并不理想，可能需要调整和格式化？"
   ]
  },
  {
   "cell_type": "markdown",
   "metadata": {},
   "source": [
    "实在不行，可以考虑**暴力重命名**"
   ]
  },
  {
   "cell_type": "code",
   "execution_count": 28,
   "metadata": {
    "ExecuteTime": {
     "end_time": "2021-01-01T08:44:30.360229Z",
     "start_time": "2021-01-01T08:44:30.355210Z"
    }
   },
   "outputs": [],
   "source": [
    "cl = ['所在群','队伍名称','编号_队长','昵称_队长','编号_队员1','昵称_队员1',\n",
    "      '编号_队员2','昵称_队员2','编号_队员3','昵称_队员3','编号_队员4','昵称_队员4',\n",
    "      '编号_队员5','昵称_队员5','编号_队员6','昵称_队员6','编号_队员7','昵称_队员7',\n",
    "      '编号_队员8','昵称_队员8','编号_队员9','昵称_队员9','编号_队员10','昵称_队员10']"
   ]
  },
  {
   "cell_type": "code",
   "execution_count": 29,
   "metadata": {
    "ExecuteTime": {
     "end_time": "2021-01-01T08:44:30.367179Z",
     "start_time": "2021-01-01T08:44:30.363191Z"
    }
   },
   "outputs": [],
   "source": [
    "team.columns = cl"
   ]
  },
  {
   "cell_type": "code",
   "execution_count": 30,
   "metadata": {
    "ExecuteTime": {
     "end_time": "2021-01-01T08:44:30.405080Z",
     "start_time": "2021-01-01T08:44:30.369171Z"
    }
   },
   "outputs": [],
   "source": [
    "team = pd.wide_to_long(team, stubnames = ['编号','昵称'], i = ['所在群','队伍名称'], j = 'member',sep = '_',suffix='.+')"
   ]
  },
  {
   "cell_type": "code",
   "execution_count": 31,
   "metadata": {
    "ExecuteTime": {
     "end_time": "2021-01-01T08:44:30.417043Z",
     "start_time": "2021-01-01T08:44:30.408067Z"
    }
   },
   "outputs": [],
   "source": [
    "team = team.reset_index()"
   ]
  },
  {
   "cell_type": "code",
   "execution_count": 32,
   "metadata": {
    "ExecuteTime": {
     "end_time": "2021-01-01T08:44:30.426019Z",
     "start_time": "2021-01-01T08:44:30.419038Z"
    }
   },
   "outputs": [],
   "source": [
    "# 保留非空记录\n",
    "team = team.iloc[:,1:].loc[team['编号'].isnull()==False].reset_index(drop = True)"
   ]
  },
  {
   "cell_type": "code",
   "execution_count": 33,
   "metadata": {
    "ExecuteTime": {
     "end_time": "2021-01-01T08:44:30.433001Z",
     "start_time": "2021-01-01T08:44:30.428014Z"
    }
   },
   "outputs": [],
   "source": [
    "# 更改格式\n",
    "team['编号'] = team['编号'].astype('int')"
   ]
  },
  {
   "cell_type": "code",
   "execution_count": 34,
   "metadata": {
    "ExecuteTime": {
     "end_time": "2021-01-01T08:44:30.439982Z",
     "start_time": "2021-01-01T08:44:30.434995Z"
    }
   },
   "outputs": [],
   "source": [
    "# 提取队长指标变量\n",
    "team['是否队长'] = pd.get_dummies(team.member)['队长']"
   ]
  },
  {
   "cell_type": "code",
   "execution_count": 35,
   "metadata": {
    "ExecuteTime": {
     "end_time": "2021-01-01T08:44:30.446964Z",
     "start_time": "2021-01-01T08:44:30.441976Z"
    }
   },
   "outputs": [],
   "source": [
    "# 重排顺序\n",
    "team = team.iloc[:,[4,0,3,2]]"
   ]
  },
  {
   "cell_type": "code",
   "execution_count": 36,
   "metadata": {
    "ExecuteTime": {
     "end_time": "2021-01-01T08:44:30.460926Z",
     "start_time": "2021-01-01T08:44:30.448960Z"
    }
   },
   "outputs": [
    {
     "data": {
      "text/html": [
       "<div>\n",
       "<style scoped>\n",
       "    .dataframe tbody tr th:only-of-type {\n",
       "        vertical-align: middle;\n",
       "    }\n",
       "\n",
       "    .dataframe tbody tr th {\n",
       "        vertical-align: top;\n",
       "    }\n",
       "\n",
       "    .dataframe thead th {\n",
       "        text-align: right;\n",
       "    }\n",
       "</style>\n",
       "<table border=\"1\" class=\"dataframe\">\n",
       "  <thead>\n",
       "    <tr style=\"text-align: right;\">\n",
       "      <th></th>\n",
       "      <th>是否队长</th>\n",
       "      <th>队伍名称</th>\n",
       "      <th>昵称</th>\n",
       "      <th>编号</th>\n",
       "    </tr>\n",
       "  </thead>\n",
       "  <tbody>\n",
       "    <tr>\n",
       "      <th>0</th>\n",
       "      <td>1</td>\n",
       "      <td>你说的都对队</td>\n",
       "      <td>山枫叶纷飞</td>\n",
       "      <td>5</td>\n",
       "    </tr>\n",
       "    <tr>\n",
       "      <th>1</th>\n",
       "      <td>0</td>\n",
       "      <td>你说的都对队</td>\n",
       "      <td>蔡</td>\n",
       "      <td>6</td>\n",
       "    </tr>\n",
       "    <tr>\n",
       "      <th>2</th>\n",
       "      <td>0</td>\n",
       "      <td>你说的都对队</td>\n",
       "      <td>安慕希</td>\n",
       "      <td>7</td>\n",
       "    </tr>\n",
       "    <tr>\n",
       "      <th>3</th>\n",
       "      <td>0</td>\n",
       "      <td>你说的都对队</td>\n",
       "      <td>信仰</td>\n",
       "      <td>8</td>\n",
       "    </tr>\n",
       "    <tr>\n",
       "      <th>4</th>\n",
       "      <td>0</td>\n",
       "      <td>你说的都对队</td>\n",
       "      <td>biubiu🙈🙈</td>\n",
       "      <td>20</td>\n",
       "    </tr>\n",
       "    <tr>\n",
       "      <th>...</th>\n",
       "      <td>...</td>\n",
       "      <td>...</td>\n",
       "      <td>...</td>\n",
       "      <td>...</td>\n",
       "    </tr>\n",
       "    <tr>\n",
       "      <th>141</th>\n",
       "      <td>0</td>\n",
       "      <td>七星联盟</td>\n",
       "      <td>Daisy</td>\n",
       "      <td>63</td>\n",
       "    </tr>\n",
       "    <tr>\n",
       "      <th>142</th>\n",
       "      <td>0</td>\n",
       "      <td>七星联盟</td>\n",
       "      <td>One Better</td>\n",
       "      <td>131</td>\n",
       "    </tr>\n",
       "    <tr>\n",
       "      <th>143</th>\n",
       "      <td>0</td>\n",
       "      <td>七星联盟</td>\n",
       "      <td>rain</td>\n",
       "      <td>112</td>\n",
       "    </tr>\n",
       "    <tr>\n",
       "      <th>144</th>\n",
       "      <td>1</td>\n",
       "      <td>应如是</td>\n",
       "      <td>思无邪</td>\n",
       "      <td>54</td>\n",
       "    </tr>\n",
       "    <tr>\n",
       "      <th>145</th>\n",
       "      <td>0</td>\n",
       "      <td>应如是</td>\n",
       "      <td>Justzer0</td>\n",
       "      <td>58</td>\n",
       "    </tr>\n",
       "  </tbody>\n",
       "</table>\n",
       "<p>146 rows × 4 columns</p>\n",
       "</div>"
      ],
      "text/plain": [
       "     是否队长    队伍名称          昵称   编号\n",
       "0       1  你说的都对队      山枫叶纷飞     5\n",
       "1       0  你说的都对队          蔡     6\n",
       "2       0  你说的都对队        安慕希     7\n",
       "3       0  你说的都对队          信仰    8\n",
       "4       0  你说的都对队    biubiu🙈🙈   20\n",
       "..    ...     ...         ...  ...\n",
       "141     0    七星联盟       Daisy   63\n",
       "142     0    七星联盟  One Better  131\n",
       "143     0    七星联盟        rain  112\n",
       "144     1     应如是         思无邪   54\n",
       "145     0     应如是    Justzer0   58\n",
       "\n",
       "[146 rows x 4 columns]"
      ]
     },
     "execution_count": 36,
     "metadata": {},
     "output_type": "execute_result"
    }
   ],
   "source": [
    "team"
   ]
  },
  {
   "cell_type": "markdown",
   "metadata": {},
   "source": [
    "时间有限，上述解法十分笨拙，但似乎可以达到目标效果。"
   ]
  },
  {
   "cell_type": "markdown",
   "metadata": {},
   "source": [
    "## 【任务三】美国大选投票情况"
   ]
  },
  {
   "cell_type": "code",
   "execution_count": 37,
   "metadata": {
    "ExecuteTime": {
     "end_time": "2021-01-01T08:44:30.510396Z",
     "start_time": "2021-01-01T08:44:30.462922Z"
    }
   },
   "outputs": [],
   "source": [
    "pop = pd.read_csv('./data/Task Special/county_population.csv')\n",
    "vote = pd.read_csv('./data/Task Special/president_county_candidate.csv')"
   ]
  },
  {
   "cell_type": "code",
   "execution_count": 38,
   "metadata": {
    "ExecuteTime": {
     "end_time": "2021-01-01T08:44:30.518509Z",
     "start_time": "2021-01-01T08:44:30.513486Z"
    }
   },
   "outputs": [],
   "source": [
    "s = [x.strip('.') for x in pop['US County']]"
   ]
  },
  {
   "cell_type": "code",
   "execution_count": 39,
   "metadata": {
    "ExecuteTime": {
     "end_time": "2021-01-01T08:44:30.528446Z",
     "start_time": "2021-01-01T08:44:30.521497Z"
    }
   },
   "outputs": [],
   "source": [
    "state = [x.split(', ')[1] for x in s]\n",
    "county = [x.split(', ')[0] for x in s]"
   ]
  },
  {
   "cell_type": "code",
   "execution_count": 40,
   "metadata": {
    "ExecuteTime": {
     "end_time": "2021-01-01T08:44:30.542408Z",
     "start_time": "2021-01-01T08:44:30.532436Z"
    }
   },
   "outputs": [
    {
     "data": {
      "text/html": [
       "<div>\n",
       "<style scoped>\n",
       "    .dataframe tbody tr th:only-of-type {\n",
       "        vertical-align: middle;\n",
       "    }\n",
       "\n",
       "    .dataframe tbody tr th {\n",
       "        vertical-align: top;\n",
       "    }\n",
       "\n",
       "    .dataframe thead th {\n",
       "        text-align: right;\n",
       "    }\n",
       "</style>\n",
       "<table border=\"1\" class=\"dataframe\">\n",
       "  <thead>\n",
       "    <tr style=\"text-align: right;\">\n",
       "      <th></th>\n",
       "      <th>US County</th>\n",
       "      <th>Population</th>\n",
       "    </tr>\n",
       "  </thead>\n",
       "  <tbody>\n",
       "    <tr>\n",
       "      <th>0</th>\n",
       "      <td>.Autauga County, Alabama</td>\n",
       "      <td>55869</td>\n",
       "    </tr>\n",
       "    <tr>\n",
       "      <th>1</th>\n",
       "      <td>.Baldwin County, Alabama</td>\n",
       "      <td>223234</td>\n",
       "    </tr>\n",
       "    <tr>\n",
       "      <th>2</th>\n",
       "      <td>.Barbour County, Alabama</td>\n",
       "      <td>24686</td>\n",
       "    </tr>\n",
       "    <tr>\n",
       "      <th>3</th>\n",
       "      <td>.Bibb County, Alabama</td>\n",
       "      <td>22394</td>\n",
       "    </tr>\n",
       "    <tr>\n",
       "      <th>4</th>\n",
       "      <td>.Blount County, Alabama</td>\n",
       "      <td>57826</td>\n",
       "    </tr>\n",
       "  </tbody>\n",
       "</table>\n",
       "</div>"
      ],
      "text/plain": [
       "                  US County  Population\n",
       "0  .Autauga County, Alabama       55869\n",
       "1  .Baldwin County, Alabama      223234\n",
       "2  .Barbour County, Alabama       24686\n",
       "3     .Bibb County, Alabama       22394\n",
       "4   .Blount County, Alabama       57826"
      ]
     },
     "execution_count": 40,
     "metadata": {},
     "output_type": "execute_result"
    }
   ],
   "source": [
    "pop.head()"
   ]
  },
  {
   "cell_type": "code",
   "execution_count": 41,
   "metadata": {
    "ExecuteTime": {
     "end_time": "2021-01-01T08:44:30.550387Z",
     "start_time": "2021-01-01T08:44:30.544403Z"
    }
   },
   "outputs": [],
   "source": [
    "pop['state'], pop['county'] = state, county"
   ]
  },
  {
   "cell_type": "code",
   "execution_count": 42,
   "metadata": {
    "ExecuteTime": {
     "end_time": "2021-01-01T08:44:30.558400Z",
     "start_time": "2021-01-01T08:44:30.552396Z"
    }
   },
   "outputs": [],
   "source": [
    "pop = pop.iloc[:,[2,3,1]]"
   ]
  },
  {
   "cell_type": "code",
   "execution_count": 43,
   "metadata": {
    "ExecuteTime": {
     "end_time": "2021-01-01T08:44:30.569336Z",
     "start_time": "2021-01-01T08:44:30.560361Z"
    }
   },
   "outputs": [
    {
     "data": {
      "text/html": [
       "<div>\n",
       "<style scoped>\n",
       "    .dataframe tbody tr th:only-of-type {\n",
       "        vertical-align: middle;\n",
       "    }\n",
       "\n",
       "    .dataframe tbody tr th {\n",
       "        vertical-align: top;\n",
       "    }\n",
       "\n",
       "    .dataframe thead th {\n",
       "        text-align: right;\n",
       "    }\n",
       "</style>\n",
       "<table border=\"1\" class=\"dataframe\">\n",
       "  <thead>\n",
       "    <tr style=\"text-align: right;\">\n",
       "      <th></th>\n",
       "      <th>state</th>\n",
       "      <th>county</th>\n",
       "      <th>Population</th>\n",
       "    </tr>\n",
       "  </thead>\n",
       "  <tbody>\n",
       "    <tr>\n",
       "      <th>0</th>\n",
       "      <td>Alabama</td>\n",
       "      <td>Autauga County</td>\n",
       "      <td>55869</td>\n",
       "    </tr>\n",
       "    <tr>\n",
       "      <th>1</th>\n",
       "      <td>Alabama</td>\n",
       "      <td>Baldwin County</td>\n",
       "      <td>223234</td>\n",
       "    </tr>\n",
       "    <tr>\n",
       "      <th>2</th>\n",
       "      <td>Alabama</td>\n",
       "      <td>Barbour County</td>\n",
       "      <td>24686</td>\n",
       "    </tr>\n",
       "    <tr>\n",
       "      <th>3</th>\n",
       "      <td>Alabama</td>\n",
       "      <td>Bibb County</td>\n",
       "      <td>22394</td>\n",
       "    </tr>\n",
       "    <tr>\n",
       "      <th>4</th>\n",
       "      <td>Alabama</td>\n",
       "      <td>Blount County</td>\n",
       "      <td>57826</td>\n",
       "    </tr>\n",
       "  </tbody>\n",
       "</table>\n",
       "</div>"
      ],
      "text/plain": [
       "     state          county  Population\n",
       "0  Alabama  Autauga County       55869\n",
       "1  Alabama  Baldwin County      223234\n",
       "2  Alabama  Barbour County       24686\n",
       "3  Alabama     Bibb County       22394\n",
       "4  Alabama   Blount County       57826"
      ]
     },
     "execution_count": 43,
     "metadata": {},
     "output_type": "execute_result"
    }
   ],
   "source": [
    "pop.head()"
   ]
  },
  {
   "cell_type": "code",
   "execution_count": 44,
   "metadata": {
    "ExecuteTime": {
     "end_time": "2021-01-01T08:44:30.585327Z",
     "start_time": "2021-01-01T08:44:30.572366Z"
    }
   },
   "outputs": [
    {
     "data": {
      "text/html": [
       "<div>\n",
       "<style scoped>\n",
       "    .dataframe tbody tr th:only-of-type {\n",
       "        vertical-align: middle;\n",
       "    }\n",
       "\n",
       "    .dataframe tbody tr th {\n",
       "        vertical-align: top;\n",
       "    }\n",
       "\n",
       "    .dataframe thead th {\n",
       "        text-align: right;\n",
       "    }\n",
       "</style>\n",
       "<table border=\"1\" class=\"dataframe\">\n",
       "  <thead>\n",
       "    <tr style=\"text-align: right;\">\n",
       "      <th></th>\n",
       "      <th>state</th>\n",
       "      <th>county</th>\n",
       "      <th>candidate</th>\n",
       "      <th>party</th>\n",
       "      <th>total_votes</th>\n",
       "      <th>won</th>\n",
       "    </tr>\n",
       "  </thead>\n",
       "  <tbody>\n",
       "    <tr>\n",
       "      <th>0</th>\n",
       "      <td>Delaware</td>\n",
       "      <td>Kent County</td>\n",
       "      <td>Joe Biden</td>\n",
       "      <td>DEM</td>\n",
       "      <td>44552</td>\n",
       "      <td>True</td>\n",
       "    </tr>\n",
       "    <tr>\n",
       "      <th>1</th>\n",
       "      <td>Delaware</td>\n",
       "      <td>Kent County</td>\n",
       "      <td>Donald Trump</td>\n",
       "      <td>REP</td>\n",
       "      <td>41009</td>\n",
       "      <td>False</td>\n",
       "    </tr>\n",
       "    <tr>\n",
       "      <th>2</th>\n",
       "      <td>Delaware</td>\n",
       "      <td>Kent County</td>\n",
       "      <td>Jo Jorgensen</td>\n",
       "      <td>LIB</td>\n",
       "      <td>1044</td>\n",
       "      <td>False</td>\n",
       "    </tr>\n",
       "    <tr>\n",
       "      <th>3</th>\n",
       "      <td>Delaware</td>\n",
       "      <td>Kent County</td>\n",
       "      <td>Howie Hawkins</td>\n",
       "      <td>GRN</td>\n",
       "      <td>420</td>\n",
       "      <td>False</td>\n",
       "    </tr>\n",
       "    <tr>\n",
       "      <th>4</th>\n",
       "      <td>Delaware</td>\n",
       "      <td>New Castle County</td>\n",
       "      <td>Joe Biden</td>\n",
       "      <td>DEM</td>\n",
       "      <td>195034</td>\n",
       "      <td>True</td>\n",
       "    </tr>\n",
       "  </tbody>\n",
       "</table>\n",
       "</div>"
      ],
      "text/plain": [
       "      state             county      candidate party  total_votes    won\n",
       "0  Delaware        Kent County      Joe Biden   DEM        44552   True\n",
       "1  Delaware        Kent County   Donald Trump   REP        41009  False\n",
       "2  Delaware        Kent County   Jo Jorgensen   LIB         1044  False\n",
       "3  Delaware        Kent County  Howie Hawkins   GRN          420  False\n",
       "4  Delaware  New Castle County      Joe Biden   DEM       195034   True"
      ]
     },
     "execution_count": 44,
     "metadata": {},
     "output_type": "execute_result"
    }
   ],
   "source": [
    "vote.head()"
   ]
  },
  {
   "cell_type": "markdown",
   "metadata": {},
   "source": [
    "考虑将两表连接。"
   ]
  },
  {
   "cell_type": "code",
   "execution_count": 45,
   "metadata": {
    "ExecuteTime": {
     "end_time": "2021-01-01T08:44:30.630173Z",
     "start_time": "2021-01-01T08:44:30.587288Z"
    }
   },
   "outputs": [],
   "source": [
    "# 生成合并数据集\n",
    "df = vote.merge(pop, on = ['state','county'], how = 'left')"
   ]
  },
  {
   "cell_type": "code",
   "execution_count": 46,
   "metadata": {
    "ExecuteTime": {
     "end_time": "2021-01-01T08:44:30.647157Z",
     "start_time": "2021-01-01T08:44:30.632169Z"
    }
   },
   "outputs": [
    {
     "data": {
      "text/html": [
       "<div>\n",
       "<style scoped>\n",
       "    .dataframe tbody tr th:only-of-type {\n",
       "        vertical-align: middle;\n",
       "    }\n",
       "\n",
       "    .dataframe tbody tr th {\n",
       "        vertical-align: top;\n",
       "    }\n",
       "\n",
       "    .dataframe thead th {\n",
       "        text-align: right;\n",
       "    }\n",
       "</style>\n",
       "<table border=\"1\" class=\"dataframe\">\n",
       "  <thead>\n",
       "    <tr style=\"text-align: right;\">\n",
       "      <th></th>\n",
       "      <th>state</th>\n",
       "      <th>county</th>\n",
       "      <th>candidate</th>\n",
       "      <th>party</th>\n",
       "      <th>total_votes</th>\n",
       "      <th>won</th>\n",
       "      <th>Population</th>\n",
       "    </tr>\n",
       "  </thead>\n",
       "  <tbody>\n",
       "    <tr>\n",
       "      <th>32172</th>\n",
       "      <td>Arizona</td>\n",
       "      <td>Maricopa County</td>\n",
       "      <td>Write-ins</td>\n",
       "      <td>WRI</td>\n",
       "      <td>1331</td>\n",
       "      <td>False</td>\n",
       "      <td>4485414.0</td>\n",
       "    </tr>\n",
       "    <tr>\n",
       "      <th>32173</th>\n",
       "      <td>Arizona</td>\n",
       "      <td>Mohave County</td>\n",
       "      <td>Donald Trump</td>\n",
       "      <td>REP</td>\n",
       "      <td>78535</td>\n",
       "      <td>True</td>\n",
       "      <td>212181.0</td>\n",
       "    </tr>\n",
       "    <tr>\n",
       "      <th>32174</th>\n",
       "      <td>Arizona</td>\n",
       "      <td>Mohave County</td>\n",
       "      <td>Joe Biden</td>\n",
       "      <td>DEM</td>\n",
       "      <td>24831</td>\n",
       "      <td>False</td>\n",
       "      <td>212181.0</td>\n",
       "    </tr>\n",
       "    <tr>\n",
       "      <th>32175</th>\n",
       "      <td>Arizona</td>\n",
       "      <td>Mohave County</td>\n",
       "      <td>Jo Jorgensen</td>\n",
       "      <td>LIB</td>\n",
       "      <td>1302</td>\n",
       "      <td>False</td>\n",
       "      <td>212181.0</td>\n",
       "    </tr>\n",
       "    <tr>\n",
       "      <th>32176</th>\n",
       "      <td>Arizona</td>\n",
       "      <td>Mohave County</td>\n",
       "      <td>Write-ins</td>\n",
       "      <td>WRI</td>\n",
       "      <td>37</td>\n",
       "      <td>False</td>\n",
       "      <td>212181.0</td>\n",
       "    </tr>\n",
       "  </tbody>\n",
       "</table>\n",
       "</div>"
      ],
      "text/plain": [
       "         state           county     candidate party  total_votes    won  \\\n",
       "32172  Arizona  Maricopa County     Write-ins   WRI         1331  False   \n",
       "32173  Arizona    Mohave County  Donald Trump   REP        78535   True   \n",
       "32174  Arizona    Mohave County     Joe Biden   DEM        24831  False   \n",
       "32175  Arizona    Mohave County  Jo Jorgensen   LIB         1302  False   \n",
       "32176  Arizona    Mohave County     Write-ins   WRI           37  False   \n",
       "\n",
       "       Population  \n",
       "32172   4485414.0  \n",
       "32173    212181.0  \n",
       "32174    212181.0  \n",
       "32175    212181.0  \n",
       "32176    212181.0  "
      ]
     },
     "execution_count": 46,
     "metadata": {},
     "output_type": "execute_result"
    }
   ],
   "source": [
    "df.tail()"
   ]
  },
  {
   "cell_type": "code",
   "execution_count": 47,
   "metadata": {
    "ExecuteTime": {
     "end_time": "2021-01-01T08:44:30.677033Z",
     "start_time": "2021-01-01T08:44:30.649123Z"
    }
   },
   "outputs": [],
   "source": [
    "# 将州县设为行索引\n",
    "df['total_county'] = df.groupby(['state','county'])['total_votes'].transform('sum')"
   ]
  },
  {
   "cell_type": "code",
   "execution_count": 48,
   "metadata": {
    "ExecuteTime": {
     "end_time": "2021-01-01T08:44:30.694022Z",
     "start_time": "2021-01-01T08:44:30.679046Z"
    }
   },
   "outputs": [],
   "source": [
    "vote_c = df.groupby(['state','county'])['total_votes'].agg('sum').reset_index()"
   ]
  },
  {
   "cell_type": "markdown",
   "metadata": {},
   "source": [
    "为了计算方便，把总投票数合并到了人口表上。"
   ]
  },
  {
   "cell_type": "code",
   "execution_count": 49,
   "metadata": {
    "ExecuteTime": {
     "end_time": "2021-01-01T08:44:30.706003Z",
     "start_time": "2021-01-01T08:44:30.696008Z"
    }
   },
   "outputs": [],
   "source": [
    "pop = pop.merge(vote_c,on=['state','county'], how = 'inner')"
   ]
  },
  {
   "cell_type": "code",
   "execution_count": 50,
   "metadata": {
    "ExecuteTime": {
     "end_time": "2021-01-01T08:44:30.713936Z",
     "start_time": "2021-01-01T08:44:30.707986Z"
    }
   },
   "outputs": [],
   "source": [
    "pop['prop']=pop.total_votes / pop.Population"
   ]
  },
  {
   "cell_type": "code",
   "execution_count": 51,
   "metadata": {
    "ExecuteTime": {
     "end_time": "2021-01-01T08:44:30.731887Z",
     "start_time": "2021-01-01T08:44:30.717963Z"
    }
   },
   "outputs": [
    {
     "data": {
      "text/plain": [
       "state          1435\n",
       "county         1435\n",
       "Population     1435\n",
       "total_votes    1435\n",
       "prop           1435\n",
       "dtype: int64"
      ]
     },
     "execution_count": 51,
     "metadata": {},
     "output_type": "execute_result"
    }
   ],
   "source": [
    "pop.loc[pop.prop > 0.5].count()"
   ]
  },
  {
   "cell_type": "markdown",
   "metadata": {},
   "source": [
    "**第一问结果**：有1435个县满足半数人口投票。"
   ]
  },
  {
   "cell_type": "code",
   "execution_count": 52,
   "metadata": {
    "ExecuteTime": {
     "end_time": "2021-01-01T08:44:30.744853Z",
     "start_time": "2021-01-01T08:44:30.733881Z"
    }
   },
   "outputs": [
    {
     "data": {
      "text/html": [
       "<div>\n",
       "<style scoped>\n",
       "    .dataframe tbody tr th:only-of-type {\n",
       "        vertical-align: middle;\n",
       "    }\n",
       "\n",
       "    .dataframe tbody tr th {\n",
       "        vertical-align: top;\n",
       "    }\n",
       "\n",
       "    .dataframe thead th {\n",
       "        text-align: right;\n",
       "    }\n",
       "</style>\n",
       "<table border=\"1\" class=\"dataframe\">\n",
       "  <thead>\n",
       "    <tr style=\"text-align: right;\">\n",
       "      <th></th>\n",
       "      <th>state</th>\n",
       "      <th>county</th>\n",
       "      <th>candidate</th>\n",
       "      <th>party</th>\n",
       "      <th>total_votes</th>\n",
       "      <th>won</th>\n",
       "    </tr>\n",
       "  </thead>\n",
       "  <tbody>\n",
       "    <tr>\n",
       "      <th>0</th>\n",
       "      <td>Delaware</td>\n",
       "      <td>Kent County</td>\n",
       "      <td>Joe Biden</td>\n",
       "      <td>DEM</td>\n",
       "      <td>44552</td>\n",
       "      <td>True</td>\n",
       "    </tr>\n",
       "    <tr>\n",
       "      <th>1</th>\n",
       "      <td>Delaware</td>\n",
       "      <td>Kent County</td>\n",
       "      <td>Donald Trump</td>\n",
       "      <td>REP</td>\n",
       "      <td>41009</td>\n",
       "      <td>False</td>\n",
       "    </tr>\n",
       "    <tr>\n",
       "      <th>2</th>\n",
       "      <td>Delaware</td>\n",
       "      <td>Kent County</td>\n",
       "      <td>Jo Jorgensen</td>\n",
       "      <td>LIB</td>\n",
       "      <td>1044</td>\n",
       "      <td>False</td>\n",
       "    </tr>\n",
       "    <tr>\n",
       "      <th>3</th>\n",
       "      <td>Delaware</td>\n",
       "      <td>Kent County</td>\n",
       "      <td>Howie Hawkins</td>\n",
       "      <td>GRN</td>\n",
       "      <td>420</td>\n",
       "      <td>False</td>\n",
       "    </tr>\n",
       "    <tr>\n",
       "      <th>4</th>\n",
       "      <td>Delaware</td>\n",
       "      <td>New Castle County</td>\n",
       "      <td>Joe Biden</td>\n",
       "      <td>DEM</td>\n",
       "      <td>195034</td>\n",
       "      <td>True</td>\n",
       "    </tr>\n",
       "  </tbody>\n",
       "</table>\n",
       "</div>"
      ],
      "text/plain": [
       "      state             county      candidate party  total_votes    won\n",
       "0  Delaware        Kent County      Joe Biden   DEM        44552   True\n",
       "1  Delaware        Kent County   Donald Trump   REP        41009  False\n",
       "2  Delaware        Kent County   Jo Jorgensen   LIB         1044  False\n",
       "3  Delaware        Kent County  Howie Hawkins   GRN          420  False\n",
       "4  Delaware  New Castle County      Joe Biden   DEM       195034   True"
      ]
     },
     "execution_count": 52,
     "metadata": {},
     "output_type": "execute_result"
    }
   ],
   "source": [
    "vote.head()"
   ]
  },
  {
   "cell_type": "code",
   "execution_count": 53,
   "metadata": {
    "ExecuteTime": {
     "end_time": "2021-01-01T08:44:30.760843Z",
     "start_time": "2021-01-01T08:44:30.746847Z"
    }
   },
   "outputs": [],
   "source": [
    "outcome = vote.groupby(['state','candidate'])['total_votes'].agg('sum').reset_index()"
   ]
  },
  {
   "cell_type": "code",
   "execution_count": 54,
   "metadata": {
    "ExecuteTime": {
     "end_time": "2021-01-01T08:44:30.770817Z",
     "start_time": "2021-01-01T08:44:30.762837Z"
    }
   },
   "outputs": [
    {
     "data": {
      "text/html": [
       "<div>\n",
       "<style scoped>\n",
       "    .dataframe tbody tr th:only-of-type {\n",
       "        vertical-align: middle;\n",
       "    }\n",
       "\n",
       "    .dataframe tbody tr th {\n",
       "        vertical-align: top;\n",
       "    }\n",
       "\n",
       "    .dataframe thead th {\n",
       "        text-align: right;\n",
       "    }\n",
       "</style>\n",
       "<table border=\"1\" class=\"dataframe\">\n",
       "  <thead>\n",
       "    <tr style=\"text-align: right;\">\n",
       "      <th></th>\n",
       "      <th>state</th>\n",
       "      <th>candidate</th>\n",
       "      <th>total_votes</th>\n",
       "    </tr>\n",
       "  </thead>\n",
       "  <tbody>\n",
       "    <tr>\n",
       "      <th>0</th>\n",
       "      <td>Alabama</td>\n",
       "      <td>Write-ins</td>\n",
       "      <td>7312</td>\n",
       "    </tr>\n",
       "    <tr>\n",
       "      <th>1</th>\n",
       "      <td>Alabama</td>\n",
       "      <td>Donald Trump</td>\n",
       "      <td>1441168</td>\n",
       "    </tr>\n",
       "    <tr>\n",
       "      <th>2</th>\n",
       "      <td>Alabama</td>\n",
       "      <td>Jo Jorgensen</td>\n",
       "      <td>25176</td>\n",
       "    </tr>\n",
       "    <tr>\n",
       "      <th>3</th>\n",
       "      <td>Alabama</td>\n",
       "      <td>Joe Biden</td>\n",
       "      <td>849648</td>\n",
       "    </tr>\n",
       "    <tr>\n",
       "      <th>4</th>\n",
       "      <td>Alaska</td>\n",
       "      <td>Write-ins</td>\n",
       "      <td>34210</td>\n",
       "    </tr>\n",
       "  </tbody>\n",
       "</table>\n",
       "</div>"
      ],
      "text/plain": [
       "     state     candidate  total_votes\n",
       "0  Alabama     Write-ins         7312\n",
       "1  Alabama  Donald Trump      1441168\n",
       "2  Alabama  Jo Jorgensen        25176\n",
       "3  Alabama     Joe Biden       849648\n",
       "4   Alaska     Write-ins        34210"
      ]
     },
     "execution_count": 54,
     "metadata": {},
     "output_type": "execute_result"
    }
   ],
   "source": [
    "outcome.head()"
   ]
  },
  {
   "cell_type": "markdown",
   "metadata": {},
   "source": [
    "第二问的关键是将长表转为宽表。"
   ]
  },
  {
   "cell_type": "code",
   "execution_count": 55,
   "metadata": {
    "ExecuteTime": {
     "end_time": "2021-01-01T08:44:30.782751Z",
     "start_time": "2021-01-01T08:44:30.772777Z"
    }
   },
   "outputs": [],
   "source": [
    "outcome = outcome.pivot(index='state',columns='candidate',values='total_votes')"
   ]
  },
  {
   "cell_type": "code",
   "execution_count": 56,
   "metadata": {
    "ExecuteTime": {
     "end_time": "2021-01-01T08:44:30.789732Z",
     "start_time": "2021-01-01T08:44:30.784747Z"
    }
   },
   "outputs": [],
   "source": [
    "us_total = outcome.sum()"
   ]
  },
  {
   "cell_type": "code",
   "execution_count": 57,
   "metadata": {
    "ExecuteTime": {
     "end_time": "2021-01-01T08:44:30.800706Z",
     "start_time": "2021-01-01T08:44:30.792725Z"
    }
   },
   "outputs": [],
   "source": [
    "us_total.name='us'"
   ]
  },
  {
   "cell_type": "code",
   "execution_count": 58,
   "metadata": {
    "ExecuteTime": {
     "end_time": "2021-01-01T08:44:30.809716Z",
     "start_time": "2021-01-01T08:44:30.803696Z"
    }
   },
   "outputs": [],
   "source": [
    "us_total = us_total.to_frame().T"
   ]
  },
  {
   "cell_type": "code",
   "execution_count": 59,
   "metadata": {
    "ExecuteTime": {
     "end_time": "2021-01-01T08:44:30.817657Z",
     "start_time": "2021-01-01T08:44:30.812671Z"
    }
   },
   "outputs": [],
   "source": [
    "outcome = outcome.append(us_total)"
   ]
  },
  {
   "cell_type": "code",
   "execution_count": 60,
   "metadata": {
    "ExecuteTime": {
     "end_time": "2021-01-01T08:44:30.823676Z",
     "start_time": "2021-01-01T08:44:30.819687Z"
    }
   },
   "outputs": [],
   "source": [
    "final = outcome.T.sort_values('us',ascending=False).T.iloc[:-1,:]"
   ]
  },
  {
   "cell_type": "markdown",
   "metadata": {},
   "source": [
    "**第二问结果**如下："
   ]
  },
  {
   "cell_type": "code",
   "execution_count": 61,
   "metadata": {
    "ExecuteTime": {
     "end_time": "2021-01-01T08:44:30.846614Z",
     "start_time": "2021-01-01T08:44:30.825636Z"
    },
    "scrolled": false
   },
   "outputs": [
    {
     "data": {
      "text/html": [
       "<div>\n",
       "<style scoped>\n",
       "    .dataframe tbody tr th:only-of-type {\n",
       "        vertical-align: middle;\n",
       "    }\n",
       "\n",
       "    .dataframe tbody tr th {\n",
       "        vertical-align: top;\n",
       "    }\n",
       "\n",
       "    .dataframe thead th {\n",
       "        text-align: right;\n",
       "    }\n",
       "</style>\n",
       "<table border=\"1\" class=\"dataframe\">\n",
       "  <thead>\n",
       "    <tr style=\"text-align: right;\">\n",
       "      <th>candidate</th>\n",
       "      <th>Joe Biden</th>\n",
       "      <th>Donald Trump</th>\n",
       "      <th>Jo Jorgensen</th>\n",
       "      <th>Howie Hawkins</th>\n",
       "      <th>Write-ins</th>\n",
       "      <th>Rocky De La Fuente</th>\n",
       "      <th>Gloria La Riva</th>\n",
       "      <th>Kanye West</th>\n",
       "      <th>Don Blankenship</th>\n",
       "      <th>Brock Pierce</th>\n",
       "      <th>...</th>\n",
       "      <th>Tom Hoefling</th>\n",
       "      <th>Ricki Sue King</th>\n",
       "      <th>Princess Jacob-Fambro</th>\n",
       "      <th>Blake Huber</th>\n",
       "      <th>Richard Duncan</th>\n",
       "      <th>Joseph Kishore</th>\n",
       "      <th>Jordan Scott</th>\n",
       "      <th>Gary Swing</th>\n",
       "      <th>Keith McCormic</th>\n",
       "      <th>Zachary Scalf</th>\n",
       "    </tr>\n",
       "  </thead>\n",
       "  <tbody>\n",
       "    <tr>\n",
       "      <th>Alabama</th>\n",
       "      <td>849648.0</td>\n",
       "      <td>1441168.0</td>\n",
       "      <td>25176.0</td>\n",
       "      <td>NaN</td>\n",
       "      <td>7312.0</td>\n",
       "      <td>NaN</td>\n",
       "      <td>NaN</td>\n",
       "      <td>NaN</td>\n",
       "      <td>NaN</td>\n",
       "      <td>NaN</td>\n",
       "      <td>...</td>\n",
       "      <td>NaN</td>\n",
       "      <td>NaN</td>\n",
       "      <td>NaN</td>\n",
       "      <td>NaN</td>\n",
       "      <td>NaN</td>\n",
       "      <td>NaN</td>\n",
       "      <td>NaN</td>\n",
       "      <td>NaN</td>\n",
       "      <td>NaN</td>\n",
       "      <td>NaN</td>\n",
       "    </tr>\n",
       "    <tr>\n",
       "      <th>Alaska</th>\n",
       "      <td>153405.0</td>\n",
       "      <td>189892.0</td>\n",
       "      <td>8896.0</td>\n",
       "      <td>NaN</td>\n",
       "      <td>34210.0</td>\n",
       "      <td>318.0</td>\n",
       "      <td>NaN</td>\n",
       "      <td>NaN</td>\n",
       "      <td>1127.0</td>\n",
       "      <td>825.0</td>\n",
       "      <td>...</td>\n",
       "      <td>NaN</td>\n",
       "      <td>NaN</td>\n",
       "      <td>NaN</td>\n",
       "      <td>NaN</td>\n",
       "      <td>NaN</td>\n",
       "      <td>NaN</td>\n",
       "      <td>NaN</td>\n",
       "      <td>NaN</td>\n",
       "      <td>NaN</td>\n",
       "      <td>NaN</td>\n",
       "    </tr>\n",
       "    <tr>\n",
       "      <th>Arizona</th>\n",
       "      <td>1672143.0</td>\n",
       "      <td>1661686.0</td>\n",
       "      <td>51465.0</td>\n",
       "      <td>NaN</td>\n",
       "      <td>2032.0</td>\n",
       "      <td>NaN</td>\n",
       "      <td>NaN</td>\n",
       "      <td>NaN</td>\n",
       "      <td>NaN</td>\n",
       "      <td>NaN</td>\n",
       "      <td>...</td>\n",
       "      <td>NaN</td>\n",
       "      <td>NaN</td>\n",
       "      <td>NaN</td>\n",
       "      <td>NaN</td>\n",
       "      <td>NaN</td>\n",
       "      <td>NaN</td>\n",
       "      <td>NaN</td>\n",
       "      <td>NaN</td>\n",
       "      <td>NaN</td>\n",
       "      <td>NaN</td>\n",
       "    </tr>\n",
       "    <tr>\n",
       "      <th>Arkansas</th>\n",
       "      <td>423932.0</td>\n",
       "      <td>760647.0</td>\n",
       "      <td>13133.0</td>\n",
       "      <td>2980.0</td>\n",
       "      <td>NaN</td>\n",
       "      <td>1321.0</td>\n",
       "      <td>1336.0</td>\n",
       "      <td>4099.0</td>\n",
       "      <td>2108.0</td>\n",
       "      <td>2141.0</td>\n",
       "      <td>...</td>\n",
       "      <td>NaN</td>\n",
       "      <td>NaN</td>\n",
       "      <td>NaN</td>\n",
       "      <td>NaN</td>\n",
       "      <td>NaN</td>\n",
       "      <td>NaN</td>\n",
       "      <td>NaN</td>\n",
       "      <td>NaN</td>\n",
       "      <td>NaN</td>\n",
       "      <td>NaN</td>\n",
       "    </tr>\n",
       "    <tr>\n",
       "      <th>California</th>\n",
       "      <td>11109764.0</td>\n",
       "      <td>6005961.0</td>\n",
       "      <td>187885.0</td>\n",
       "      <td>81025.0</td>\n",
       "      <td>80.0</td>\n",
       "      <td>60155.0</td>\n",
       "      <td>51036.0</td>\n",
       "      <td>NaN</td>\n",
       "      <td>NaN</td>\n",
       "      <td>NaN</td>\n",
       "      <td>...</td>\n",
       "      <td>NaN</td>\n",
       "      <td>NaN</td>\n",
       "      <td>NaN</td>\n",
       "      <td>NaN</td>\n",
       "      <td>NaN</td>\n",
       "      <td>NaN</td>\n",
       "      <td>NaN</td>\n",
       "      <td>NaN</td>\n",
       "      <td>NaN</td>\n",
       "      <td>NaN</td>\n",
       "    </tr>\n",
       "  </tbody>\n",
       "</table>\n",
       "<p>5 rows × 38 columns</p>\n",
       "</div>"
      ],
      "text/plain": [
       "candidate    Joe Biden  Donald Trump  Jo Jorgensen  Howie Hawkins   Write-ins  \\\n",
       "Alabama       849648.0     1441168.0       25176.0            NaN      7312.0   \n",
       "Alaska        153405.0      189892.0        8896.0            NaN     34210.0   \n",
       "Arizona      1672143.0     1661686.0       51465.0            NaN      2032.0   \n",
       "Arkansas      423932.0      760647.0       13133.0         2980.0         NaN   \n",
       "California  11109764.0     6005961.0      187885.0        81025.0        80.0   \n",
       "\n",
       "candidate   Rocky De La Fuente  Gloria La Riva  Kanye West  Don Blankenship  \\\n",
       "Alabama                    NaN             NaN         NaN              NaN   \n",
       "Alaska                   318.0             NaN         NaN           1127.0   \n",
       "Arizona                    NaN             NaN         NaN              NaN   \n",
       "Arkansas                1321.0          1336.0      4099.0           2108.0   \n",
       "California             60155.0         51036.0         NaN              NaN   \n",
       "\n",
       "candidate   Brock Pierce  ...  Tom Hoefling  Ricki Sue King  \\\n",
       "Alabama              NaN  ...           NaN             NaN   \n",
       "Alaska             825.0  ...           NaN             NaN   \n",
       "Arizona              NaN  ...           NaN             NaN   \n",
       "Arkansas          2141.0  ...           NaN             NaN   \n",
       "California           NaN  ...           NaN             NaN   \n",
       "\n",
       "candidate   Princess Jacob-Fambro  Blake Huber  Richard Duncan  \\\n",
       "Alabama                       NaN          NaN             NaN   \n",
       "Alaska                        NaN          NaN             NaN   \n",
       "Arizona                       NaN          NaN             NaN   \n",
       "Arkansas                      NaN          NaN             NaN   \n",
       "California                    NaN          NaN             NaN   \n",
       "\n",
       "candidate   Joseph Kishore  Jordan Scott  Gary Swing  Keith McCormic  \\\n",
       "Alabama                NaN           NaN         NaN             NaN   \n",
       "Alaska                 NaN           NaN         NaN             NaN   \n",
       "Arizona                NaN           NaN         NaN             NaN   \n",
       "Arkansas               NaN           NaN         NaN             NaN   \n",
       "California             NaN           NaN         NaN             NaN   \n",
       "\n",
       "candidate   Zachary Scalf  \n",
       "Alabama               NaN  \n",
       "Alaska                NaN  \n",
       "Arizona               NaN  \n",
       "Arkansas              NaN  \n",
       "California            NaN  \n",
       "\n",
       "[5 rows x 38 columns]"
      ]
     },
     "execution_count": 61,
     "metadata": {},
     "output_type": "execute_result"
    }
   ],
   "source": [
    "final.head()"
   ]
  },
  {
   "cell_type": "code",
   "execution_count": 62,
   "metadata": {
    "ExecuteTime": {
     "end_time": "2021-01-01T08:44:30.860543Z",
     "start_time": "2021-01-01T08:44:30.848574Z"
    }
   },
   "outputs": [
    {
     "data": {
      "text/html": [
       "<div>\n",
       "<style scoped>\n",
       "    .dataframe tbody tr th:only-of-type {\n",
       "        vertical-align: middle;\n",
       "    }\n",
       "\n",
       "    .dataframe tbody tr th {\n",
       "        vertical-align: top;\n",
       "    }\n",
       "\n",
       "    .dataframe thead th {\n",
       "        text-align: right;\n",
       "    }\n",
       "</style>\n",
       "<table border=\"1\" class=\"dataframe\">\n",
       "  <thead>\n",
       "    <tr style=\"text-align: right;\">\n",
       "      <th></th>\n",
       "      <th>state</th>\n",
       "      <th>county</th>\n",
       "      <th>candidate</th>\n",
       "      <th>party</th>\n",
       "      <th>total_votes</th>\n",
       "      <th>won</th>\n",
       "    </tr>\n",
       "  </thead>\n",
       "  <tbody>\n",
       "    <tr>\n",
       "      <th>0</th>\n",
       "      <td>Delaware</td>\n",
       "      <td>Kent County</td>\n",
       "      <td>Joe Biden</td>\n",
       "      <td>DEM</td>\n",
       "      <td>44552</td>\n",
       "      <td>True</td>\n",
       "    </tr>\n",
       "    <tr>\n",
       "      <th>1</th>\n",
       "      <td>Delaware</td>\n",
       "      <td>Kent County</td>\n",
       "      <td>Donald Trump</td>\n",
       "      <td>REP</td>\n",
       "      <td>41009</td>\n",
       "      <td>False</td>\n",
       "    </tr>\n",
       "    <tr>\n",
       "      <th>2</th>\n",
       "      <td>Delaware</td>\n",
       "      <td>Kent County</td>\n",
       "      <td>Jo Jorgensen</td>\n",
       "      <td>LIB</td>\n",
       "      <td>1044</td>\n",
       "      <td>False</td>\n",
       "    </tr>\n",
       "    <tr>\n",
       "      <th>3</th>\n",
       "      <td>Delaware</td>\n",
       "      <td>Kent County</td>\n",
       "      <td>Howie Hawkins</td>\n",
       "      <td>GRN</td>\n",
       "      <td>420</td>\n",
       "      <td>False</td>\n",
       "    </tr>\n",
       "    <tr>\n",
       "      <th>4</th>\n",
       "      <td>Delaware</td>\n",
       "      <td>New Castle County</td>\n",
       "      <td>Joe Biden</td>\n",
       "      <td>DEM</td>\n",
       "      <td>195034</td>\n",
       "      <td>True</td>\n",
       "    </tr>\n",
       "  </tbody>\n",
       "</table>\n",
       "</div>"
      ],
      "text/plain": [
       "      state             county      candidate party  total_votes    won\n",
       "0  Delaware        Kent County      Joe Biden   DEM        44552   True\n",
       "1  Delaware        Kent County   Donald Trump   REP        41009  False\n",
       "2  Delaware        Kent County   Jo Jorgensen   LIB         1044  False\n",
       "3  Delaware        Kent County  Howie Hawkins   GRN          420  False\n",
       "4  Delaware  New Castle County      Joe Biden   DEM       195034   True"
      ]
     },
     "execution_count": 62,
     "metadata": {},
     "output_type": "execute_result"
    }
   ],
   "source": [
    "vote.head()"
   ]
  },
  {
   "cell_type": "code",
   "execution_count": 63,
   "metadata": {
    "ExecuteTime": {
     "end_time": "2021-01-01T08:44:30.885509Z",
     "start_time": "2021-01-01T08:44:30.863538Z"
    }
   },
   "outputs": [],
   "source": [
    "# 分县计算总投票数\n",
    "vote['total_county'] = vote.groupby(['state','county'])['total_votes'].transform('sum')"
   ]
  },
  {
   "cell_type": "code",
   "execution_count": 64,
   "metadata": {
    "ExecuteTime": {
     "end_time": "2021-01-01T08:44:30.905451Z",
     "start_time": "2021-01-01T08:44:30.887505Z"
    }
   },
   "outputs": [
    {
     "data": {
      "text/html": [
       "<div>\n",
       "<style scoped>\n",
       "    .dataframe tbody tr th:only-of-type {\n",
       "        vertical-align: middle;\n",
       "    }\n",
       "\n",
       "    .dataframe tbody tr th {\n",
       "        vertical-align: top;\n",
       "    }\n",
       "\n",
       "    .dataframe thead th {\n",
       "        text-align: right;\n",
       "    }\n",
       "</style>\n",
       "<table border=\"1\" class=\"dataframe\">\n",
       "  <thead>\n",
       "    <tr style=\"text-align: right;\">\n",
       "      <th></th>\n",
       "      <th>state</th>\n",
       "      <th>county</th>\n",
       "      <th>candidate</th>\n",
       "      <th>party</th>\n",
       "      <th>total_votes</th>\n",
       "      <th>won</th>\n",
       "      <th>total_county</th>\n",
       "    </tr>\n",
       "  </thead>\n",
       "  <tbody>\n",
       "    <tr>\n",
       "      <th>0</th>\n",
       "      <td>Delaware</td>\n",
       "      <td>Kent County</td>\n",
       "      <td>Joe Biden</td>\n",
       "      <td>DEM</td>\n",
       "      <td>44552</td>\n",
       "      <td>True</td>\n",
       "      <td>87025</td>\n",
       "    </tr>\n",
       "    <tr>\n",
       "      <th>1</th>\n",
       "      <td>Delaware</td>\n",
       "      <td>Kent County</td>\n",
       "      <td>Donald Trump</td>\n",
       "      <td>REP</td>\n",
       "      <td>41009</td>\n",
       "      <td>False</td>\n",
       "      <td>87025</td>\n",
       "    </tr>\n",
       "    <tr>\n",
       "      <th>2</th>\n",
       "      <td>Delaware</td>\n",
       "      <td>Kent County</td>\n",
       "      <td>Jo Jorgensen</td>\n",
       "      <td>LIB</td>\n",
       "      <td>1044</td>\n",
       "      <td>False</td>\n",
       "      <td>87025</td>\n",
       "    </tr>\n",
       "    <tr>\n",
       "      <th>3</th>\n",
       "      <td>Delaware</td>\n",
       "      <td>Kent County</td>\n",
       "      <td>Howie Hawkins</td>\n",
       "      <td>GRN</td>\n",
       "      <td>420</td>\n",
       "      <td>False</td>\n",
       "      <td>87025</td>\n",
       "    </tr>\n",
       "    <tr>\n",
       "      <th>4</th>\n",
       "      <td>Delaware</td>\n",
       "      <td>New Castle County</td>\n",
       "      <td>Joe Biden</td>\n",
       "      <td>DEM</td>\n",
       "      <td>195034</td>\n",
       "      <td>True</td>\n",
       "      <td>287633</td>\n",
       "    </tr>\n",
       "    <tr>\n",
       "      <th>...</th>\n",
       "      <td>...</td>\n",
       "      <td>...</td>\n",
       "      <td>...</td>\n",
       "      <td>...</td>\n",
       "      <td>...</td>\n",
       "      <td>...</td>\n",
       "      <td>...</td>\n",
       "    </tr>\n",
       "    <tr>\n",
       "      <th>32172</th>\n",
       "      <td>Arizona</td>\n",
       "      <td>Maricopa County</td>\n",
       "      <td>Write-ins</td>\n",
       "      <td>WRI</td>\n",
       "      <td>1331</td>\n",
       "      <td>False</td>\n",
       "      <td>2069475</td>\n",
       "    </tr>\n",
       "    <tr>\n",
       "      <th>32173</th>\n",
       "      <td>Arizona</td>\n",
       "      <td>Mohave County</td>\n",
       "      <td>Donald Trump</td>\n",
       "      <td>REP</td>\n",
       "      <td>78535</td>\n",
       "      <td>True</td>\n",
       "      <td>104705</td>\n",
       "    </tr>\n",
       "    <tr>\n",
       "      <th>32174</th>\n",
       "      <td>Arizona</td>\n",
       "      <td>Mohave County</td>\n",
       "      <td>Joe Biden</td>\n",
       "      <td>DEM</td>\n",
       "      <td>24831</td>\n",
       "      <td>False</td>\n",
       "      <td>104705</td>\n",
       "    </tr>\n",
       "    <tr>\n",
       "      <th>32175</th>\n",
       "      <td>Arizona</td>\n",
       "      <td>Mohave County</td>\n",
       "      <td>Jo Jorgensen</td>\n",
       "      <td>LIB</td>\n",
       "      <td>1302</td>\n",
       "      <td>False</td>\n",
       "      <td>104705</td>\n",
       "    </tr>\n",
       "    <tr>\n",
       "      <th>32176</th>\n",
       "      <td>Arizona</td>\n",
       "      <td>Mohave County</td>\n",
       "      <td>Write-ins</td>\n",
       "      <td>WRI</td>\n",
       "      <td>37</td>\n",
       "      <td>False</td>\n",
       "      <td>104705</td>\n",
       "    </tr>\n",
       "  </tbody>\n",
       "</table>\n",
       "<p>32177 rows × 7 columns</p>\n",
       "</div>"
      ],
      "text/plain": [
       "          state             county      candidate party  total_votes    won  \\\n",
       "0      Delaware        Kent County      Joe Biden   DEM        44552   True   \n",
       "1      Delaware        Kent County   Donald Trump   REP        41009  False   \n",
       "2      Delaware        Kent County   Jo Jorgensen   LIB         1044  False   \n",
       "3      Delaware        Kent County  Howie Hawkins   GRN          420  False   \n",
       "4      Delaware  New Castle County      Joe Biden   DEM       195034   True   \n",
       "...         ...                ...            ...   ...          ...    ...   \n",
       "32172   Arizona    Maricopa County      Write-ins   WRI         1331  False   \n",
       "32173   Arizona      Mohave County   Donald Trump   REP        78535   True   \n",
       "32174   Arizona      Mohave County      Joe Biden   DEM        24831  False   \n",
       "32175   Arizona      Mohave County   Jo Jorgensen   LIB         1302  False   \n",
       "32176   Arizona      Mohave County      Write-ins   WRI           37  False   \n",
       "\n",
       "       total_county  \n",
       "0             87025  \n",
       "1             87025  \n",
       "2             87025  \n",
       "3             87025  \n",
       "4            287633  \n",
       "...             ...  \n",
       "32172       2069475  \n",
       "32173        104705  \n",
       "32174        104705  \n",
       "32175        104705  \n",
       "32176        104705  \n",
       "\n",
       "[32177 rows x 7 columns]"
      ]
     },
     "execution_count": 64,
     "metadata": {},
     "output_type": "execute_result"
    }
   ],
   "source": [
    "vote"
   ]
  },
  {
   "cell_type": "code",
   "execution_count": 65,
   "metadata": {
    "ExecuteTime": {
     "end_time": "2021-01-01T08:44:30.916394Z",
     "start_time": "2021-01-01T08:44:30.907417Z"
    }
   },
   "outputs": [],
   "source": [
    "# 仅保留拜登和川普\n",
    "BT = vote.loc[vote.candidate.isin(['Joe Biden','Donald Trump'])].reset_index(drop=True)"
   ]
  },
  {
   "cell_type": "code",
   "execution_count": 66,
   "metadata": {
    "ExecuteTime": {
     "end_time": "2021-01-01T08:44:30.925403Z",
     "start_time": "2021-01-01T08:44:30.918387Z"
    }
   },
   "outputs": [],
   "source": [
    "BT['rate'] = BT.total_votes / BT.total_county"
   ]
  },
  {
   "cell_type": "code",
   "execution_count": 67,
   "metadata": {
    "ExecuteTime": {
     "end_time": "2021-01-01T08:44:30.933351Z",
     "start_time": "2021-01-01T08:44:30.927365Z"
    }
   },
   "outputs": [],
   "source": [
    "# 保留有效信息\n",
    "BT = BT[['state','county','candidate','rate']]"
   ]
  },
  {
   "cell_type": "code",
   "execution_count": 68,
   "metadata": {
    "ExecuteTime": {
     "end_time": "2021-01-01T08:44:30.959321Z",
     "start_time": "2021-01-01T08:44:30.944318Z"
    }
   },
   "outputs": [],
   "source": [
    "# 长变宽\n",
    "BT = BT.pivot(index = ['state','county'], columns = 'candidate', values = 'rate')"
   ]
  },
  {
   "cell_type": "code",
   "execution_count": 69,
   "metadata": {
    "ExecuteTime": {
     "end_time": "2021-01-01T08:44:30.977232Z",
     "start_time": "2021-01-01T08:44:30.965296Z"
    }
   },
   "outputs": [
    {
     "data": {
      "text/html": [
       "<div>\n",
       "<style scoped>\n",
       "    .dataframe tbody tr th:only-of-type {\n",
       "        vertical-align: middle;\n",
       "    }\n",
       "\n",
       "    .dataframe tbody tr th {\n",
       "        vertical-align: top;\n",
       "    }\n",
       "\n",
       "    .dataframe thead th {\n",
       "        text-align: right;\n",
       "    }\n",
       "</style>\n",
       "<table border=\"1\" class=\"dataframe\">\n",
       "  <thead>\n",
       "    <tr style=\"text-align: right;\">\n",
       "      <th></th>\n",
       "      <th>candidate</th>\n",
       "      <th>Donald Trump</th>\n",
       "      <th>Joe Biden</th>\n",
       "    </tr>\n",
       "    <tr>\n",
       "      <th>state</th>\n",
       "      <th>county</th>\n",
       "      <th></th>\n",
       "      <th></th>\n",
       "    </tr>\n",
       "  </thead>\n",
       "  <tbody>\n",
       "    <tr>\n",
       "      <th rowspan=\"5\" valign=\"top\">Alabama</th>\n",
       "      <th>Autauga County</th>\n",
       "      <td>0.714368</td>\n",
       "      <td>0.270184</td>\n",
       "    </tr>\n",
       "    <tr>\n",
       "      <th>Baldwin County</th>\n",
       "      <td>0.761714</td>\n",
       "      <td>0.224090</td>\n",
       "    </tr>\n",
       "    <tr>\n",
       "      <th>Barbour County</th>\n",
       "      <td>0.534512</td>\n",
       "      <td>0.457882</td>\n",
       "    </tr>\n",
       "    <tr>\n",
       "      <th>Bibb County</th>\n",
       "      <td>0.784263</td>\n",
       "      <td>0.206983</td>\n",
       "    </tr>\n",
       "    <tr>\n",
       "      <th>Blount County</th>\n",
       "      <td>0.895716</td>\n",
       "      <td>0.095694</td>\n",
       "    </tr>\n",
       "  </tbody>\n",
       "</table>\n",
       "</div>"
      ],
      "text/plain": [
       "candidate               Donald Trump  Joe Biden\n",
       "state   county                                 \n",
       "Alabama Autauga County      0.714368   0.270184\n",
       "        Baldwin County      0.761714   0.224090\n",
       "        Barbour County      0.534512   0.457882\n",
       "        Bibb County         0.784263   0.206983\n",
       "        Blount County       0.895716   0.095694"
      ]
     },
     "execution_count": 69,
     "metadata": {},
     "output_type": "execute_result"
    }
   ],
   "source": [
    "BT.head()"
   ]
  },
  {
   "cell_type": "code",
   "execution_count": 70,
   "metadata": {
    "ExecuteTime": {
     "end_time": "2021-01-01T08:44:30.985246Z",
     "start_time": "2021-01-01T08:44:30.980223Z"
    }
   },
   "outputs": [],
   "source": [
    "BT['BT'] = BT['Joe Biden'] - BT['Donald Trump']"
   ]
  },
  {
   "cell_type": "code",
   "execution_count": 71,
   "metadata": {
    "ExecuteTime": {
     "end_time": "2021-01-01T08:44:30.996213Z",
     "start_time": "2021-01-01T08:44:30.987203Z"
    }
   },
   "outputs": [],
   "source": [
    "btc = BT.reset_index().groupby('state')['BT'].agg(lambda x: x.median()>0)"
   ]
  },
  {
   "cell_type": "code",
   "execution_count": 72,
   "metadata": {
    "ExecuteTime": {
     "end_time": "2021-01-01T08:44:31.003188Z",
     "start_time": "2021-01-01T08:44:30.998174Z"
    }
   },
   "outputs": [],
   "source": [
    "Biden_Sate = btc[btc].index.to_list()"
   ]
  },
  {
   "cell_type": "markdown",
   "metadata": {},
   "source": [
    "**第三问**结果：Biden State如下"
   ]
  },
  {
   "cell_type": "code",
   "execution_count": 73,
   "metadata": {
    "ExecuteTime": {
     "end_time": "2021-01-01T08:44:31.010142Z",
     "start_time": "2021-01-01T08:44:31.005155Z"
    }
   },
   "outputs": [
    {
     "name": "stdout",
     "output_type": "stream",
     "text": [
      "California\n",
      "Connecticut\n",
      "Delaware\n",
      "District of Columbia\n",
      "Hawaii\n",
      "Massachusetts\n",
      "New Jersey\n",
      "Rhode Island\n",
      "Vermont\n"
     ]
    }
   ],
   "source": [
    "for x in Biden_Sate: print(x)"
   ]
  }
 ],
 "metadata": {
  "kernelspec": {
   "display_name": "Python 3",
   "language": "python",
   "name": "python3"
  },
  "language_info": {
   "codemirror_mode": {
    "name": "ipython",
    "version": 3
   },
   "file_extension": ".py",
   "mimetype": "text/x-python",
   "name": "python",
   "nbconvert_exporter": "python",
   "pygments_lexer": "ipython3",
   "version": "3.7.4"
  },
  "toc": {
   "base_numbering": 1,
   "nav_menu": {},
   "number_sections": true,
   "sideBar": true,
   "skip_h1_title": false,
   "title_cell": "Table of Contents",
   "title_sidebar": "Contents",
   "toc_cell": false,
   "toc_position": {},
   "toc_section_display": true,
   "toc_window_display": false
  },
  "varInspector": {
   "cols": {
    "lenName": 16,
    "lenType": 16,
    "lenVar": 40
   },
   "kernels_config": {
    "python": {
     "delete_cmd_postfix": "",
     "delete_cmd_prefix": "del ",
     "library": "var_list.py",
     "varRefreshCmd": "print(var_dic_list())"
    },
    "r": {
     "delete_cmd_postfix": ") ",
     "delete_cmd_prefix": "rm(",
     "library": "var_list.r",
     "varRefreshCmd": "cat(var_dic_list()) "
    }
   },
   "types_to_exclude": [
    "module",
    "function",
    "builtin_function_or_method",
    "instance",
    "_Feature"
   ],
   "window_display": false
  }
 },
 "nbformat": 4,
 "nbformat_minor": 2
}
