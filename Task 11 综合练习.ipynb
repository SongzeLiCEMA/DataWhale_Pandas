{
 "cells": [
  {
   "cell_type": "markdown",
   "metadata": {},
   "source": [
    "# 综合练习"
   ]
  },
  {
   "cell_type": "code",
   "execution_count": 1,
   "metadata": {
    "ExecuteTime": {
     "end_time": "2021-01-13T09:29:22.389406Z",
     "start_time": "2021-01-13T09:29:21.655419Z"
    }
   },
   "outputs": [],
   "source": [
    "import numpy as np\n",
    "import pandas as pd"
   ]
  },
  {
   "cell_type": "markdown",
   "metadata": {},
   "source": [
    "## 【任务四】显卡日志"
   ]
  },
  {
   "cell_type": "code",
   "execution_count": 2,
   "metadata": {
    "ExecuteTime": {
     "end_time": "2021-01-13T09:29:22.403369Z",
     "start_time": "2021-01-13T09:29:22.391402Z"
    }
   },
   "outputs": [],
   "source": [
    "# 读取数据\n",
    "df = pd.read_table('./data/Task 11/benchmark.txt',header=None)[0]"
   ]
  },
  {
   "cell_type": "code",
   "execution_count": 3,
   "metadata": {
    "ExecuteTime": {
     "end_time": "2021-01-13T09:29:22.430302Z",
     "start_time": "2021-01-13T09:29:22.408356Z"
    }
   },
   "outputs": [
    {
     "data": {
      "text/plain": [
       "0                                                 start\n",
       "1                benchmark start :  2020/12/24 12:12:48\n",
       "2                  Number of GPUs on current device : 1\n",
       "3                                   CUDA Version : 11.0\n",
       "4                                  Cudnn Version : 8005\n",
       "5                        Device Name : GeForce RTX 3090\n",
       "6     uname_result(system='Linux', node='gyh-X11DPi-...\n",
       "7     scpufreq(current=1182.0009166666669, min=1000....\n",
       "8                                         cpu_count: 36\n",
       "9                        memory_available: 129118310400\n",
       "10    Benchmarking Training float precision type mna...\n",
       "11    mnasnet0_5  model average train time :  28.527...\n",
       "12    Benchmarking Training float precision type mna...\n",
       "13    mnasnet0_75  model average train time :  34.10...\n",
       "14    Benchmarking Training float precision type mna...\n",
       "15    mnasnet1_0  model average train time :  34.313...\n",
       "16    Benchmarking Training float precision type mna...\n",
       "17    mnasnet1_3  model average train time :  35.556...\n",
       "18    Benchmarking Training float precision type res...\n",
       "19    resnet18  model average train time :  18.66008...\n",
       "Name: 0, dtype: object"
      ]
     },
     "execution_count": 3,
     "metadata": {},
     "output_type": "execute_result"
    }
   ],
   "source": [
    "df.head(20)"
   ]
  },
  {
   "cell_type": "markdown",
   "metadata": {},
   "source": [
    "大体思路：用正则表达式提取所需信息。"
   ]
  },
  {
   "cell_type": "code",
   "execution_count": 4,
   "metadata": {
    "ExecuteTime": {
     "end_time": "2021-01-13T09:29:22.439288Z",
     "start_time": "2021-01-13T09:29:22.435284Z"
    }
   },
   "outputs": [],
   "source": [
    "import re"
   ]
  },
  {
   "cell_type": "code",
   "execution_count": 5,
   "metadata": {
    "ExecuteTime": {
     "end_time": "2021-01-13T09:29:22.454821Z",
     "start_time": "2021-01-13T09:29:22.442980Z"
    }
   },
   "outputs": [],
   "source": [
    "df_1 = df.str.extract('Benchmarking\\s(?P<state>Train|Inference)\\w*\\s(?P<dtype>float|half|double)\\sprecision\\stype\\s(?P<model>\\w+)')"
   ]
  },
  {
   "cell_type": "code",
   "execution_count": 6,
   "metadata": {
    "ExecuteTime": {
     "end_time": "2021-01-13T09:29:22.487723Z",
     "start_time": "2021-01-13T09:29:22.459799Z"
    }
   },
   "outputs": [
    {
     "data": {
      "text/html": [
       "<div>\n",
       "<style scoped>\n",
       "    .dataframe tbody tr th:only-of-type {\n",
       "        vertical-align: middle;\n",
       "    }\n",
       "\n",
       "    .dataframe tbody tr th {\n",
       "        vertical-align: top;\n",
       "    }\n",
       "\n",
       "    .dataframe thead th {\n",
       "        text-align: right;\n",
       "    }\n",
       "</style>\n",
       "<table border=\"1\" class=\"dataframe\">\n",
       "  <thead>\n",
       "    <tr style=\"text-align: right;\">\n",
       "      <th></th>\n",
       "      <th>state</th>\n",
       "      <th>dtype</th>\n",
       "      <th>model</th>\n",
       "    </tr>\n",
       "  </thead>\n",
       "  <tbody>\n",
       "    <tr>\n",
       "      <th>386</th>\n",
       "      <td>Inference</td>\n",
       "      <td>double</td>\n",
       "      <td>shufflenet_v2_x0_5</td>\n",
       "    </tr>\n",
       "    <tr>\n",
       "      <th>387</th>\n",
       "      <td>NaN</td>\n",
       "      <td>NaN</td>\n",
       "      <td>NaN</td>\n",
       "    </tr>\n",
       "    <tr>\n",
       "      <th>388</th>\n",
       "      <td>Inference</td>\n",
       "      <td>double</td>\n",
       "      <td>shufflenet_v2_x1_0</td>\n",
       "    </tr>\n",
       "    <tr>\n",
       "      <th>389</th>\n",
       "      <td>NaN</td>\n",
       "      <td>NaN</td>\n",
       "      <td>NaN</td>\n",
       "    </tr>\n",
       "    <tr>\n",
       "      <th>390</th>\n",
       "      <td>Inference</td>\n",
       "      <td>double</td>\n",
       "      <td>shufflenet_v2_x1_5</td>\n",
       "    </tr>\n",
       "    <tr>\n",
       "      <th>391</th>\n",
       "      <td>NaN</td>\n",
       "      <td>NaN</td>\n",
       "      <td>NaN</td>\n",
       "    </tr>\n",
       "    <tr>\n",
       "      <th>392</th>\n",
       "      <td>Inference</td>\n",
       "      <td>double</td>\n",
       "      <td>shufflenet_v2_x2_0</td>\n",
       "    </tr>\n",
       "    <tr>\n",
       "      <th>393</th>\n",
       "      <td>NaN</td>\n",
       "      <td>NaN</td>\n",
       "      <td>NaN</td>\n",
       "    </tr>\n",
       "    <tr>\n",
       "      <th>394</th>\n",
       "      <td>NaN</td>\n",
       "      <td>NaN</td>\n",
       "      <td>NaN</td>\n",
       "    </tr>\n",
       "    <tr>\n",
       "      <th>395</th>\n",
       "      <td>NaN</td>\n",
       "      <td>NaN</td>\n",
       "      <td>NaN</td>\n",
       "    </tr>\n",
       "  </tbody>\n",
       "</table>\n",
       "</div>"
      ],
      "text/plain": [
       "         state   dtype               model\n",
       "386  Inference  double  shufflenet_v2_x0_5\n",
       "387        NaN     NaN                 NaN\n",
       "388  Inference  double  shufflenet_v2_x1_0\n",
       "389        NaN     NaN                 NaN\n",
       "390  Inference  double  shufflenet_v2_x1_5\n",
       "391        NaN     NaN                 NaN\n",
       "392  Inference  double  shufflenet_v2_x2_0\n",
       "393        NaN     NaN                 NaN\n",
       "394        NaN     NaN                 NaN\n",
       "395        NaN     NaN                 NaN"
      ]
     },
     "execution_count": 6,
     "metadata": {},
     "output_type": "execute_result"
    }
   ],
   "source": [
    "df_1.tail(10)"
   ]
  },
  {
   "cell_type": "code",
   "execution_count": 7,
   "metadata": {
    "ExecuteTime": {
     "end_time": "2021-01-13T09:29:22.497221Z",
     "start_time": "2021-01-13T09:29:22.489719Z"
    }
   },
   "outputs": [],
   "source": [
    "# 为了与上面的结果对齐，需要往前shift\n",
    "df_2 = df.str.extract('(?P<time>\\d*\\.*\\d+)\\sms').shift(-1)"
   ]
  },
  {
   "cell_type": "code",
   "execution_count": 8,
   "metadata": {
    "ExecuteTime": {
     "end_time": "2021-01-13T09:29:22.507754Z",
     "start_time": "2021-01-13T09:29:22.501778Z"
    }
   },
   "outputs": [],
   "source": [
    "mdf = df_1.join(df_2)"
   ]
  },
  {
   "cell_type": "code",
   "execution_count": 9,
   "metadata": {
    "ExecuteTime": {
     "end_time": "2021-01-13T09:29:22.526364Z",
     "start_time": "2021-01-13T09:29:22.509749Z"
    }
   },
   "outputs": [],
   "source": [
    "# 生成变形前的长表\n",
    "edf = mdf[mdf.isna().all(1)==False].reset_index(drop=True)"
   ]
  },
  {
   "cell_type": "code",
   "execution_count": 10,
   "metadata": {
    "ExecuteTime": {
     "end_time": "2021-01-13T09:29:22.535341Z",
     "start_time": "2021-01-13T09:29:22.527362Z"
    },
    "scrolled": true
   },
   "outputs": [],
   "source": [
    "edf = edf.sort_values(['state','dtype'],ascending=[False,False]).reset_index(drop=True)"
   ]
  },
  {
   "cell_type": "code",
   "execution_count": 11,
   "metadata": {
    "ExecuteTime": {
     "end_time": "2021-01-13T09:29:22.543318Z",
     "start_time": "2021-01-13T09:29:22.538332Z"
    }
   },
   "outputs": [],
   "source": [
    "edf.time = edf.time.astype('float')"
   ]
  },
  {
   "cell_type": "code",
   "execution_count": 12,
   "metadata": {
    "ExecuteTime": {
     "end_time": "2021-01-13T09:29:22.552831Z",
     "start_time": "2021-01-13T09:29:22.545326Z"
    }
   },
   "outputs": [],
   "source": [
    "# 长表变宽表\n",
    "edf = edf.pivot(index='model',\n",
    "          columns=['state','dtype'],\n",
    "          values='time')"
   ]
  },
  {
   "cell_type": "code",
   "execution_count": 13,
   "metadata": {
    "ExecuteTime": {
     "end_time": "2021-01-13T09:29:22.570411Z",
     "start_time": "2021-01-13T09:29:22.554826Z"
    }
   },
   "outputs": [
    {
     "data": {
      "text/html": [
       "<div>\n",
       "<style scoped>\n",
       "    .dataframe tbody tr th:only-of-type {\n",
       "        vertical-align: middle;\n",
       "    }\n",
       "\n",
       "    .dataframe tbody tr th {\n",
       "        vertical-align: top;\n",
       "    }\n",
       "\n",
       "    .dataframe thead tr th {\n",
       "        text-align: left;\n",
       "    }\n",
       "\n",
       "    .dataframe thead tr:last-of-type th {\n",
       "        text-align: right;\n",
       "    }\n",
       "</style>\n",
       "<table border=\"1\" class=\"dataframe\">\n",
       "  <thead>\n",
       "    <tr>\n",
       "      <th>state</th>\n",
       "      <th colspan=\"3\" halign=\"left\">Train</th>\n",
       "      <th colspan=\"3\" halign=\"left\">Inference</th>\n",
       "    </tr>\n",
       "    <tr>\n",
       "      <th>dtype</th>\n",
       "      <th>half</th>\n",
       "      <th>float</th>\n",
       "      <th>double</th>\n",
       "      <th>half</th>\n",
       "      <th>float</th>\n",
       "      <th>double</th>\n",
       "    </tr>\n",
       "    <tr>\n",
       "      <th>model</th>\n",
       "      <th></th>\n",
       "      <th></th>\n",
       "      <th></th>\n",
       "      <th></th>\n",
       "      <th></th>\n",
       "      <th></th>\n",
       "    </tr>\n",
       "  </thead>\n",
       "  <tbody>\n",
       "    <tr>\n",
       "      <th>densenet121</th>\n",
       "      <td>88.976321</td>\n",
       "      <td>93.357434</td>\n",
       "      <td>417.206821</td>\n",
       "      <td>19.772344</td>\n",
       "      <td>15.636520</td>\n",
       "      <td>144.110632</td>\n",
       "    </tr>\n",
       "    <tr>\n",
       "      <th>densenet161</th>\n",
       "      <td>144.318886</td>\n",
       "      <td>136.624231</td>\n",
       "      <td>1290.286574</td>\n",
       "      <td>27.554517</td>\n",
       "      <td>31.750259</td>\n",
       "      <td>511.176925</td>\n",
       "    </tr>\n",
       "    <tr>\n",
       "      <th>densenet169</th>\n",
       "      <td>121.555843</td>\n",
       "      <td>104.839993</td>\n",
       "      <td>511.403556</td>\n",
       "      <td>26.370974</td>\n",
       "      <td>21.598272</td>\n",
       "      <td>175.807581</td>\n",
       "    </tr>\n",
       "  </tbody>\n",
       "</table>\n",
       "</div>"
      ],
      "text/plain": [
       "state             Train                           Inference             \\\n",
       "dtype              half       float       double       half      float   \n",
       "model                                                                    \n",
       "densenet121   88.976321   93.357434   417.206821  19.772344  15.636520   \n",
       "densenet161  144.318886  136.624231  1290.286574  27.554517  31.750259   \n",
       "densenet169  121.555843  104.839993   511.403556  26.370974  21.598272   \n",
       "\n",
       "state                    \n",
       "dtype            double  \n",
       "model                    \n",
       "densenet121  144.110632  \n",
       "densenet161  511.176925  \n",
       "densenet169  175.807581  "
      ]
     },
     "execution_count": 13,
     "metadata": {},
     "output_type": "execute_result"
    }
   ],
   "source": [
    "edf.head(3)"
   ]
  },
  {
   "cell_type": "markdown",
   "metadata": {},
   "source": [
    "最后需要进行**多级列索引的压缩**："
   ]
  },
  {
   "cell_type": "code",
   "execution_count": 14,
   "metadata": {
    "ExecuteTime": {
     "end_time": "2021-01-13T09:29:22.576395Z",
     "start_time": "2021-01-13T09:29:22.572406Z"
    }
   },
   "outputs": [],
   "source": [
    "edf.columns = edf.columns.map(lambda x: (x[0]+'-'+x[1]))"
   ]
  },
  {
   "cell_type": "code",
   "execution_count": 15,
   "metadata": {
    "ExecuteTime": {
     "end_time": "2021-01-13T09:29:22.581571Z",
     "start_time": "2021-01-13T09:29:22.577392Z"
    }
   },
   "outputs": [],
   "source": [
    "# 按照模型字母排序\n",
    "edf = edf.sort_index()"
   ]
  },
  {
   "cell_type": "code",
   "execution_count": 16,
   "metadata": {
    "ExecuteTime": {
     "end_time": "2021-01-13T09:29:22.591450Z",
     "start_time": "2021-01-13T09:29:22.583559Z"
    }
   },
   "outputs": [],
   "source": [
    "# 保留三位小数\n",
    "edf = edf.round(3)"
   ]
  },
  {
   "cell_type": "markdown",
   "metadata": {},
   "source": [
    "最终结果如下："
   ]
  },
  {
   "cell_type": "code",
   "execution_count": 17,
   "metadata": {
    "ExecuteTime": {
     "end_time": "2021-01-13T09:29:22.610392Z",
     "start_time": "2021-01-13T09:29:22.593437Z"
    }
   },
   "outputs": [
    {
     "data": {
      "text/html": [
       "<div>\n",
       "<style scoped>\n",
       "    .dataframe tbody tr th:only-of-type {\n",
       "        vertical-align: middle;\n",
       "    }\n",
       "\n",
       "    .dataframe tbody tr th {\n",
       "        vertical-align: top;\n",
       "    }\n",
       "\n",
       "    .dataframe thead th {\n",
       "        text-align: right;\n",
       "    }\n",
       "</style>\n",
       "<table border=\"1\" class=\"dataframe\">\n",
       "  <thead>\n",
       "    <tr style=\"text-align: right;\">\n",
       "      <th></th>\n",
       "      <th>Train-half</th>\n",
       "      <th>Train-float</th>\n",
       "      <th>Train-double</th>\n",
       "      <th>Inference-half</th>\n",
       "      <th>Inference-float</th>\n",
       "      <th>Inference-double</th>\n",
       "    </tr>\n",
       "    <tr>\n",
       "      <th>model</th>\n",
       "      <th></th>\n",
       "      <th></th>\n",
       "      <th></th>\n",
       "      <th></th>\n",
       "      <th></th>\n",
       "      <th></th>\n",
       "    </tr>\n",
       "  </thead>\n",
       "  <tbody>\n",
       "    <tr>\n",
       "      <th>densenet121</th>\n",
       "      <td>88.976</td>\n",
       "      <td>93.357</td>\n",
       "      <td>417.207</td>\n",
       "      <td>19.772</td>\n",
       "      <td>15.637</td>\n",
       "      <td>144.111</td>\n",
       "    </tr>\n",
       "    <tr>\n",
       "      <th>densenet161</th>\n",
       "      <td>144.319</td>\n",
       "      <td>136.624</td>\n",
       "      <td>1290.287</td>\n",
       "      <td>27.555</td>\n",
       "      <td>31.750</td>\n",
       "      <td>511.177</td>\n",
       "    </tr>\n",
       "    <tr>\n",
       "      <th>densenet169</th>\n",
       "      <td>121.556</td>\n",
       "      <td>104.840</td>\n",
       "      <td>511.404</td>\n",
       "      <td>26.371</td>\n",
       "      <td>21.598</td>\n",
       "      <td>175.808</td>\n",
       "    </tr>\n",
       "  </tbody>\n",
       "</table>\n",
       "</div>"
      ],
      "text/plain": [
       "             Train-half  Train-float  Train-double  Inference-half  \\\n",
       "model                                                                \n",
       "densenet121      88.976       93.357       417.207          19.772   \n",
       "densenet161     144.319      136.624      1290.287          27.555   \n",
       "densenet169     121.556      104.840       511.404          26.371   \n",
       "\n",
       "             Inference-float  Inference-double  \n",
       "model                                           \n",
       "densenet121           15.637           144.111  \n",
       "densenet161           31.750           511.177  \n",
       "densenet169           21.598           175.808  "
      ]
     },
     "execution_count": 17,
     "metadata": {},
     "output_type": "execute_result"
    }
   ],
   "source": [
    "edf.head(3)"
   ]
  },
  {
   "cell_type": "markdown",
   "metadata": {},
   "source": [
    "## 【任务五】水压站点的特征工程"
   ]
  },
  {
   "cell_type": "code",
   "execution_count": 18,
   "metadata": {
    "ExecuteTime": {
     "end_time": "2021-01-13T09:29:22.831604Z",
     "start_time": "2021-01-13T09:29:22.613393Z"
    }
   },
   "outputs": [],
   "source": [
    "df1 = pd.read_csv('./data/Task 11/yali18.csv')\n",
    "df2 = pd.read_csv('./data/Task 11/yali19.csv')\n",
    "df3 = pd.read_csv('./data/Task 11/qx1819.csv')"
   ]
  },
  {
   "cell_type": "code",
   "execution_count": 19,
   "metadata": {
    "ExecuteTime": {
     "end_time": "2021-01-13T09:29:22.862301Z",
     "start_time": "2021-01-13T09:29:22.835591Z"
    }
   },
   "outputs": [
    {
     "data": {
      "text/html": [
       "<div>\n",
       "<style scoped>\n",
       "    .dataframe tbody tr th:only-of-type {\n",
       "        vertical-align: middle;\n",
       "    }\n",
       "\n",
       "    .dataframe tbody tr th {\n",
       "        vertical-align: top;\n",
       "    }\n",
       "\n",
       "    .dataframe thead th {\n",
       "        text-align: right;\n",
       "    }\n",
       "</style>\n",
       "<table border=\"1\" class=\"dataframe\">\n",
       "  <thead>\n",
       "    <tr style=\"text-align: right;\">\n",
       "      <th></th>\n",
       "      <th>Time</th>\n",
       "      <th>MeasName</th>\n",
       "      <th>H0</th>\n",
       "      <th>H1</th>\n",
       "      <th>H2</th>\n",
       "      <th>H3</th>\n",
       "      <th>H4</th>\n",
       "      <th>H5</th>\n",
       "      <th>H6</th>\n",
       "      <th>H7</th>\n",
       "      <th>...</th>\n",
       "      <th>H14</th>\n",
       "      <th>H15</th>\n",
       "      <th>H16</th>\n",
       "      <th>H17</th>\n",
       "      <th>H18</th>\n",
       "      <th>H19</th>\n",
       "      <th>H20</th>\n",
       "      <th>H21</th>\n",
       "      <th>H22</th>\n",
       "      <th>H23</th>\n",
       "    </tr>\n",
       "  </thead>\n",
       "  <tbody>\n",
       "    <tr>\n",
       "      <th>0</th>\n",
       "      <td>2018-01-01</td>\n",
       "      <td>站点4</td>\n",
       "      <td>0.402750</td>\n",
       "      <td>0.407625</td>\n",
       "      <td>0.418125</td>\n",
       "      <td>0.425250</td>\n",
       "      <td>0.426000</td>\n",
       "      <td>0.425250</td>\n",
       "      <td>0.417375</td>\n",
       "      <td>0.426375</td>\n",
       "      <td>...</td>\n",
       "      <td>0.348750</td>\n",
       "      <td>0.359250</td>\n",
       "      <td>0.355500</td>\n",
       "      <td>0.344250</td>\n",
       "      <td>0.352125</td>\n",
       "      <td>0.356250</td>\n",
       "      <td>0.34725</td>\n",
       "      <td>0.343875</td>\n",
       "      <td>0.356625</td>\n",
       "      <td>0.418875</td>\n",
       "    </tr>\n",
       "    <tr>\n",
       "      <th>1</th>\n",
       "      <td>2018-01-01</td>\n",
       "      <td>站点7</td>\n",
       "      <td>0.214375</td>\n",
       "      <td>0.226750</td>\n",
       "      <td>0.232375</td>\n",
       "      <td>0.233125</td>\n",
       "      <td>0.235000</td>\n",
       "      <td>0.232750</td>\n",
       "      <td>0.230875</td>\n",
       "      <td>0.220000</td>\n",
       "      <td>...</td>\n",
       "      <td>0.187375</td>\n",
       "      <td>0.196750</td>\n",
       "      <td>0.199750</td>\n",
       "      <td>0.192250</td>\n",
       "      <td>0.186250</td>\n",
       "      <td>0.183250</td>\n",
       "      <td>0.17725</td>\n",
       "      <td>0.163375</td>\n",
       "      <td>0.165250</td>\n",
       "      <td>0.199375</td>\n",
       "    </tr>\n",
       "    <tr>\n",
       "      <th>2</th>\n",
       "      <td>2018-01-01</td>\n",
       "      <td>站点22</td>\n",
       "      <td>0.247000</td>\n",
       "      <td>0.248125</td>\n",
       "      <td>0.271375</td>\n",
       "      <td>0.251125</td>\n",
       "      <td>0.272125</td>\n",
       "      <td>0.256375</td>\n",
       "      <td>0.257125</td>\n",
       "      <td>0.242500</td>\n",
       "      <td>...</td>\n",
       "      <td>0.245500</td>\n",
       "      <td>0.242875</td>\n",
       "      <td>0.238375</td>\n",
       "      <td>0.230875</td>\n",
       "      <td>0.237250</td>\n",
       "      <td>0.236875</td>\n",
       "      <td>0.23650</td>\n",
       "      <td>0.236500</td>\n",
       "      <td>0.241000</td>\n",
       "      <td>0.254500</td>\n",
       "    </tr>\n",
       "  </tbody>\n",
       "</table>\n",
       "<p>3 rows × 26 columns</p>\n",
       "</div>"
      ],
      "text/plain": [
       "         Time MeasName        H0        H1        H2        H3        H4  \\\n",
       "0  2018-01-01      站点4  0.402750  0.407625  0.418125  0.425250  0.426000   \n",
       "1  2018-01-01      站点7  0.214375  0.226750  0.232375  0.233125  0.235000   \n",
       "2  2018-01-01     站点22  0.247000  0.248125  0.271375  0.251125  0.272125   \n",
       "\n",
       "         H5        H6        H7  ...       H14       H15       H16       H17  \\\n",
       "0  0.425250  0.417375  0.426375  ...  0.348750  0.359250  0.355500  0.344250   \n",
       "1  0.232750  0.230875  0.220000  ...  0.187375  0.196750  0.199750  0.192250   \n",
       "2  0.256375  0.257125  0.242500  ...  0.245500  0.242875  0.238375  0.230875   \n",
       "\n",
       "        H18       H19      H20       H21       H22       H23  \n",
       "0  0.352125  0.356250  0.34725  0.343875  0.356625  0.418875  \n",
       "1  0.186250  0.183250  0.17725  0.163375  0.165250  0.199375  \n",
       "2  0.237250  0.236875  0.23650  0.236500  0.241000  0.254500  \n",
       "\n",
       "[3 rows x 26 columns]"
      ]
     },
     "execution_count": 19,
     "metadata": {},
     "output_type": "execute_result"
    }
   ],
   "source": [
    "df1.head(3)"
   ]
  },
  {
   "cell_type": "code",
   "execution_count": 20,
   "metadata": {
    "ExecuteTime": {
     "end_time": "2021-01-13T09:29:22.893657Z",
     "start_time": "2021-01-13T09:29:22.866290Z"
    }
   },
   "outputs": [
    {
     "data": {
      "text/html": [
       "<div>\n",
       "<style scoped>\n",
       "    .dataframe tbody tr th:only-of-type {\n",
       "        vertical-align: middle;\n",
       "    }\n",
       "\n",
       "    .dataframe tbody tr th {\n",
       "        vertical-align: top;\n",
       "    }\n",
       "\n",
       "    .dataframe thead th {\n",
       "        text-align: right;\n",
       "    }\n",
       "</style>\n",
       "<table border=\"1\" class=\"dataframe\">\n",
       "  <thead>\n",
       "    <tr style=\"text-align: right;\">\n",
       "      <th></th>\n",
       "      <th>Time</th>\n",
       "      <th>MeasName</th>\n",
       "      <th>H0</th>\n",
       "      <th>H1</th>\n",
       "      <th>H2</th>\n",
       "      <th>H3</th>\n",
       "      <th>H4</th>\n",
       "      <th>H5</th>\n",
       "      <th>H6</th>\n",
       "      <th>H7</th>\n",
       "      <th>...</th>\n",
       "      <th>H14</th>\n",
       "      <th>H15</th>\n",
       "      <th>H16</th>\n",
       "      <th>H17</th>\n",
       "      <th>H18</th>\n",
       "      <th>H19</th>\n",
       "      <th>H20</th>\n",
       "      <th>H21</th>\n",
       "      <th>H22</th>\n",
       "      <th>H23</th>\n",
       "    </tr>\n",
       "  </thead>\n",
       "  <tbody>\n",
       "    <tr>\n",
       "      <th>0</th>\n",
       "      <td>2019-01-01</td>\n",
       "      <td>站点4</td>\n",
       "      <td>0.342000</td>\n",
       "      <td>0.429375</td>\n",
       "      <td>0.429000</td>\n",
       "      <td>0.440250</td>\n",
       "      <td>0.445875</td>\n",
       "      <td>0.444750</td>\n",
       "      <td>0.417750</td>\n",
       "      <td>0.387000</td>\n",
       "      <td>...</td>\n",
       "      <td>0.319875</td>\n",
       "      <td>0.326250</td>\n",
       "      <td>0.323625</td>\n",
       "      <td>0.322500</td>\n",
       "      <td>0.309000</td>\n",
       "      <td>0.307125</td>\n",
       "      <td>0.307125</td>\n",
       "      <td>0.307125</td>\n",
       "      <td>0.307125</td>\n",
       "      <td>0.307125</td>\n",
       "    </tr>\n",
       "    <tr>\n",
       "      <th>1</th>\n",
       "      <td>2019-01-01</td>\n",
       "      <td>站点7</td>\n",
       "      <td>0.215125</td>\n",
       "      <td>0.239500</td>\n",
       "      <td>0.257500</td>\n",
       "      <td>0.246250</td>\n",
       "      <td>0.275125</td>\n",
       "      <td>0.264625</td>\n",
       "      <td>0.229375</td>\n",
       "      <td>0.205375</td>\n",
       "      <td>...</td>\n",
       "      <td>0.180625</td>\n",
       "      <td>0.176500</td>\n",
       "      <td>0.181375</td>\n",
       "      <td>0.155125</td>\n",
       "      <td>0.159625</td>\n",
       "      <td>0.146125</td>\n",
       "      <td>0.144625</td>\n",
       "      <td>0.135250</td>\n",
       "      <td>0.158875</td>\n",
       "      <td>0.184750</td>\n",
       "    </tr>\n",
       "    <tr>\n",
       "      <th>2</th>\n",
       "      <td>2019-01-01</td>\n",
       "      <td>站点22</td>\n",
       "      <td>0.244750</td>\n",
       "      <td>0.248875</td>\n",
       "      <td>0.246625</td>\n",
       "      <td>0.247375</td>\n",
       "      <td>0.247375</td>\n",
       "      <td>0.245500</td>\n",
       "      <td>0.244000</td>\n",
       "      <td>0.239500</td>\n",
       "      <td>...</td>\n",
       "      <td>0.238000</td>\n",
       "      <td>0.236125</td>\n",
       "      <td>0.235375</td>\n",
       "      <td>0.238000</td>\n",
       "      <td>0.231250</td>\n",
       "      <td>0.232375</td>\n",
       "      <td>0.226750</td>\n",
       "      <td>0.227875</td>\n",
       "      <td>0.236125</td>\n",
       "      <td>0.242125</td>\n",
       "    </tr>\n",
       "  </tbody>\n",
       "</table>\n",
       "<p>3 rows × 26 columns</p>\n",
       "</div>"
      ],
      "text/plain": [
       "         Time MeasName        H0        H1        H2        H3        H4  \\\n",
       "0  2019-01-01      站点4  0.342000  0.429375  0.429000  0.440250  0.445875   \n",
       "1  2019-01-01      站点7  0.215125  0.239500  0.257500  0.246250  0.275125   \n",
       "2  2019-01-01     站点22  0.244750  0.248875  0.246625  0.247375  0.247375   \n",
       "\n",
       "         H5        H6        H7  ...       H14       H15       H16       H17  \\\n",
       "0  0.444750  0.417750  0.387000  ...  0.319875  0.326250  0.323625  0.322500   \n",
       "1  0.264625  0.229375  0.205375  ...  0.180625  0.176500  0.181375  0.155125   \n",
       "2  0.245500  0.244000  0.239500  ...  0.238000  0.236125  0.235375  0.238000   \n",
       "\n",
       "        H18       H19       H20       H21       H22       H23  \n",
       "0  0.309000  0.307125  0.307125  0.307125  0.307125  0.307125  \n",
       "1  0.159625  0.146125  0.144625  0.135250  0.158875  0.184750  \n",
       "2  0.231250  0.232375  0.226750  0.227875  0.236125  0.242125  \n",
       "\n",
       "[3 rows x 26 columns]"
      ]
     },
     "execution_count": 20,
     "metadata": {},
     "output_type": "execute_result"
    }
   ],
   "source": [
    "df2.head(3)"
   ]
  },
  {
   "cell_type": "code",
   "execution_count": 21,
   "metadata": {
    "ExecuteTime": {
     "end_time": "2021-01-13T09:29:22.926526Z",
     "start_time": "2021-01-13T09:29:22.896650Z"
    }
   },
   "outputs": [],
   "source": [
    "df1['MeasName'] = df1.MeasName.str.extract('站点(\\d+)')[0].astype('int')"
   ]
  },
  {
   "cell_type": "code",
   "execution_count": 22,
   "metadata": {
    "ExecuteTime": {
     "end_time": "2021-01-13T09:29:22.953454Z",
     "start_time": "2021-01-13T09:29:22.928521Z"
    }
   },
   "outputs": [],
   "source": [
    "df2['MeasName'] = df2.MeasName.str.extract('站点(\\d+)')[0].astype('int')"
   ]
  },
  {
   "cell_type": "code",
   "execution_count": 23,
   "metadata": {
    "ExecuteTime": {
     "end_time": "2021-01-13T09:29:22.970407Z",
     "start_time": "2021-01-13T09:29:22.957445Z"
    }
   },
   "outputs": [],
   "source": [
    "df1 = df1.sort_values(['Time','MeasName']).reset_index(drop=True)"
   ]
  },
  {
   "cell_type": "code",
   "execution_count": 24,
   "metadata": {
    "ExecuteTime": {
     "end_time": "2021-01-13T09:29:22.987869Z",
     "start_time": "2021-01-13T09:29:22.973925Z"
    }
   },
   "outputs": [],
   "source": [
    "df2 = df2.sort_values(['Time','MeasName']).reset_index(drop=True)"
   ]
  },
  {
   "cell_type": "code",
   "execution_count": 25,
   "metadata": {
    "ExecuteTime": {
     "end_time": "2021-01-13T09:29:23.002650Z",
     "start_time": "2021-01-13T09:29:22.989864Z"
    }
   },
   "outputs": [],
   "source": [
    "df = df1.append(df2)"
   ]
  },
  {
   "cell_type": "code",
   "execution_count": 26,
   "metadata": {
    "ExecuteTime": {
     "end_time": "2021-01-13T09:29:23.036856Z",
     "start_time": "2021-01-13T09:29:23.004645Z"
    }
   },
   "outputs": [
    {
     "data": {
      "text/html": [
       "<div>\n",
       "<style scoped>\n",
       "    .dataframe tbody tr th:only-of-type {\n",
       "        vertical-align: middle;\n",
       "    }\n",
       "\n",
       "    .dataframe tbody tr th {\n",
       "        vertical-align: top;\n",
       "    }\n",
       "\n",
       "    .dataframe thead th {\n",
       "        text-align: right;\n",
       "    }\n",
       "</style>\n",
       "<table border=\"1\" class=\"dataframe\">\n",
       "  <thead>\n",
       "    <tr style=\"text-align: right;\">\n",
       "      <th></th>\n",
       "      <th>Time</th>\n",
       "      <th>MeasName</th>\n",
       "      <th>H0</th>\n",
       "      <th>H1</th>\n",
       "      <th>H2</th>\n",
       "      <th>H3</th>\n",
       "      <th>H4</th>\n",
       "      <th>H5</th>\n",
       "      <th>H6</th>\n",
       "      <th>H7</th>\n",
       "      <th>...</th>\n",
       "      <th>H14</th>\n",
       "      <th>H15</th>\n",
       "      <th>H16</th>\n",
       "      <th>H17</th>\n",
       "      <th>H18</th>\n",
       "      <th>H19</th>\n",
       "      <th>H20</th>\n",
       "      <th>H21</th>\n",
       "      <th>H22</th>\n",
       "      <th>H23</th>\n",
       "    </tr>\n",
       "  </thead>\n",
       "  <tbody>\n",
       "    <tr>\n",
       "      <th>0</th>\n",
       "      <td>2018-01-01</td>\n",
       "      <td>1</td>\n",
       "      <td>0.288625</td>\n",
       "      <td>0.29200</td>\n",
       "      <td>0.290500</td>\n",
       "      <td>0.29950</td>\n",
       "      <td>0.30025</td>\n",
       "      <td>0.29200</td>\n",
       "      <td>0.292750</td>\n",
       "      <td>0.254125</td>\n",
       "      <td>...</td>\n",
       "      <td>0.257125</td>\n",
       "      <td>0.264625</td>\n",
       "      <td>0.260500</td>\n",
       "      <td>0.23425</td>\n",
       "      <td>0.235750</td>\n",
       "      <td>0.238375</td>\n",
       "      <td>0.23050</td>\n",
       "      <td>0.21700</td>\n",
       "      <td>0.241000</td>\n",
       "      <td>0.281875</td>\n",
       "    </tr>\n",
       "    <tr>\n",
       "      <th>1</th>\n",
       "      <td>2018-01-01</td>\n",
       "      <td>2</td>\n",
       "      <td>0.317750</td>\n",
       "      <td>0.31925</td>\n",
       "      <td>0.320000</td>\n",
       "      <td>0.32150</td>\n",
       "      <td>0.32675</td>\n",
       "      <td>0.31475</td>\n",
       "      <td>0.313625</td>\n",
       "      <td>0.309875</td>\n",
       "      <td>...</td>\n",
       "      <td>0.311000</td>\n",
       "      <td>0.314750</td>\n",
       "      <td>0.312875</td>\n",
       "      <td>0.31325</td>\n",
       "      <td>0.307625</td>\n",
       "      <td>0.311375</td>\n",
       "      <td>0.31175</td>\n",
       "      <td>0.31025</td>\n",
       "      <td>0.311375</td>\n",
       "      <td>0.314000</td>\n",
       "    </tr>\n",
       "    <tr>\n",
       "      <th>2</th>\n",
       "      <td>2018-01-01</td>\n",
       "      <td>3</td>\n",
       "      <td>0.301375</td>\n",
       "      <td>0.30325</td>\n",
       "      <td>0.302125</td>\n",
       "      <td>0.30325</td>\n",
       "      <td>0.30700</td>\n",
       "      <td>0.30775</td>\n",
       "      <td>0.295000</td>\n",
       "      <td>0.292375</td>\n",
       "      <td>...</td>\n",
       "      <td>0.296875</td>\n",
       "      <td>0.296875</td>\n",
       "      <td>0.292375</td>\n",
       "      <td>0.29350</td>\n",
       "      <td>0.298375</td>\n",
       "      <td>0.290875</td>\n",
       "      <td>0.28825</td>\n",
       "      <td>0.28900</td>\n",
       "      <td>0.295750</td>\n",
       "      <td>0.299875</td>\n",
       "    </tr>\n",
       "  </tbody>\n",
       "</table>\n",
       "<p>3 rows × 26 columns</p>\n",
       "</div>"
      ],
      "text/plain": [
       "         Time  MeasName        H0       H1        H2       H3       H4  \\\n",
       "0  2018-01-01         1  0.288625  0.29200  0.290500  0.29950  0.30025   \n",
       "1  2018-01-01         2  0.317750  0.31925  0.320000  0.32150  0.32675   \n",
       "2  2018-01-01         3  0.301375  0.30325  0.302125  0.30325  0.30700   \n",
       "\n",
       "        H5        H6        H7  ...       H14       H15       H16      H17  \\\n",
       "0  0.29200  0.292750  0.254125  ...  0.257125  0.264625  0.260500  0.23425   \n",
       "1  0.31475  0.313625  0.309875  ...  0.311000  0.314750  0.312875  0.31325   \n",
       "2  0.30775  0.295000  0.292375  ...  0.296875  0.296875  0.292375  0.29350   \n",
       "\n",
       "        H18       H19      H20      H21       H22       H23  \n",
       "0  0.235750  0.238375  0.23050  0.21700  0.241000  0.281875  \n",
       "1  0.307625  0.311375  0.31175  0.31025  0.311375  0.314000  \n",
       "2  0.298375  0.290875  0.28825  0.28900  0.295750  0.299875  \n",
       "\n",
       "[3 rows x 26 columns]"
      ]
     },
     "execution_count": 26,
     "metadata": {},
     "output_type": "execute_result"
    }
   ],
   "source": [
    "df.head(3)"
   ]
  },
  {
   "cell_type": "code",
   "execution_count": 27,
   "metadata": {
    "ExecuteTime": {
     "end_time": "2021-01-13T09:29:23.095086Z",
     "start_time": "2021-01-13T09:29:23.039849Z"
    }
   },
   "outputs": [],
   "source": [
    "# 长表变宽表\n",
    "df = df.melt(id_vars = ['Time','MeasName'],\n",
    "        value_vars = ['H%d'%x for x in range(24)],\n",
    "        var_name = 'Hour',\n",
    "        value_name = '压力')"
   ]
  },
  {
   "cell_type": "code",
   "execution_count": 28,
   "metadata": {
    "ExecuteTime": {
     "end_time": "2021-01-13T09:29:23.113368Z",
     "start_time": "2021-01-13T09:29:23.098079Z"
    }
   },
   "outputs": [
    {
     "data": {
      "text/html": [
       "<div>\n",
       "<style scoped>\n",
       "    .dataframe tbody tr th:only-of-type {\n",
       "        vertical-align: middle;\n",
       "    }\n",
       "\n",
       "    .dataframe tbody tr th {\n",
       "        vertical-align: top;\n",
       "    }\n",
       "\n",
       "    .dataframe thead th {\n",
       "        text-align: right;\n",
       "    }\n",
       "</style>\n",
       "<table border=\"1\" class=\"dataframe\">\n",
       "  <thead>\n",
       "    <tr style=\"text-align: right;\">\n",
       "      <th></th>\n",
       "      <th>Time</th>\n",
       "      <th>MeasName</th>\n",
       "      <th>Hour</th>\n",
       "      <th>压力</th>\n",
       "    </tr>\n",
       "  </thead>\n",
       "  <tbody>\n",
       "    <tr>\n",
       "      <th>0</th>\n",
       "      <td>2018-01-01</td>\n",
       "      <td>1</td>\n",
       "      <td>H0</td>\n",
       "      <td>0.288625</td>\n",
       "    </tr>\n",
       "    <tr>\n",
       "      <th>1</th>\n",
       "      <td>2018-01-01</td>\n",
       "      <td>2</td>\n",
       "      <td>H0</td>\n",
       "      <td>0.317750</td>\n",
       "    </tr>\n",
       "    <tr>\n",
       "      <th>2</th>\n",
       "      <td>2018-01-01</td>\n",
       "      <td>3</td>\n",
       "      <td>H0</td>\n",
       "      <td>0.301375</td>\n",
       "    </tr>\n",
       "    <tr>\n",
       "      <th>3</th>\n",
       "      <td>2018-01-01</td>\n",
       "      <td>4</td>\n",
       "      <td>H0</td>\n",
       "      <td>0.402750</td>\n",
       "    </tr>\n",
       "    <tr>\n",
       "      <th>4</th>\n",
       "      <td>2018-01-01</td>\n",
       "      <td>5</td>\n",
       "      <td>H0</td>\n",
       "      <td>0.314625</td>\n",
       "    </tr>\n",
       "  </tbody>\n",
       "</table>\n",
       "</div>"
      ],
      "text/plain": [
       "         Time  MeasName Hour        压力\n",
       "0  2018-01-01         1   H0  0.288625\n",
       "1  2018-01-01         2   H0  0.317750\n",
       "2  2018-01-01         3   H0  0.301375\n",
       "3  2018-01-01         4   H0  0.402750\n",
       "4  2018-01-01         5   H0  0.314625"
      ]
     },
     "execution_count": 28,
     "metadata": {},
     "output_type": "execute_result"
    }
   ],
   "source": [
    "df.head()"
   ]
  },
  {
   "cell_type": "code",
   "execution_count": 29,
   "metadata": {
    "ExecuteTime": {
     "end_time": "2021-01-13T09:29:24.209736Z",
     "start_time": "2021-01-13T09:29:23.118344Z"
    }
   },
   "outputs": [],
   "source": [
    "df.Hour = df.Hour.str.extract('H(\\d+)')[0]"
   ]
  },
  {
   "cell_type": "code",
   "execution_count": 30,
   "metadata": {
    "ExecuteTime": {
     "end_time": "2021-01-13T09:29:24.231391Z",
     "start_time": "2021-01-13T09:29:24.211937Z"
    }
   },
   "outputs": [],
   "source": [
    "res = df.copy()"
   ]
  },
  {
   "cell_type": "code",
   "execution_count": 31,
   "metadata": {
    "ExecuteTime": {
     "end_time": "2021-01-13T09:29:24.246347Z",
     "start_time": "2021-01-13T09:29:24.233380Z"
    }
   },
   "outputs": [
    {
     "data": {
      "text/html": [
       "<div>\n",
       "<style scoped>\n",
       "    .dataframe tbody tr th:only-of-type {\n",
       "        vertical-align: middle;\n",
       "    }\n",
       "\n",
       "    .dataframe tbody tr th {\n",
       "        vertical-align: top;\n",
       "    }\n",
       "\n",
       "    .dataframe thead th {\n",
       "        text-align: right;\n",
       "    }\n",
       "</style>\n",
       "<table border=\"1\" class=\"dataframe\">\n",
       "  <thead>\n",
       "    <tr style=\"text-align: right;\">\n",
       "      <th></th>\n",
       "      <th>Time</th>\n",
       "      <th>MeasName</th>\n",
       "      <th>Hour</th>\n",
       "      <th>压力</th>\n",
       "    </tr>\n",
       "  </thead>\n",
       "  <tbody>\n",
       "    <tr>\n",
       "      <th>0</th>\n",
       "      <td>2018-01-01</td>\n",
       "      <td>1</td>\n",
       "      <td>0</td>\n",
       "      <td>0.288625</td>\n",
       "    </tr>\n",
       "    <tr>\n",
       "      <th>1</th>\n",
       "      <td>2018-01-01</td>\n",
       "      <td>2</td>\n",
       "      <td>0</td>\n",
       "      <td>0.317750</td>\n",
       "    </tr>\n",
       "    <tr>\n",
       "      <th>2</th>\n",
       "      <td>2018-01-01</td>\n",
       "      <td>3</td>\n",
       "      <td>0</td>\n",
       "      <td>0.301375</td>\n",
       "    </tr>\n",
       "    <tr>\n",
       "      <th>3</th>\n",
       "      <td>2018-01-01</td>\n",
       "      <td>4</td>\n",
       "      <td>0</td>\n",
       "      <td>0.402750</td>\n",
       "    </tr>\n",
       "    <tr>\n",
       "      <th>4</th>\n",
       "      <td>2018-01-01</td>\n",
       "      <td>5</td>\n",
       "      <td>0</td>\n",
       "      <td>0.314625</td>\n",
       "    </tr>\n",
       "  </tbody>\n",
       "</table>\n",
       "</div>"
      ],
      "text/plain": [
       "         Time  MeasName Hour        压力\n",
       "0  2018-01-01         1    0  0.288625\n",
       "1  2018-01-01         2    0  0.317750\n",
       "2  2018-01-01         3    0  0.301375\n",
       "3  2018-01-01         4    0  0.402750\n",
       "4  2018-01-01         5    0  0.314625"
      ]
     },
     "execution_count": 31,
     "metadata": {},
     "output_type": "execute_result"
    }
   ],
   "source": [
    "df.head()"
   ]
  },
  {
   "cell_type": "code",
   "execution_count": 32,
   "metadata": {
    "ExecuteTime": {
     "end_time": "2021-01-13T09:29:24.656735Z",
     "start_time": "2021-01-13T09:29:24.251345Z"
    }
   },
   "outputs": [],
   "source": [
    "df['Time'] = pd.to_datetime(df.Time + ' '+ df.Hour + ':00:00')"
   ]
  },
  {
   "cell_type": "code",
   "execution_count": 33,
   "metadata": {
    "ExecuteTime": {
     "end_time": "2021-01-13T09:29:24.708293Z",
     "start_time": "2021-01-13T09:29:24.661724Z"
    }
   },
   "outputs": [],
   "source": [
    "df = df.drop('Hour',1).set_index('Time')"
   ]
  },
  {
   "cell_type": "code",
   "execution_count": 34,
   "metadata": {
    "ExecuteTime": {
     "end_time": "2021-01-13T09:29:24.725775Z",
     "start_time": "2021-01-13T09:29:24.710287Z"
    }
   },
   "outputs": [],
   "source": [
    "df = df.rename(columns={'MeasName':'站点'})"
   ]
  },
  {
   "cell_type": "markdown",
   "metadata": {},
   "source": [
    "**第1问**结果如下："
   ]
  },
  {
   "cell_type": "code",
   "execution_count": 35,
   "metadata": {
    "ExecuteTime": {
     "end_time": "2021-01-13T09:29:24.747718Z",
     "start_time": "2021-01-13T09:29:24.729771Z"
    }
   },
   "outputs": [
    {
     "data": {
      "text/html": [
       "<div>\n",
       "<style scoped>\n",
       "    .dataframe tbody tr th:only-of-type {\n",
       "        vertical-align: middle;\n",
       "    }\n",
       "\n",
       "    .dataframe tbody tr th {\n",
       "        vertical-align: top;\n",
       "    }\n",
       "\n",
       "    .dataframe thead th {\n",
       "        text-align: right;\n",
       "    }\n",
       "</style>\n",
       "<table border=\"1\" class=\"dataframe\">\n",
       "  <thead>\n",
       "    <tr style=\"text-align: right;\">\n",
       "      <th></th>\n",
       "      <th>站点</th>\n",
       "      <th>压力</th>\n",
       "    </tr>\n",
       "    <tr>\n",
       "      <th>Time</th>\n",
       "      <th></th>\n",
       "      <th></th>\n",
       "    </tr>\n",
       "  </thead>\n",
       "  <tbody>\n",
       "    <tr>\n",
       "      <th>2018-01-01 00:00:00</th>\n",
       "      <td>1</td>\n",
       "      <td>0.288625</td>\n",
       "    </tr>\n",
       "    <tr>\n",
       "      <th>2018-01-01 00:00:00</th>\n",
       "      <td>2</td>\n",
       "      <td>0.317750</td>\n",
       "    </tr>\n",
       "    <tr>\n",
       "      <th>2018-01-01 00:00:00</th>\n",
       "      <td>3</td>\n",
       "      <td>0.301375</td>\n",
       "    </tr>\n",
       "    <tr>\n",
       "      <th>2018-01-01 00:00:00</th>\n",
       "      <td>4</td>\n",
       "      <td>0.402750</td>\n",
       "    </tr>\n",
       "    <tr>\n",
       "      <th>2018-01-01 00:00:00</th>\n",
       "      <td>5</td>\n",
       "      <td>0.314625</td>\n",
       "    </tr>\n",
       "    <tr>\n",
       "      <th>...</th>\n",
       "      <td>...</td>\n",
       "      <td>...</td>\n",
       "    </tr>\n",
       "    <tr>\n",
       "      <th>2019-12-31 23:00:00</th>\n",
       "      <td>26</td>\n",
       "      <td>0.323250</td>\n",
       "    </tr>\n",
       "    <tr>\n",
       "      <th>2019-12-31 23:00:00</th>\n",
       "      <td>27</td>\n",
       "      <td>0.312000</td>\n",
       "    </tr>\n",
       "    <tr>\n",
       "      <th>2019-12-31 23:00:00</th>\n",
       "      <td>28</td>\n",
       "      <td>0.294500</td>\n",
       "    </tr>\n",
       "    <tr>\n",
       "      <th>2019-12-31 23:00:00</th>\n",
       "      <td>29</td>\n",
       "      <td>0.265875</td>\n",
       "    </tr>\n",
       "    <tr>\n",
       "      <th>2019-12-31 23:00:00</th>\n",
       "      <td>30</td>\n",
       "      <td>0.274875</td>\n",
       "    </tr>\n",
       "  </tbody>\n",
       "</table>\n",
       "<p>525600 rows × 2 columns</p>\n",
       "</div>"
      ],
      "text/plain": [
       "                     站点        压力\n",
       "Time                             \n",
       "2018-01-01 00:00:00   1  0.288625\n",
       "2018-01-01 00:00:00   2  0.317750\n",
       "2018-01-01 00:00:00   3  0.301375\n",
       "2018-01-01 00:00:00   4  0.402750\n",
       "2018-01-01 00:00:00   5  0.314625\n",
       "...                  ..       ...\n",
       "2019-12-31 23:00:00  26  0.323250\n",
       "2019-12-31 23:00:00  27  0.312000\n",
       "2019-12-31 23:00:00  28  0.294500\n",
       "2019-12-31 23:00:00  29  0.265875\n",
       "2019-12-31 23:00:00  30  0.274875\n",
       "\n",
       "[525600 rows x 2 columns]"
      ]
     },
     "execution_count": 35,
     "metadata": {},
     "output_type": "execute_result"
    }
   ],
   "source": [
    "df"
   ]
  },
  {
   "cell_type": "markdown",
   "metadata": {},
   "source": [
    "**以下为第2问**"
   ]
  },
  {
   "cell_type": "code",
   "execution_count": 36,
   "metadata": {
    "ExecuteTime": {
     "end_time": "2021-01-13T09:29:24.758632Z",
     "start_time": "2021-01-13T09:29:24.749711Z"
    }
   },
   "outputs": [],
   "source": [
    "temp = df3['气温'].str.extract('(?P<最高温>\\d+).+?(?P<最低温>-?\\d+)').astype('float')"
   ]
  },
  {
   "cell_type": "code",
   "execution_count": 37,
   "metadata": {
    "ExecuteTime": {
     "end_time": "2021-01-13T09:29:24.774460Z",
     "start_time": "2021-01-13T09:29:24.762607Z"
    }
   },
   "outputs": [
    {
     "data": {
      "text/html": [
       "<div>\n",
       "<style scoped>\n",
       "    .dataframe tbody tr th:only-of-type {\n",
       "        vertical-align: middle;\n",
       "    }\n",
       "\n",
       "    .dataframe tbody tr th {\n",
       "        vertical-align: top;\n",
       "    }\n",
       "\n",
       "    .dataframe thead th {\n",
       "        text-align: right;\n",
       "    }\n",
       "</style>\n",
       "<table border=\"1\" class=\"dataframe\">\n",
       "  <thead>\n",
       "    <tr style=\"text-align: right;\">\n",
       "      <th></th>\n",
       "      <th>日期</th>\n",
       "      <th>天气</th>\n",
       "      <th>气温</th>\n",
       "      <th>风向</th>\n",
       "    </tr>\n",
       "  </thead>\n",
       "  <tbody>\n",
       "    <tr>\n",
       "      <th>724</th>\n",
       "      <td>2019-12-27</td>\n",
       "      <td>多云转晴</td>\n",
       "      <td>6℃～-1℃</td>\n",
       "      <td>西南风转南风 3-4级转3-4级</td>\n",
       "    </tr>\n",
       "    <tr>\n",
       "      <th>725</th>\n",
       "      <td>2019-12-28</td>\n",
       "      <td>多云转小雨</td>\n",
       "      <td>10℃～4℃</td>\n",
       "      <td>西南风转南风 3-4级转3-4级</td>\n",
       "    </tr>\n",
       "    <tr>\n",
       "      <th>726</th>\n",
       "      <td>2019-12-29</td>\n",
       "      <td>多云</td>\n",
       "      <td>11℃～2℃</td>\n",
       "      <td>西南风转北风 &lt;3级转&lt;3级</td>\n",
       "    </tr>\n",
       "    <tr>\n",
       "      <th>727</th>\n",
       "      <td>2019-12-30</td>\n",
       "      <td>阴转晴</td>\n",
       "      <td>4℃～-6℃</td>\n",
       "      <td>东北风转北风 4-5级转4-5级</td>\n",
       "    </tr>\n",
       "    <tr>\n",
       "      <th>728</th>\n",
       "      <td>2019-12-31</td>\n",
       "      <td>晴转多云</td>\n",
       "      <td>0℃～-5℃</td>\n",
       "      <td>西风转南风 &lt;3级</td>\n",
       "    </tr>\n",
       "  </tbody>\n",
       "</table>\n",
       "</div>"
      ],
      "text/plain": [
       "             日期     天气      气温                风向\n",
       "724  2019-12-27   多云转晴  6℃～-1℃  西南风转南风 3-4级转3-4级\n",
       "725  2019-12-28  多云转小雨  10℃～4℃  西南风转南风 3-4级转3-4级\n",
       "726  2019-12-29     多云  11℃～2℃    西南风转北风 <3级转<3级\n",
       "727  2019-12-30    阴转晴  4℃～-6℃  东北风转北风 4-5级转4-5级\n",
       "728  2019-12-31   晴转多云  0℃～-5℃         西风转南风 <3级"
      ]
     },
     "execution_count": 37,
     "metadata": {},
     "output_type": "execute_result"
    }
   ],
   "source": [
    "df3.tail()"
   ]
  },
  {
   "cell_type": "code",
   "execution_count": 38,
   "metadata": {
    "ExecuteTime": {
     "end_time": "2021-01-13T09:29:24.783432Z",
     "start_time": "2021-01-13T09:29:24.776452Z"
    }
   },
   "outputs": [],
   "source": [
    "temp['温差'] = temp['最高温'] - temp['最低温']"
   ]
  },
  {
   "cell_type": "code",
   "execution_count": 39,
   "metadata": {
    "ExecuteTime": {
     "end_time": "2021-01-13T09:29:24.795400Z",
     "start_time": "2021-01-13T09:29:24.785426Z"
    }
   },
   "outputs": [
    {
     "data": {
      "text/html": [
       "<div>\n",
       "<style scoped>\n",
       "    .dataframe tbody tr th:only-of-type {\n",
       "        vertical-align: middle;\n",
       "    }\n",
       "\n",
       "    .dataframe tbody tr th {\n",
       "        vertical-align: top;\n",
       "    }\n",
       "\n",
       "    .dataframe thead th {\n",
       "        text-align: right;\n",
       "    }\n",
       "</style>\n",
       "<table border=\"1\" class=\"dataframe\">\n",
       "  <thead>\n",
       "    <tr style=\"text-align: right;\">\n",
       "      <th></th>\n",
       "      <th>最高温</th>\n",
       "      <th>最低温</th>\n",
       "      <th>温差</th>\n",
       "    </tr>\n",
       "  </thead>\n",
       "  <tbody>\n",
       "    <tr>\n",
       "      <th>0</th>\n",
       "      <td>1.0</td>\n",
       "      <td>-4.0</td>\n",
       "      <td>5.0</td>\n",
       "    </tr>\n",
       "    <tr>\n",
       "      <th>1</th>\n",
       "      <td>8.0</td>\n",
       "      <td>0.0</td>\n",
       "      <td>8.0</td>\n",
       "    </tr>\n",
       "    <tr>\n",
       "      <th>2</th>\n",
       "      <td>1.0</td>\n",
       "      <td>-1.0</td>\n",
       "      <td>2.0</td>\n",
       "    </tr>\n",
       "  </tbody>\n",
       "</table>\n",
       "</div>"
      ],
      "text/plain": [
       "   最高温  最低温   温差\n",
       "0  1.0 -4.0  5.0\n",
       "1  8.0  0.0  8.0\n",
       "2  1.0 -1.0  2.0"
      ]
     },
     "execution_count": 39,
     "metadata": {},
     "output_type": "execute_result"
    }
   ],
   "source": [
    "# 生成了备用气温框\n",
    "temp.head(3)"
   ]
  },
  {
   "cell_type": "code",
   "execution_count": 40,
   "metadata": {
    "ExecuteTime": {
     "end_time": "2021-01-13T09:29:24.801839Z",
     "start_time": "2021-01-13T09:29:24.797395Z"
    }
   },
   "outputs": [],
   "source": [
    "df3 = pd.concat([df3,temp],1)"
   ]
  },
  {
   "cell_type": "code",
   "execution_count": 41,
   "metadata": {
    "ExecuteTime": {
     "end_time": "2021-01-13T09:29:24.815272Z",
     "start_time": "2021-01-13T09:29:24.803826Z"
    }
   },
   "outputs": [
    {
     "data": {
      "text/html": [
       "<div>\n",
       "<style scoped>\n",
       "    .dataframe tbody tr th:only-of-type {\n",
       "        vertical-align: middle;\n",
       "    }\n",
       "\n",
       "    .dataframe tbody tr th {\n",
       "        vertical-align: top;\n",
       "    }\n",
       "\n",
       "    .dataframe thead th {\n",
       "        text-align: right;\n",
       "    }\n",
       "</style>\n",
       "<table border=\"1\" class=\"dataframe\">\n",
       "  <thead>\n",
       "    <tr style=\"text-align: right;\">\n",
       "      <th></th>\n",
       "      <th>日期</th>\n",
       "      <th>天气</th>\n",
       "      <th>气温</th>\n",
       "      <th>风向</th>\n",
       "      <th>最高温</th>\n",
       "      <th>最低温</th>\n",
       "      <th>温差</th>\n",
       "    </tr>\n",
       "  </thead>\n",
       "  <tbody>\n",
       "    <tr>\n",
       "      <th>22</th>\n",
       "      <td>2018-01-24</td>\n",
       "      <td>转多云</td>\n",
       "      <td>C～-5C</td>\n",
       "      <td>转东北风 转</td>\n",
       "      <td>NaN</td>\n",
       "      <td>NaN</td>\n",
       "      <td>NaN</td>\n",
       "    </tr>\n",
       "    <tr>\n",
       "      <th>643</th>\n",
       "      <td>2019-10-07</td>\n",
       "      <td>转多云</td>\n",
       "      <td>℃～9℃</td>\n",
       "      <td>转西风 转</td>\n",
       "      <td>NaN</td>\n",
       "      <td>NaN</td>\n",
       "      <td>NaN</td>\n",
       "    </tr>\n",
       "  </tbody>\n",
       "</table>\n",
       "</div>"
      ],
      "text/plain": [
       "             日期   天气     气温      风向  最高温  最低温  温差\n",
       "22   2018-01-24  转多云  C～-5C  转东北风 转  NaN  NaN NaN\n",
       "643  2019-10-07  转多云   ℃～9℃   转西风 转  NaN  NaN NaN"
      ]
     },
     "execution_count": 41,
     "metadata": {},
     "output_type": "execute_result"
    }
   ],
   "source": [
    "df3[df3['最高温'].isna()]"
   ]
  },
  {
   "cell_type": "code",
   "execution_count": 42,
   "metadata": {
    "ExecuteTime": {
     "end_time": "2021-01-13T09:29:24.826244Z",
     "start_time": "2021-01-13T09:29:24.817269Z"
    }
   },
   "outputs": [],
   "source": [
    "df3.loc[[22,643],'最低温'] = df3[df3['最高温'].isna()]['气温'].str.extract('～(-?\\d)')[0]"
   ]
  },
  {
   "cell_type": "code",
   "execution_count": 43,
   "metadata": {
    "ExecuteTime": {
     "end_time": "2021-01-13T09:29:24.840766Z",
     "start_time": "2021-01-13T09:29:24.830799Z"
    }
   },
   "outputs": [],
   "source": [
    "df3.loc[22,'最高温'] = round(df3[df3['最低温']==-5]['最高温'].mean())"
   ]
  },
  {
   "cell_type": "code",
   "execution_count": 44,
   "metadata": {
    "ExecuteTime": {
     "end_time": "2021-01-13T09:29:24.851726Z",
     "start_time": "2021-01-13T09:29:24.844749Z"
    }
   },
   "outputs": [],
   "source": [
    "df3.loc[643,'最高温'] = round(df3[df3['最低温']==9]['最高温'].mean())"
   ]
  },
  {
   "cell_type": "markdown",
   "metadata": {},
   "source": [
    "依次对各种天气进行处理"
   ]
  },
  {
   "cell_type": "code",
   "execution_count": 45,
   "metadata": {
    "ExecuteTime": {
     "end_time": "2021-01-13T09:29:24.859706Z",
     "start_time": "2021-01-13T09:29:24.853723Z"
    }
   },
   "outputs": [],
   "source": [
    "df3['沙暴'] = df3['天气'].str.contains('沙')"
   ]
  },
  {
   "cell_type": "code",
   "execution_count": 46,
   "metadata": {
    "ExecuteTime": {
     "end_time": "2021-01-13T09:29:24.868584Z",
     "start_time": "2021-01-13T09:29:24.862597Z"
    }
   },
   "outputs": [],
   "source": [
    "df3['雾'] = df3['天气'].str.contains('雾')"
   ]
  },
  {
   "cell_type": "code",
   "execution_count": 47,
   "metadata": {
    "ExecuteTime": {
     "end_time": "2021-01-13T09:29:24.876560Z",
     "start_time": "2021-01-13T09:29:24.871574Z"
    }
   },
   "outputs": [],
   "source": [
    "df3['雨'] = df3['天气'].str.contains('雨')"
   ]
  },
  {
   "cell_type": "code",
   "execution_count": 48,
   "metadata": {
    "ExecuteTime": {
     "end_time": "2021-01-13T09:29:24.885536Z",
     "start_time": "2021-01-13T09:29:24.879554Z"
    }
   },
   "outputs": [],
   "source": [
    "df3['雪'] = df3['天气'].str.contains('雪')"
   ]
  },
  {
   "cell_type": "code",
   "execution_count": 49,
   "metadata": {
    "ExecuteTime": {
     "end_time": "2021-01-13T09:29:24.892517Z",
     "start_time": "2021-01-13T09:29:24.887537Z"
    }
   },
   "outputs": [],
   "source": [
    "df3['晴天'] = df3['天气'].str.contains('晴')"
   ]
  },
  {
   "cell_type": "code",
   "execution_count": 50,
   "metadata": {
    "ExecuteTime": {
     "end_time": "2021-01-13T09:29:24.899499Z",
     "start_time": "2021-01-13T09:29:24.895511Z"
    }
   },
   "outputs": [],
   "source": [
    "weather = list(df3['天气'].unique())"
   ]
  },
  {
   "cell_type": "code",
   "execution_count": 51,
   "metadata": {
    "ExecuteTime": {
     "end_time": "2021-01-13T09:29:24.912471Z",
     "start_time": "2021-01-13T09:29:24.901494Z"
    }
   },
   "outputs": [
    {
     "name": "stdout",
     "output_type": "stream",
     "text": [
      "['雨' '小雨' '中雨' '雷阵雨' '中到大雨' '阵雨' '小到中雨' '大雨' '暴雨']\n"
     ]
    }
   ],
   "source": [
    "print(pd.Series(re.findall('\\w*雨',re.sub('转','',str(re.findall('转\\w*雨|\\w*雨转|转{0}雨转{0}',str(weather)))))).unique())"
   ]
  },
  {
   "cell_type": "code",
   "execution_count": 52,
   "metadata": {
    "ExecuteTime": {
     "end_time": "2021-01-13T09:29:24.921440Z",
     "start_time": "2021-01-13T09:29:24.915456Z"
    }
   },
   "outputs": [
    {
     "name": "stdout",
     "output_type": "stream",
     "text": [
      "['小雪' '小到中雪' '雨夹雪' '大雪' '中到大雪' '雪']\n"
     ]
    }
   ],
   "source": [
    "print(pd.Series(re.findall('\\w*雪',re.sub('转','',str(re.findall('转\\w*雪|\\w*雪转|转{0}雪转{0}',str(weather)))))).unique())"
   ]
  },
  {
   "cell_type": "markdown",
   "metadata": {},
   "source": [
    "**第3问度量雨雪量有点复杂，暂时放一下**"
   ]
  },
  {
   "cell_type": "code",
   "execution_count": 53,
   "metadata": {
    "ExecuteTime": {
     "end_time": "2021-01-13T09:29:24.939303Z",
     "start_time": "2021-01-13T09:29:24.922437Z"
    }
   },
   "outputs": [
    {
     "data": {
      "text/html": [
       "<div>\n",
       "<style scoped>\n",
       "    .dataframe tbody tr th:only-of-type {\n",
       "        vertical-align: middle;\n",
       "    }\n",
       "\n",
       "    .dataframe tbody tr th {\n",
       "        vertical-align: top;\n",
       "    }\n",
       "\n",
       "    .dataframe thead th {\n",
       "        text-align: right;\n",
       "    }\n",
       "</style>\n",
       "<table border=\"1\" class=\"dataframe\">\n",
       "  <thead>\n",
       "    <tr style=\"text-align: right;\">\n",
       "      <th></th>\n",
       "      <th>日期</th>\n",
       "      <th>天气</th>\n",
       "      <th>气温</th>\n",
       "      <th>风向</th>\n",
       "      <th>最高温</th>\n",
       "      <th>最低温</th>\n",
       "      <th>温差</th>\n",
       "      <th>沙暴</th>\n",
       "      <th>雾</th>\n",
       "      <th>雨</th>\n",
       "      <th>雪</th>\n",
       "      <th>晴天</th>\n",
       "    </tr>\n",
       "  </thead>\n",
       "  <tbody>\n",
       "    <tr>\n",
       "      <th>0</th>\n",
       "      <td>2018-01-01</td>\n",
       "      <td>多云</td>\n",
       "      <td>1C～-4C</td>\n",
       "      <td>东南风 微风</td>\n",
       "      <td>1.0</td>\n",
       "      <td>-4</td>\n",
       "      <td>5.0</td>\n",
       "      <td>False</td>\n",
       "      <td>False</td>\n",
       "      <td>False</td>\n",
       "      <td>False</td>\n",
       "      <td>False</td>\n",
       "    </tr>\n",
       "    <tr>\n",
       "      <th>1</th>\n",
       "      <td>2018-01-02</td>\n",
       "      <td>阴转多云</td>\n",
       "      <td>8C～0C</td>\n",
       "      <td>东北风 3-4级</td>\n",
       "      <td>8.0</td>\n",
       "      <td>0</td>\n",
       "      <td>8.0</td>\n",
       "      <td>False</td>\n",
       "      <td>False</td>\n",
       "      <td>False</td>\n",
       "      <td>False</td>\n",
       "      <td>False</td>\n",
       "    </tr>\n",
       "    <tr>\n",
       "      <th>2</th>\n",
       "      <td>2018-01-03</td>\n",
       "      <td>阴转小雪</td>\n",
       "      <td>1C～-1C</td>\n",
       "      <td>东北风 4-5级转4-5级</td>\n",
       "      <td>1.0</td>\n",
       "      <td>-1</td>\n",
       "      <td>2.0</td>\n",
       "      <td>False</td>\n",
       "      <td>False</td>\n",
       "      <td>False</td>\n",
       "      <td>True</td>\n",
       "      <td>False</td>\n",
       "    </tr>\n",
       "    <tr>\n",
       "      <th>3</th>\n",
       "      <td>2018-01-04</td>\n",
       "      <td>阴</td>\n",
       "      <td>0C～-4C</td>\n",
       "      <td>东北风转北风 3-4级转3-4级</td>\n",
       "      <td>0.0</td>\n",
       "      <td>-4</td>\n",
       "      <td>4.0</td>\n",
       "      <td>False</td>\n",
       "      <td>False</td>\n",
       "      <td>False</td>\n",
       "      <td>False</td>\n",
       "      <td>False</td>\n",
       "    </tr>\n",
       "    <tr>\n",
       "      <th>4</th>\n",
       "      <td>2018-01-05</td>\n",
       "      <td>阴转多云</td>\n",
       "      <td>3C～-4C</td>\n",
       "      <td>西风转北风 3-4级转3-4级</td>\n",
       "      <td>3.0</td>\n",
       "      <td>-4</td>\n",
       "      <td>7.0</td>\n",
       "      <td>False</td>\n",
       "      <td>False</td>\n",
       "      <td>False</td>\n",
       "      <td>False</td>\n",
       "      <td>False</td>\n",
       "    </tr>\n",
       "  </tbody>\n",
       "</table>\n",
       "</div>"
      ],
      "text/plain": [
       "           日期    天气      气温                风向  最高温 最低温   温差     沙暴      雾  \\\n",
       "0  2018-01-01    多云  1C～-4C            东南风 微风  1.0  -4  5.0  False  False   \n",
       "1  2018-01-02  阴转多云   8C～0C          东北风 3-4级  8.0   0  8.0  False  False   \n",
       "2  2018-01-03  阴转小雪  1C～-1C     东北风 4-5级转4-5级  1.0  -1  2.0  False  False   \n",
       "3  2018-01-04     阴  0C～-4C  东北风转北风 3-4级转3-4级  0.0  -4  4.0  False  False   \n",
       "4  2018-01-05  阴转多云  3C～-4C   西风转北风 3-4级转3-4级  3.0  -4  7.0  False  False   \n",
       "\n",
       "       雨      雪     晴天  \n",
       "0  False  False  False  \n",
       "1  False  False  False  \n",
       "2  False   True  False  \n",
       "3  False  False  False  \n",
       "4  False  False  False  "
      ]
     },
     "execution_count": 53,
     "metadata": {},
     "output_type": "execute_result"
    }
   ],
   "source": [
    "df3.head()"
   ]
  },
  {
   "cell_type": "code",
   "execution_count": 54,
   "metadata": {
    "ExecuteTime": {
     "end_time": "2021-01-13T09:29:24.950046Z",
     "start_time": "2021-01-13T09:29:24.941210Z"
    }
   },
   "outputs": [],
   "source": [
    "df3['风向_1'] = df3['风向'].str.split('\\s',expand=True)[0]"
   ]
  },
  {
   "cell_type": "markdown",
   "metadata": {},
   "source": [
    "不考虑风向的转变，也至少有**八种**风向。按照题目要求，应该只能加入东南西北四列。"
   ]
  },
  {
   "cell_type": "code",
   "execution_count": 55,
   "metadata": {
    "ExecuteTime": {
     "end_time": "2021-01-13T09:29:24.958017Z",
     "start_time": "2021-01-13T09:29:24.952034Z"
    }
   },
   "outputs": [],
   "source": [
    "df3['风向_西'] = df3['风向_1'].str.contains('西').astype('int')"
   ]
  },
  {
   "cell_type": "code",
   "execution_count": 56,
   "metadata": {
    "ExecuteTime": {
     "end_time": "2021-01-13T09:29:24.966687Z",
     "start_time": "2021-01-13T09:29:24.960012Z"
    }
   },
   "outputs": [],
   "source": [
    "df3['风向_东'] = df3['风向_1'].str.contains('东').astype('int')"
   ]
  },
  {
   "cell_type": "code",
   "execution_count": 57,
   "metadata": {
    "ExecuteTime": {
     "end_time": "2021-01-13T09:29:24.975578Z",
     "start_time": "2021-01-13T09:29:24.968683Z"
    }
   },
   "outputs": [],
   "source": [
    "df3['风向_南'] = df3['风向_1'].str.contains('南').astype('int')"
   ]
  },
  {
   "cell_type": "code",
   "execution_count": 58,
   "metadata": {
    "ExecuteTime": {
     "end_time": "2021-01-13T09:29:24.987552Z",
     "start_time": "2021-01-13T09:29:24.977573Z"
    }
   },
   "outputs": [],
   "source": [
    "df3['风向_北'] = df3['风向_1'].str.contains('北').astype('int')"
   ]
  },
  {
   "cell_type": "code",
   "execution_count": 59,
   "metadata": {
    "ExecuteTime": {
     "end_time": "2021-01-13T09:29:25.001610Z",
     "start_time": "2021-01-13T09:29:24.991535Z"
    }
   },
   "outputs": [],
   "source": [
    "df3 = df3.drop('风向_1',1)"
   ]
  },
  {
   "cell_type": "markdown",
   "metadata": {},
   "source": [
    "**第2问完成情况如下**"
   ]
  },
  {
   "cell_type": "code",
   "execution_count": 60,
   "metadata": {
    "ExecuteTime": {
     "end_time": "2021-01-13T09:29:25.379584Z",
     "start_time": "2021-01-13T09:29:25.005591Z"
    }
   },
   "outputs": [],
   "source": [
    "res = res.merge(df3,left_on='Time',right_on='日期',how='left')"
   ]
  },
  {
   "cell_type": "code",
   "execution_count": 61,
   "metadata": {
    "ExecuteTime": {
     "end_time": "2021-01-13T09:29:25.765761Z",
     "start_time": "2021-01-13T09:29:25.381578Z"
    }
   },
   "outputs": [],
   "source": [
    "res['Time'] = pd.to_datetime(res.Time + ' '+ res.Hour + ':00:00')"
   ]
  },
  {
   "cell_type": "code",
   "execution_count": 62,
   "metadata": {
    "ExecuteTime": {
     "end_time": "2021-01-13T09:29:25.981401Z",
     "start_time": "2021-01-13T09:29:25.769704Z"
    }
   },
   "outputs": [],
   "source": [
    "res = res.rename(columns={'MeasName':'站点'})"
   ]
  },
  {
   "cell_type": "code",
   "execution_count": 63,
   "metadata": {
    "ExecuteTime": {
     "end_time": "2021-01-13T09:29:26.323860Z",
     "start_time": "2021-01-13T09:29:25.987381Z"
    }
   },
   "outputs": [],
   "source": [
    "res = res.set_index(['Time','站点']).loc[:,'最高温':]"
   ]
  },
  {
   "cell_type": "code",
   "execution_count": 64,
   "metadata": {
    "ExecuteTime": {
     "end_time": "2021-01-13T09:29:29.541550Z",
     "start_time": "2021-01-13T09:29:26.325814Z"
    }
   },
   "outputs": [],
   "source": [
    "df = df.reset_index().set_index(['Time','站点']).join(res).reset_index(1)"
   ]
  },
  {
   "cell_type": "code",
   "execution_count": 65,
   "metadata": {
    "ExecuteTime": {
     "end_time": "2021-01-13T09:29:29.579974Z",
     "start_time": "2021-01-13T09:29:29.547532Z"
    }
   },
   "outputs": [
    {
     "data": {
      "text/html": [
       "<div>\n",
       "<style scoped>\n",
       "    .dataframe tbody tr th:only-of-type {\n",
       "        vertical-align: middle;\n",
       "    }\n",
       "\n",
       "    .dataframe tbody tr th {\n",
       "        vertical-align: top;\n",
       "    }\n",
       "\n",
       "    .dataframe thead th {\n",
       "        text-align: right;\n",
       "    }\n",
       "</style>\n",
       "<table border=\"1\" class=\"dataframe\">\n",
       "  <thead>\n",
       "    <tr style=\"text-align: right;\">\n",
       "      <th></th>\n",
       "      <th>站点</th>\n",
       "      <th>压力</th>\n",
       "      <th>最高温</th>\n",
       "      <th>最低温</th>\n",
       "      <th>温差</th>\n",
       "      <th>沙暴</th>\n",
       "      <th>雾</th>\n",
       "      <th>雨</th>\n",
       "      <th>雪</th>\n",
       "      <th>晴天</th>\n",
       "      <th>风向_西</th>\n",
       "      <th>风向_东</th>\n",
       "      <th>风向_南</th>\n",
       "      <th>风向_北</th>\n",
       "    </tr>\n",
       "    <tr>\n",
       "      <th>Time</th>\n",
       "      <th></th>\n",
       "      <th></th>\n",
       "      <th></th>\n",
       "      <th></th>\n",
       "      <th></th>\n",
       "      <th></th>\n",
       "      <th></th>\n",
       "      <th></th>\n",
       "      <th></th>\n",
       "      <th></th>\n",
       "      <th></th>\n",
       "      <th></th>\n",
       "      <th></th>\n",
       "      <th></th>\n",
       "    </tr>\n",
       "  </thead>\n",
       "  <tbody>\n",
       "    <tr>\n",
       "      <th>2018-01-01</th>\n",
       "      <td>1</td>\n",
       "      <td>0.288625</td>\n",
       "      <td>1.0</td>\n",
       "      <td>-4</td>\n",
       "      <td>5.0</td>\n",
       "      <td>False</td>\n",
       "      <td>False</td>\n",
       "      <td>False</td>\n",
       "      <td>False</td>\n",
       "      <td>False</td>\n",
       "      <td>0.0</td>\n",
       "      <td>1.0</td>\n",
       "      <td>1.0</td>\n",
       "      <td>0.0</td>\n",
       "    </tr>\n",
       "    <tr>\n",
       "      <th>2018-01-01</th>\n",
       "      <td>2</td>\n",
       "      <td>0.317750</td>\n",
       "      <td>1.0</td>\n",
       "      <td>-4</td>\n",
       "      <td>5.0</td>\n",
       "      <td>False</td>\n",
       "      <td>False</td>\n",
       "      <td>False</td>\n",
       "      <td>False</td>\n",
       "      <td>False</td>\n",
       "      <td>0.0</td>\n",
       "      <td>1.0</td>\n",
       "      <td>1.0</td>\n",
       "      <td>0.0</td>\n",
       "    </tr>\n",
       "    <tr>\n",
       "      <th>2018-01-01</th>\n",
       "      <td>3</td>\n",
       "      <td>0.301375</td>\n",
       "      <td>1.0</td>\n",
       "      <td>-4</td>\n",
       "      <td>5.0</td>\n",
       "      <td>False</td>\n",
       "      <td>False</td>\n",
       "      <td>False</td>\n",
       "      <td>False</td>\n",
       "      <td>False</td>\n",
       "      <td>0.0</td>\n",
       "      <td>1.0</td>\n",
       "      <td>1.0</td>\n",
       "      <td>0.0</td>\n",
       "    </tr>\n",
       "    <tr>\n",
       "      <th>2018-01-01</th>\n",
       "      <td>4</td>\n",
       "      <td>0.402750</td>\n",
       "      <td>1.0</td>\n",
       "      <td>-4</td>\n",
       "      <td>5.0</td>\n",
       "      <td>False</td>\n",
       "      <td>False</td>\n",
       "      <td>False</td>\n",
       "      <td>False</td>\n",
       "      <td>False</td>\n",
       "      <td>0.0</td>\n",
       "      <td>1.0</td>\n",
       "      <td>1.0</td>\n",
       "      <td>0.0</td>\n",
       "    </tr>\n",
       "    <tr>\n",
       "      <th>2018-01-01</th>\n",
       "      <td>5</td>\n",
       "      <td>0.314625</td>\n",
       "      <td>1.0</td>\n",
       "      <td>-4</td>\n",
       "      <td>5.0</td>\n",
       "      <td>False</td>\n",
       "      <td>False</td>\n",
       "      <td>False</td>\n",
       "      <td>False</td>\n",
       "      <td>False</td>\n",
       "      <td>0.0</td>\n",
       "      <td>1.0</td>\n",
       "      <td>1.0</td>\n",
       "      <td>0.0</td>\n",
       "    </tr>\n",
       "  </tbody>\n",
       "</table>\n",
       "</div>"
      ],
      "text/plain": [
       "            站点        压力  最高温 最低温   温差     沙暴      雾      雨      雪     晴天  \\\n",
       "Time                                                                        \n",
       "2018-01-01   1  0.288625  1.0  -4  5.0  False  False  False  False  False   \n",
       "2018-01-01   2  0.317750  1.0  -4  5.0  False  False  False  False  False   \n",
       "2018-01-01   3  0.301375  1.0  -4  5.0  False  False  False  False  False   \n",
       "2018-01-01   4  0.402750  1.0  -4  5.0  False  False  False  False  False   \n",
       "2018-01-01   5  0.314625  1.0  -4  5.0  False  False  False  False  False   \n",
       "\n",
       "            风向_西  风向_东  风向_南  风向_北  \n",
       "Time                                \n",
       "2018-01-01   0.0   1.0   1.0   0.0  \n",
       "2018-01-01   0.0   1.0   1.0   0.0  \n",
       "2018-01-01   0.0   1.0   1.0   0.0  \n",
       "2018-01-01   0.0   1.0   1.0   0.0  \n",
       "2018-01-01   0.0   1.0   1.0   0.0  "
      ]
     },
     "execution_count": 65,
     "metadata": {},
     "output_type": "execute_result"
    }
   ],
   "source": [
    "df.head()"
   ]
  },
  {
   "cell_type": "markdown",
   "metadata": {},
   "source": [
    "**以下为第3问**"
   ]
  },
  {
   "cell_type": "code",
   "execution_count": 66,
   "metadata": {
    "ExecuteTime": {
     "end_time": "2021-01-13T09:29:30.240179Z",
     "start_time": "2021-01-13T09:29:29.584680Z"
    }
   },
   "outputs": [],
   "source": [
    "#先进行索引排序\n",
    "ldf = df.set_index('站点',append=True).sort_index(level=['站点','Time']).reset_index(1)"
   ]
  },
  {
   "cell_type": "code",
   "execution_count": 67,
   "metadata": {
    "ExecuteTime": {
     "end_time": "2021-01-13T09:29:30.263350Z",
     "start_time": "2021-01-13T09:29:30.242081Z"
    }
   },
   "outputs": [
    {
     "data": {
      "text/html": [
       "<div>\n",
       "<style scoped>\n",
       "    .dataframe tbody tr th:only-of-type {\n",
       "        vertical-align: middle;\n",
       "    }\n",
       "\n",
       "    .dataframe tbody tr th {\n",
       "        vertical-align: top;\n",
       "    }\n",
       "\n",
       "    .dataframe thead th {\n",
       "        text-align: right;\n",
       "    }\n",
       "</style>\n",
       "<table border=\"1\" class=\"dataframe\">\n",
       "  <thead>\n",
       "    <tr style=\"text-align: right;\">\n",
       "      <th></th>\n",
       "      <th>站点</th>\n",
       "      <th>压力</th>\n",
       "      <th>最高温</th>\n",
       "      <th>最低温</th>\n",
       "      <th>温差</th>\n",
       "      <th>沙暴</th>\n",
       "      <th>雾</th>\n",
       "      <th>雨</th>\n",
       "      <th>雪</th>\n",
       "      <th>晴天</th>\n",
       "      <th>风向_西</th>\n",
       "      <th>风向_东</th>\n",
       "      <th>风向_南</th>\n",
       "      <th>风向_北</th>\n",
       "    </tr>\n",
       "    <tr>\n",
       "      <th>Time</th>\n",
       "      <th></th>\n",
       "      <th></th>\n",
       "      <th></th>\n",
       "      <th></th>\n",
       "      <th></th>\n",
       "      <th></th>\n",
       "      <th></th>\n",
       "      <th></th>\n",
       "      <th></th>\n",
       "      <th></th>\n",
       "      <th></th>\n",
       "      <th></th>\n",
       "      <th></th>\n",
       "      <th></th>\n",
       "    </tr>\n",
       "  </thead>\n",
       "  <tbody>\n",
       "    <tr>\n",
       "      <th>2018-01-01 00:00:00</th>\n",
       "      <td>1</td>\n",
       "      <td>0.288625</td>\n",
       "      <td>1.0</td>\n",
       "      <td>-4</td>\n",
       "      <td>5.0</td>\n",
       "      <td>False</td>\n",
       "      <td>False</td>\n",
       "      <td>False</td>\n",
       "      <td>False</td>\n",
       "      <td>False</td>\n",
       "      <td>0.0</td>\n",
       "      <td>1.0</td>\n",
       "      <td>1.0</td>\n",
       "      <td>0.0</td>\n",
       "    </tr>\n",
       "    <tr>\n",
       "      <th>2018-01-01 01:00:00</th>\n",
       "      <td>1</td>\n",
       "      <td>0.292000</td>\n",
       "      <td>1.0</td>\n",
       "      <td>-4</td>\n",
       "      <td>5.0</td>\n",
       "      <td>False</td>\n",
       "      <td>False</td>\n",
       "      <td>False</td>\n",
       "      <td>False</td>\n",
       "      <td>False</td>\n",
       "      <td>0.0</td>\n",
       "      <td>1.0</td>\n",
       "      <td>1.0</td>\n",
       "      <td>0.0</td>\n",
       "    </tr>\n",
       "    <tr>\n",
       "      <th>2018-01-01 02:00:00</th>\n",
       "      <td>1</td>\n",
       "      <td>0.290500</td>\n",
       "      <td>1.0</td>\n",
       "      <td>-4</td>\n",
       "      <td>5.0</td>\n",
       "      <td>False</td>\n",
       "      <td>False</td>\n",
       "      <td>False</td>\n",
       "      <td>False</td>\n",
       "      <td>False</td>\n",
       "      <td>0.0</td>\n",
       "      <td>1.0</td>\n",
       "      <td>1.0</td>\n",
       "      <td>0.0</td>\n",
       "    </tr>\n",
       "    <tr>\n",
       "      <th>2018-01-01 03:00:00</th>\n",
       "      <td>1</td>\n",
       "      <td>0.299500</td>\n",
       "      <td>1.0</td>\n",
       "      <td>-4</td>\n",
       "      <td>5.0</td>\n",
       "      <td>False</td>\n",
       "      <td>False</td>\n",
       "      <td>False</td>\n",
       "      <td>False</td>\n",
       "      <td>False</td>\n",
       "      <td>0.0</td>\n",
       "      <td>1.0</td>\n",
       "      <td>1.0</td>\n",
       "      <td>0.0</td>\n",
       "    </tr>\n",
       "    <tr>\n",
       "      <th>2018-01-01 04:00:00</th>\n",
       "      <td>1</td>\n",
       "      <td>0.300250</td>\n",
       "      <td>1.0</td>\n",
       "      <td>-4</td>\n",
       "      <td>5.0</td>\n",
       "      <td>False</td>\n",
       "      <td>False</td>\n",
       "      <td>False</td>\n",
       "      <td>False</td>\n",
       "      <td>False</td>\n",
       "      <td>0.0</td>\n",
       "      <td>1.0</td>\n",
       "      <td>1.0</td>\n",
       "      <td>0.0</td>\n",
       "    </tr>\n",
       "  </tbody>\n",
       "</table>\n",
       "</div>"
      ],
      "text/plain": [
       "                     站点        压力  最高温 最低温   温差     沙暴      雾      雨      雪  \\\n",
       "Time                                                                          \n",
       "2018-01-01 00:00:00   1  0.288625  1.0  -4  5.0  False  False  False  False   \n",
       "2018-01-01 01:00:00   1  0.292000  1.0  -4  5.0  False  False  False  False   \n",
       "2018-01-01 02:00:00   1  0.290500  1.0  -4  5.0  False  False  False  False   \n",
       "2018-01-01 03:00:00   1  0.299500  1.0  -4  5.0  False  False  False  False   \n",
       "2018-01-01 04:00:00   1  0.300250  1.0  -4  5.0  False  False  False  False   \n",
       "\n",
       "                        晴天  风向_西  风向_东  风向_南  风向_北  \n",
       "Time                                                \n",
       "2018-01-01 00:00:00  False   0.0   1.0   1.0   0.0  \n",
       "2018-01-01 01:00:00  False   0.0   1.0   1.0   0.0  \n",
       "2018-01-01 02:00:00  False   0.0   1.0   1.0   0.0  \n",
       "2018-01-01 03:00:00  False   0.0   1.0   1.0   0.0  \n",
       "2018-01-01 04:00:00  False   0.0   1.0   1.0   0.0  "
      ]
     },
     "execution_count": 67,
     "metadata": {},
     "output_type": "execute_result"
    }
   ],
   "source": [
    "ldf.head()"
   ]
  },
  {
   "cell_type": "code",
   "execution_count": 68,
   "metadata": {
    "ExecuteTime": {
     "end_time": "2021-01-13T09:29:30.286618Z",
     "start_time": "2021-01-13T09:29:30.279556Z"
    }
   },
   "outputs": [],
   "source": [
    "# 构造时间序列\n",
    "temp = ldf.index.to_series().dt"
   ]
  },
  {
   "cell_type": "markdown",
   "metadata": {},
   "source": [
    "**第1部分**"
   ]
  },
  {
   "cell_type": "markdown",
   "metadata": {},
   "source": [
    "没有更好思路，只能采取暴力解法。"
   ]
  },
  {
   "cell_type": "code",
   "execution_count": 69,
   "metadata": {
    "ExecuteTime": {
     "end_time": "2021-01-13T09:29:30.457774Z",
     "start_time": "2021-01-13T09:29:30.296555Z"
    }
   },
   "outputs": [],
   "source": [
    "ldf['year'],ldf['month'],ldf['hour']=temp.year,temp.month,temp.hour"
   ]
  },
  {
   "cell_type": "code",
   "execution_count": 70,
   "metadata": {
    "ExecuteTime": {
     "end_time": "2021-01-13T09:29:30.490644Z",
     "start_time": "2021-01-13T09:29:30.463773Z"
    }
   },
   "outputs": [
    {
     "data": {
      "text/html": [
       "<div>\n",
       "<style scoped>\n",
       "    .dataframe tbody tr th:only-of-type {\n",
       "        vertical-align: middle;\n",
       "    }\n",
       "\n",
       "    .dataframe tbody tr th {\n",
       "        vertical-align: top;\n",
       "    }\n",
       "\n",
       "    .dataframe thead th {\n",
       "        text-align: right;\n",
       "    }\n",
       "</style>\n",
       "<table border=\"1\" class=\"dataframe\">\n",
       "  <thead>\n",
       "    <tr style=\"text-align: right;\">\n",
       "      <th></th>\n",
       "      <th>站点</th>\n",
       "      <th>压力</th>\n",
       "      <th>最高温</th>\n",
       "      <th>最低温</th>\n",
       "      <th>温差</th>\n",
       "      <th>沙暴</th>\n",
       "      <th>雾</th>\n",
       "      <th>雨</th>\n",
       "      <th>雪</th>\n",
       "      <th>晴天</th>\n",
       "      <th>风向_西</th>\n",
       "      <th>风向_东</th>\n",
       "      <th>风向_南</th>\n",
       "      <th>风向_北</th>\n",
       "      <th>year</th>\n",
       "      <th>month</th>\n",
       "      <th>hour</th>\n",
       "    </tr>\n",
       "    <tr>\n",
       "      <th>Time</th>\n",
       "      <th></th>\n",
       "      <th></th>\n",
       "      <th></th>\n",
       "      <th></th>\n",
       "      <th></th>\n",
       "      <th></th>\n",
       "      <th></th>\n",
       "      <th></th>\n",
       "      <th></th>\n",
       "      <th></th>\n",
       "      <th></th>\n",
       "      <th></th>\n",
       "      <th></th>\n",
       "      <th></th>\n",
       "      <th></th>\n",
       "      <th></th>\n",
       "      <th></th>\n",
       "    </tr>\n",
       "  </thead>\n",
       "  <tbody>\n",
       "    <tr>\n",
       "      <th>2018-01-01 00:00:00</th>\n",
       "      <td>1</td>\n",
       "      <td>0.288625</td>\n",
       "      <td>1.0</td>\n",
       "      <td>-4</td>\n",
       "      <td>5.0</td>\n",
       "      <td>False</td>\n",
       "      <td>False</td>\n",
       "      <td>False</td>\n",
       "      <td>False</td>\n",
       "      <td>False</td>\n",
       "      <td>0.0</td>\n",
       "      <td>1.0</td>\n",
       "      <td>1.0</td>\n",
       "      <td>0.0</td>\n",
       "      <td>2018</td>\n",
       "      <td>1</td>\n",
       "      <td>0</td>\n",
       "    </tr>\n",
       "    <tr>\n",
       "      <th>2018-01-01 01:00:00</th>\n",
       "      <td>1</td>\n",
       "      <td>0.292000</td>\n",
       "      <td>1.0</td>\n",
       "      <td>-4</td>\n",
       "      <td>5.0</td>\n",
       "      <td>False</td>\n",
       "      <td>False</td>\n",
       "      <td>False</td>\n",
       "      <td>False</td>\n",
       "      <td>False</td>\n",
       "      <td>0.0</td>\n",
       "      <td>1.0</td>\n",
       "      <td>1.0</td>\n",
       "      <td>0.0</td>\n",
       "      <td>2018</td>\n",
       "      <td>1</td>\n",
       "      <td>1</td>\n",
       "    </tr>\n",
       "    <tr>\n",
       "      <th>2018-01-01 02:00:00</th>\n",
       "      <td>1</td>\n",
       "      <td>0.290500</td>\n",
       "      <td>1.0</td>\n",
       "      <td>-4</td>\n",
       "      <td>5.0</td>\n",
       "      <td>False</td>\n",
       "      <td>False</td>\n",
       "      <td>False</td>\n",
       "      <td>False</td>\n",
       "      <td>False</td>\n",
       "      <td>0.0</td>\n",
       "      <td>1.0</td>\n",
       "      <td>1.0</td>\n",
       "      <td>0.0</td>\n",
       "      <td>2018</td>\n",
       "      <td>1</td>\n",
       "      <td>2</td>\n",
       "    </tr>\n",
       "  </tbody>\n",
       "</table>\n",
       "</div>"
      ],
      "text/plain": [
       "                     站点        压力  最高温 最低温   温差     沙暴      雾      雨      雪  \\\n",
       "Time                                                                          \n",
       "2018-01-01 00:00:00   1  0.288625  1.0  -4  5.0  False  False  False  False   \n",
       "2018-01-01 01:00:00   1  0.292000  1.0  -4  5.0  False  False  False  False   \n",
       "2018-01-01 02:00:00   1  0.290500  1.0  -4  5.0  False  False  False  False   \n",
       "\n",
       "                        晴天  风向_西  风向_东  风向_南  风向_北  year  month  hour  \n",
       "Time                                                                   \n",
       "2018-01-01 00:00:00  False   0.0   1.0   1.0   0.0  2018      1     0  \n",
       "2018-01-01 01:00:00  False   0.0   1.0   1.0   0.0  2018      1     1  \n",
       "2018-01-01 02:00:00  False   0.0   1.0   1.0   0.0  2018      1     2  "
      ]
     },
     "execution_count": 70,
     "metadata": {},
     "output_type": "execute_result"
    }
   ],
   "source": [
    "ldf.head(3)"
   ]
  },
  {
   "cell_type": "code",
   "execution_count": 71,
   "metadata": {
    "ExecuteTime": {
     "end_time": "2021-01-13T09:29:30.579960Z",
     "start_time": "2021-01-13T09:29:30.495631Z"
    }
   },
   "outputs": [],
   "source": [
    "out1 = ldf.groupby(['year','month','hour'])['压力'].agg([('水压均值_1','mean')]).reset_index()"
   ]
  },
  {
   "cell_type": "code",
   "execution_count": 72,
   "metadata": {
    "ExecuteTime": {
     "end_time": "2021-01-13T09:29:31.207057Z",
     "start_time": "2021-01-13T09:29:30.582252Z"
    }
   },
   "outputs": [],
   "source": [
    "ldf = ldf.reset_index().merge(out1,on=['year','month','hour'],how='left').set_index('Time')"
   ]
  },
  {
   "cell_type": "code",
   "execution_count": 73,
   "metadata": {
    "ExecuteTime": {
     "end_time": "2021-01-13T09:29:31.222268Z",
     "start_time": "2021-01-13T09:29:31.210049Z"
    }
   },
   "outputs": [],
   "source": [
    "ldf['水压差_1'] = ldf['压力'] - ldf['水压均值_1']"
   ]
  },
  {
   "cell_type": "markdown",
   "metadata": {
    "ExecuteTime": {
     "end_time": "2021-01-13T07:08:37.020807Z",
     "start_time": "2021-01-13T07:08:36.986315Z"
    }
   },
   "source": [
    "**第1部分结果如下**："
   ]
  },
  {
   "cell_type": "code",
   "execution_count": 74,
   "metadata": {
    "ExecuteTime": {
     "end_time": "2021-01-13T09:29:31.242861Z",
     "start_time": "2021-01-13T09:29:31.224264Z"
    }
   },
   "outputs": [
    {
     "data": {
      "text/html": [
       "<div>\n",
       "<style scoped>\n",
       "    .dataframe tbody tr th:only-of-type {\n",
       "        vertical-align: middle;\n",
       "    }\n",
       "\n",
       "    .dataframe tbody tr th {\n",
       "        vertical-align: top;\n",
       "    }\n",
       "\n",
       "    .dataframe thead th {\n",
       "        text-align: right;\n",
       "    }\n",
       "</style>\n",
       "<table border=\"1\" class=\"dataframe\">\n",
       "  <thead>\n",
       "    <tr style=\"text-align: right;\">\n",
       "      <th></th>\n",
       "      <th>站点</th>\n",
       "      <th>压力</th>\n",
       "      <th>最高温</th>\n",
       "      <th>最低温</th>\n",
       "      <th>温差</th>\n",
       "      <th>沙暴</th>\n",
       "      <th>雾</th>\n",
       "      <th>雨</th>\n",
       "      <th>雪</th>\n",
       "      <th>晴天</th>\n",
       "      <th>风向_西</th>\n",
       "      <th>风向_东</th>\n",
       "      <th>风向_南</th>\n",
       "      <th>风向_北</th>\n",
       "      <th>year</th>\n",
       "      <th>month</th>\n",
       "      <th>hour</th>\n",
       "      <th>水压均值_1</th>\n",
       "      <th>水压差_1</th>\n",
       "    </tr>\n",
       "    <tr>\n",
       "      <th>Time</th>\n",
       "      <th></th>\n",
       "      <th></th>\n",
       "      <th></th>\n",
       "      <th></th>\n",
       "      <th></th>\n",
       "      <th></th>\n",
       "      <th></th>\n",
       "      <th></th>\n",
       "      <th></th>\n",
       "      <th></th>\n",
       "      <th></th>\n",
       "      <th></th>\n",
       "      <th></th>\n",
       "      <th></th>\n",
       "      <th></th>\n",
       "      <th></th>\n",
       "      <th></th>\n",
       "      <th></th>\n",
       "      <th></th>\n",
       "    </tr>\n",
       "  </thead>\n",
       "  <tbody>\n",
       "    <tr>\n",
       "      <th>2018-01-01 00:00:00</th>\n",
       "      <td>1</td>\n",
       "      <td>0.288625</td>\n",
       "      <td>1.0</td>\n",
       "      <td>-4</td>\n",
       "      <td>5.0</td>\n",
       "      <td>False</td>\n",
       "      <td>False</td>\n",
       "      <td>False</td>\n",
       "      <td>False</td>\n",
       "      <td>False</td>\n",
       "      <td>0.0</td>\n",
       "      <td>1.0</td>\n",
       "      <td>1.0</td>\n",
       "      <td>0.0</td>\n",
       "      <td>2018</td>\n",
       "      <td>1</td>\n",
       "      <td>0</td>\n",
       "      <td>0.264717</td>\n",
       "      <td>0.023908</td>\n",
       "    </tr>\n",
       "    <tr>\n",
       "      <th>2018-01-01 01:00:00</th>\n",
       "      <td>1</td>\n",
       "      <td>0.292000</td>\n",
       "      <td>1.0</td>\n",
       "      <td>-4</td>\n",
       "      <td>5.0</td>\n",
       "      <td>False</td>\n",
       "      <td>False</td>\n",
       "      <td>False</td>\n",
       "      <td>False</td>\n",
       "      <td>False</td>\n",
       "      <td>0.0</td>\n",
       "      <td>1.0</td>\n",
       "      <td>1.0</td>\n",
       "      <td>0.0</td>\n",
       "      <td>2018</td>\n",
       "      <td>1</td>\n",
       "      <td>1</td>\n",
       "      <td>0.268392</td>\n",
       "      <td>0.023608</td>\n",
       "    </tr>\n",
       "  </tbody>\n",
       "</table>\n",
       "</div>"
      ],
      "text/plain": [
       "                     站点        压力  最高温 最低温   温差     沙暴      雾      雨      雪  \\\n",
       "Time                                                                          \n",
       "2018-01-01 00:00:00   1  0.288625  1.0  -4  5.0  False  False  False  False   \n",
       "2018-01-01 01:00:00   1  0.292000  1.0  -4  5.0  False  False  False  False   \n",
       "\n",
       "                        晴天  风向_西  风向_东  风向_南  风向_北  year  month  hour  \\\n",
       "Time                                                                    \n",
       "2018-01-01 00:00:00  False   0.0   1.0   1.0   0.0  2018      1     0   \n",
       "2018-01-01 01:00:00  False   0.0   1.0   1.0   0.0  2018      1     1   \n",
       "\n",
       "                       水压均值_1     水压差_1  \n",
       "Time                                     \n",
       "2018-01-01 00:00:00  0.264717  0.023908  \n",
       "2018-01-01 01:00:00  0.268392  0.023608  "
      ]
     },
     "execution_count": 74,
     "metadata": {},
     "output_type": "execute_result"
    }
   ],
   "source": [
    "ldf.head(2)"
   ]
  },
  {
   "cell_type": "markdown",
   "metadata": {},
   "source": [
    "**第2部分**"
   ]
  },
  {
   "cell_type": "code",
   "execution_count": 75,
   "metadata": {
    "ExecuteTime": {
     "end_time": "2021-01-13T09:29:31.373397Z",
     "start_time": "2021-01-13T09:29:31.245850Z"
    }
   },
   "outputs": [],
   "source": [
    "ldf['week'],ldf['是否周末'] = temp.isocalendar().week, temp.dayofweek.isin([5,6])"
   ]
  },
  {
   "cell_type": "code",
   "execution_count": 76,
   "metadata": {
    "ExecuteTime": {
     "end_time": "2021-01-13T09:29:31.471621Z",
     "start_time": "2021-01-13T09:29:31.376390Z"
    }
   },
   "outputs": [],
   "source": [
    "res = ldf.groupby(['year','week','是否周末'])['压力'].mean().reset_index().pivot(index=['year','week'],columns='是否周末',values='压力').reset_index()"
   ]
  },
  {
   "cell_type": "code",
   "execution_count": 77,
   "metadata": {
    "ExecuteTime": {
     "end_time": "2021-01-13T09:29:31.477603Z",
     "start_time": "2021-01-13T09:29:31.473614Z"
    }
   },
   "outputs": [],
   "source": [
    "res.columns.name=''"
   ]
  },
  {
   "cell_type": "code",
   "execution_count": 78,
   "metadata": {
    "ExecuteTime": {
     "end_time": "2021-01-13T09:29:31.483592Z",
     "start_time": "2021-01-13T09:29:31.478601Z"
    }
   },
   "outputs": [],
   "source": [
    "res['水压差_2'] = res[True] - res[False]"
   ]
  },
  {
   "cell_type": "code",
   "execution_count": 79,
   "metadata": {
    "ExecuteTime": {
     "end_time": "2021-01-13T09:29:31.842360Z",
     "start_time": "2021-01-13T09:29:31.485583Z"
    }
   },
   "outputs": [],
   "source": [
    "ldf = ldf.reset_index().merge(res.drop([True,False],1),on=['year','week'],how='left').set_index('Time')"
   ]
  },
  {
   "cell_type": "markdown",
   "metadata": {},
   "source": [
    "**第2部分结果如下**："
   ]
  },
  {
   "cell_type": "code",
   "execution_count": 80,
   "metadata": {
    "ExecuteTime": {
     "end_time": "2021-01-13T09:29:31.868679Z",
     "start_time": "2021-01-13T09:29:31.843324Z"
    }
   },
   "outputs": [
    {
     "data": {
      "text/html": [
       "<div>\n",
       "<style scoped>\n",
       "    .dataframe tbody tr th:only-of-type {\n",
       "        vertical-align: middle;\n",
       "    }\n",
       "\n",
       "    .dataframe tbody tr th {\n",
       "        vertical-align: top;\n",
       "    }\n",
       "\n",
       "    .dataframe thead th {\n",
       "        text-align: right;\n",
       "    }\n",
       "</style>\n",
       "<table border=\"1\" class=\"dataframe\">\n",
       "  <thead>\n",
       "    <tr style=\"text-align: right;\">\n",
       "      <th></th>\n",
       "      <th>站点</th>\n",
       "      <th>压力</th>\n",
       "      <th>最高温</th>\n",
       "      <th>最低温</th>\n",
       "      <th>温差</th>\n",
       "      <th>沙暴</th>\n",
       "      <th>雾</th>\n",
       "      <th>雨</th>\n",
       "      <th>雪</th>\n",
       "      <th>晴天</th>\n",
       "      <th>...</th>\n",
       "      <th>风向_南</th>\n",
       "      <th>风向_北</th>\n",
       "      <th>year</th>\n",
       "      <th>month</th>\n",
       "      <th>hour</th>\n",
       "      <th>水压均值_1</th>\n",
       "      <th>水压差_1</th>\n",
       "      <th>week</th>\n",
       "      <th>是否周末</th>\n",
       "      <th>水压差_2</th>\n",
       "    </tr>\n",
       "    <tr>\n",
       "      <th>Time</th>\n",
       "      <th></th>\n",
       "      <th></th>\n",
       "      <th></th>\n",
       "      <th></th>\n",
       "      <th></th>\n",
       "      <th></th>\n",
       "      <th></th>\n",
       "      <th></th>\n",
       "      <th></th>\n",
       "      <th></th>\n",
       "      <th></th>\n",
       "      <th></th>\n",
       "      <th></th>\n",
       "      <th></th>\n",
       "      <th></th>\n",
       "      <th></th>\n",
       "      <th></th>\n",
       "      <th></th>\n",
       "      <th></th>\n",
       "      <th></th>\n",
       "      <th></th>\n",
       "    </tr>\n",
       "  </thead>\n",
       "  <tbody>\n",
       "    <tr>\n",
       "      <th>2018-01-01 00:00:00</th>\n",
       "      <td>1</td>\n",
       "      <td>0.288625</td>\n",
       "      <td>1.0</td>\n",
       "      <td>-4</td>\n",
       "      <td>5.0</td>\n",
       "      <td>False</td>\n",
       "      <td>False</td>\n",
       "      <td>False</td>\n",
       "      <td>False</td>\n",
       "      <td>False</td>\n",
       "      <td>...</td>\n",
       "      <td>1.0</td>\n",
       "      <td>0.0</td>\n",
       "      <td>2018</td>\n",
       "      <td>1</td>\n",
       "      <td>0</td>\n",
       "      <td>0.264717</td>\n",
       "      <td>0.023908</td>\n",
       "      <td>1</td>\n",
       "      <td>False</td>\n",
       "      <td>-0.006236</td>\n",
       "    </tr>\n",
       "    <tr>\n",
       "      <th>2018-01-01 01:00:00</th>\n",
       "      <td>1</td>\n",
       "      <td>0.292000</td>\n",
       "      <td>1.0</td>\n",
       "      <td>-4</td>\n",
       "      <td>5.0</td>\n",
       "      <td>False</td>\n",
       "      <td>False</td>\n",
       "      <td>False</td>\n",
       "      <td>False</td>\n",
       "      <td>False</td>\n",
       "      <td>...</td>\n",
       "      <td>1.0</td>\n",
       "      <td>0.0</td>\n",
       "      <td>2018</td>\n",
       "      <td>1</td>\n",
       "      <td>1</td>\n",
       "      <td>0.268392</td>\n",
       "      <td>0.023608</td>\n",
       "      <td>1</td>\n",
       "      <td>False</td>\n",
       "      <td>-0.006236</td>\n",
       "    </tr>\n",
       "  </tbody>\n",
       "</table>\n",
       "<p>2 rows × 22 columns</p>\n",
       "</div>"
      ],
      "text/plain": [
       "                     站点        压力  最高温 最低温   温差     沙暴      雾      雨      雪  \\\n",
       "Time                                                                          \n",
       "2018-01-01 00:00:00   1  0.288625  1.0  -4  5.0  False  False  False  False   \n",
       "2018-01-01 01:00:00   1  0.292000  1.0  -4  5.0  False  False  False  False   \n",
       "\n",
       "                        晴天  ...  风向_南  风向_北  year  month  hour    水压均值_1  \\\n",
       "Time                        ...                                            \n",
       "2018-01-01 00:00:00  False  ...   1.0   0.0  2018      1     0  0.264717   \n",
       "2018-01-01 01:00:00  False  ...   1.0   0.0  2018      1     1  0.268392   \n",
       "\n",
       "                        水压差_1  week   是否周末     水压差_2  \n",
       "Time                                                  \n",
       "2018-01-01 00:00:00  0.023908     1  False -0.006236  \n",
       "2018-01-01 01:00:00  0.023608     1  False -0.006236  \n",
       "\n",
       "[2 rows x 22 columns]"
      ]
     },
     "execution_count": 80,
     "metadata": {},
     "output_type": "execute_result"
    }
   ],
   "source": [
    "ldf.head(2)"
   ]
  },
  {
   "cell_type": "markdown",
   "metadata": {},
   "source": [
    "**第3部分**"
   ]
  },
  {
   "cell_type": "code",
   "execution_count": 81,
   "metadata": {
    "ExecuteTime": {
     "end_time": "2021-01-13T09:29:32.053257Z",
     "start_time": "2021-01-13T09:29:31.870672Z"
    }
   },
   "outputs": [],
   "source": [
    "# 删去多余的列\n",
    "ldf = ldf.drop(columns=['year','month','hour','week','水压均值_1','是否周末'])"
   ]
  },
  {
   "cell_type": "code",
   "execution_count": 82,
   "metadata": {
    "ExecuteTime": {
     "end_time": "2021-01-13T09:29:33.029644Z",
     "start_time": "2021-01-13T09:29:32.055253Z"
    }
   },
   "outputs": [],
   "source": [
    "res = ldf.groupby('站点').rolling('7D')['压力'].agg(['mean','std']).join(ldf.groupby('站点').rolling('7D')['压力'].quantile(0.95))"
   ]
  },
  {
   "cell_type": "code",
   "execution_count": 83,
   "metadata": {
    "ExecuteTime": {
     "end_time": "2021-01-13T09:29:33.071476Z",
     "start_time": "2021-01-13T09:29:33.031639Z"
    }
   },
   "outputs": [],
   "source": [
    "res = res.reset_index(0).rename(columns={'mean':'水压7日均值','std':'水压7日标准差','压力':'水压7日0.95分位数'})"
   ]
  },
  {
   "cell_type": "code",
   "execution_count": 84,
   "metadata": {
    "ExecuteTime": {
     "end_time": "2021-01-13T09:29:33.091523Z",
     "start_time": "2021-01-13T09:29:33.073328Z"
    }
   },
   "outputs": [
    {
     "data": {
      "text/html": [
       "<div>\n",
       "<style scoped>\n",
       "    .dataframe tbody tr th:only-of-type {\n",
       "        vertical-align: middle;\n",
       "    }\n",
       "\n",
       "    .dataframe tbody tr th {\n",
       "        vertical-align: top;\n",
       "    }\n",
       "\n",
       "    .dataframe thead th {\n",
       "        text-align: right;\n",
       "    }\n",
       "</style>\n",
       "<table border=\"1\" class=\"dataframe\">\n",
       "  <thead>\n",
       "    <tr style=\"text-align: right;\">\n",
       "      <th></th>\n",
       "      <th>水压7日均值</th>\n",
       "      <th>水压7日标准差</th>\n",
       "      <th>水压7日0.95分位数</th>\n",
       "    </tr>\n",
       "    <tr>\n",
       "      <th>Time</th>\n",
       "      <th></th>\n",
       "      <th></th>\n",
       "      <th></th>\n",
       "    </tr>\n",
       "  </thead>\n",
       "  <tbody>\n",
       "    <tr>\n",
       "      <th>2018-01-01 00:00:00</th>\n",
       "      <td>0.288625</td>\n",
       "      <td>NaN</td>\n",
       "      <td>0.288625</td>\n",
       "    </tr>\n",
       "    <tr>\n",
       "      <th>2018-01-01 01:00:00</th>\n",
       "      <td>0.290313</td>\n",
       "      <td>0.002386</td>\n",
       "      <td>0.291831</td>\n",
       "    </tr>\n",
       "    <tr>\n",
       "      <th>2018-01-01 02:00:00</th>\n",
       "      <td>0.290375</td>\n",
       "      <td>0.001691</td>\n",
       "      <td>0.291850</td>\n",
       "    </tr>\n",
       "    <tr>\n",
       "      <th>2018-01-01 03:00:00</th>\n",
       "      <td>0.292656</td>\n",
       "      <td>0.004767</td>\n",
       "      <td>0.298375</td>\n",
       "    </tr>\n",
       "    <tr>\n",
       "      <th>2018-01-01 04:00:00</th>\n",
       "      <td>0.294175</td>\n",
       "      <td>0.005346</td>\n",
       "      <td>0.300100</td>\n",
       "    </tr>\n",
       "  </tbody>\n",
       "</table>\n",
       "</div>"
      ],
      "text/plain": [
       "                       水压7日均值   水压7日标准差  水压7日0.95分位数\n",
       "Time                                                \n",
       "2018-01-01 00:00:00  0.288625       NaN     0.288625\n",
       "2018-01-01 01:00:00  0.290313  0.002386     0.291831\n",
       "2018-01-01 02:00:00  0.290375  0.001691     0.291850\n",
       "2018-01-01 03:00:00  0.292656  0.004767     0.298375\n",
       "2018-01-01 04:00:00  0.294175  0.005346     0.300100"
      ]
     },
     "execution_count": 84,
     "metadata": {},
     "output_type": "execute_result"
    }
   ],
   "source": [
    "res.iloc[:,1:].head()"
   ]
  },
  {
   "cell_type": "code",
   "execution_count": 85,
   "metadata": {
    "ExecuteTime": {
     "end_time": "2021-01-13T09:29:33.857713Z",
     "start_time": "2021-01-13T09:29:33.092513Z"
    }
   },
   "outputs": [],
   "source": [
    "ldf = ldf.reset_index().merge(res.reset_index(),on=['Time','站点']).set_index('Time')"
   ]
  },
  {
   "cell_type": "code",
   "execution_count": 86,
   "metadata": {
    "ExecuteTime": {
     "end_time": "2021-01-13T09:29:33.866656Z",
     "start_time": "2021-01-13T09:29:33.858678Z"
    }
   },
   "outputs": [],
   "source": [
    "res = df3.loc[:,['日期','雨','雪']].set_index('日期')"
   ]
  },
  {
   "cell_type": "code",
   "execution_count": 87,
   "metadata": {
    "ExecuteTime": {
     "end_time": "2021-01-13T09:29:33.876697Z",
     "start_time": "2021-01-13T09:29:33.868726Z"
    }
   },
   "outputs": [],
   "source": [
    "res.index = pd.to_datetime(res.index)"
   ]
  },
  {
   "cell_type": "code",
   "execution_count": 88,
   "metadata": {
    "ExecuteTime": {
     "end_time": "2021-01-13T09:29:34.114845Z",
     "start_time": "2021-01-13T09:29:33.877695Z"
    }
   },
   "outputs": [],
   "source": [
    "ldf['日期'] = pd.to_datetime(temp.date)"
   ]
  },
  {
   "cell_type": "code",
   "execution_count": 89,
   "metadata": {
    "ExecuteTime": {
     "end_time": "2021-01-13T09:29:34.471603Z",
     "start_time": "2021-01-13T09:29:34.116643Z"
    }
   },
   "outputs": [],
   "source": [
    "ldf = ldf.reset_index().merge(res.rolling('10D').sum().reset_index(),on='日期',how='left')"
   ]
  },
  {
   "cell_type": "code",
   "execution_count": 90,
   "metadata": {
    "ExecuteTime": {
     "end_time": "2021-01-13T09:29:34.729791Z",
     "start_time": "2021-01-13T09:29:34.478582Z"
    }
   },
   "outputs": [],
   "source": [
    "ldf = ldf.rename(columns={'雨_x':'雨','雪_x':'雪','雨_y':'7日下雨天数','雪_y':'7日下雪天数'}).set_index('Time')"
   ]
  },
  {
   "cell_type": "markdown",
   "metadata": {},
   "source": [
    "**第3部分结果如下**："
   ]
  },
  {
   "cell_type": "code",
   "execution_count": 91,
   "metadata": {
    "ExecuteTime": {
     "end_time": "2021-01-13T09:29:34.780777Z",
     "start_time": "2021-01-13T09:29:34.732233Z"
    }
   },
   "outputs": [
    {
     "data": {
      "text/html": [
       "<div>\n",
       "<style scoped>\n",
       "    .dataframe tbody tr th:only-of-type {\n",
       "        vertical-align: middle;\n",
       "    }\n",
       "\n",
       "    .dataframe tbody tr th {\n",
       "        vertical-align: top;\n",
       "    }\n",
       "\n",
       "    .dataframe thead th {\n",
       "        text-align: right;\n",
       "    }\n",
       "</style>\n",
       "<table border=\"1\" class=\"dataframe\">\n",
       "  <thead>\n",
       "    <tr style=\"text-align: right;\">\n",
       "      <th></th>\n",
       "      <th>站点</th>\n",
       "      <th>压力</th>\n",
       "      <th>最高温</th>\n",
       "      <th>最低温</th>\n",
       "      <th>温差</th>\n",
       "      <th>沙暴</th>\n",
       "      <th>雾</th>\n",
       "      <th>雨</th>\n",
       "      <th>雪</th>\n",
       "      <th>晴天</th>\n",
       "      <th>...</th>\n",
       "      <th>风向_南</th>\n",
       "      <th>风向_北</th>\n",
       "      <th>水压差_1</th>\n",
       "      <th>水压差_2</th>\n",
       "      <th>水压7日均值</th>\n",
       "      <th>水压7日标准差</th>\n",
       "      <th>水压7日0.95分位数</th>\n",
       "      <th>日期</th>\n",
       "      <th>7日下雨天数</th>\n",
       "      <th>7日下雪天数</th>\n",
       "    </tr>\n",
       "    <tr>\n",
       "      <th>Time</th>\n",
       "      <th></th>\n",
       "      <th></th>\n",
       "      <th></th>\n",
       "      <th></th>\n",
       "      <th></th>\n",
       "      <th></th>\n",
       "      <th></th>\n",
       "      <th></th>\n",
       "      <th></th>\n",
       "      <th></th>\n",
       "      <th></th>\n",
       "      <th></th>\n",
       "      <th></th>\n",
       "      <th></th>\n",
       "      <th></th>\n",
       "      <th></th>\n",
       "      <th></th>\n",
       "      <th></th>\n",
       "      <th></th>\n",
       "      <th></th>\n",
       "      <th></th>\n",
       "    </tr>\n",
       "  </thead>\n",
       "  <tbody>\n",
       "    <tr>\n",
       "      <th>2018-01-01 00:00:00</th>\n",
       "      <td>1</td>\n",
       "      <td>0.288625</td>\n",
       "      <td>1.0</td>\n",
       "      <td>-4</td>\n",
       "      <td>5.0</td>\n",
       "      <td>False</td>\n",
       "      <td>False</td>\n",
       "      <td>False</td>\n",
       "      <td>False</td>\n",
       "      <td>False</td>\n",
       "      <td>...</td>\n",
       "      <td>1.0</td>\n",
       "      <td>0.0</td>\n",
       "      <td>0.023908</td>\n",
       "      <td>-0.006236</td>\n",
       "      <td>0.288625</td>\n",
       "      <td>NaN</td>\n",
       "      <td>0.288625</td>\n",
       "      <td>2018-01-01</td>\n",
       "      <td>0.0</td>\n",
       "      <td>0.0</td>\n",
       "    </tr>\n",
       "    <tr>\n",
       "      <th>2018-01-01 01:00:00</th>\n",
       "      <td>1</td>\n",
       "      <td>0.292000</td>\n",
       "      <td>1.0</td>\n",
       "      <td>-4</td>\n",
       "      <td>5.0</td>\n",
       "      <td>False</td>\n",
       "      <td>False</td>\n",
       "      <td>False</td>\n",
       "      <td>False</td>\n",
       "      <td>False</td>\n",
       "      <td>...</td>\n",
       "      <td>1.0</td>\n",
       "      <td>0.0</td>\n",
       "      <td>0.023608</td>\n",
       "      <td>-0.006236</td>\n",
       "      <td>0.290313</td>\n",
       "      <td>0.002386</td>\n",
       "      <td>0.291831</td>\n",
       "      <td>2018-01-01</td>\n",
       "      <td>0.0</td>\n",
       "      <td>0.0</td>\n",
       "    </tr>\n",
       "  </tbody>\n",
       "</table>\n",
       "<p>2 rows × 22 columns</p>\n",
       "</div>"
      ],
      "text/plain": [
       "                     站点        压力  最高温 最低温   温差     沙暴      雾      雨      雪  \\\n",
       "Time                                                                          \n",
       "2018-01-01 00:00:00   1  0.288625  1.0  -4  5.0  False  False  False  False   \n",
       "2018-01-01 01:00:00   1  0.292000  1.0  -4  5.0  False  False  False  False   \n",
       "\n",
       "                        晴天  ...  风向_南  风向_北     水压差_1     水压差_2    水压7日均值  \\\n",
       "Time                        ...                                             \n",
       "2018-01-01 00:00:00  False  ...   1.0   0.0  0.023908 -0.006236  0.288625   \n",
       "2018-01-01 01:00:00  False  ...   1.0   0.0  0.023608 -0.006236  0.290313   \n",
       "\n",
       "                      水压7日标准差  水压7日0.95分位数         日期  7日下雨天数 7日下雪天数  \n",
       "Time                                                                  \n",
       "2018-01-01 00:00:00       NaN     0.288625 2018-01-01     0.0    0.0  \n",
       "2018-01-01 01:00:00  0.002386     0.291831 2018-01-01     0.0    0.0  \n",
       "\n",
       "[2 rows x 22 columns]"
      ]
     },
     "execution_count": 91,
     "metadata": {},
     "output_type": "execute_result"
    }
   ],
   "source": [
    "ldf.head(2)"
   ]
  },
  {
   "cell_type": "markdown",
   "metadata": {},
   "source": [
    "**第4部分**实在不会做了……"
   ]
  },
  {
   "cell_type": "markdown",
   "metadata": {},
   "source": [
    "**第5部分**"
   ]
  },
  {
   "cell_type": "code",
   "execution_count": 92,
   "metadata": {
    "ExecuteTime": {
     "end_time": "2021-01-13T09:29:43.313192Z",
     "start_time": "2021-01-13T09:29:34.782682Z"
    }
   },
   "outputs": [],
   "source": [
    "delta = ldf.groupby(['站点','日期'])['压力'].idxmax().dt.hour - ldf.groupby(['站点','日期'])['压力'].idxmin().dt.hour"
   ]
  },
  {
   "cell_type": "code",
   "execution_count": 93,
   "metadata": {
    "ExecuteTime": {
     "end_time": "2021-01-13T09:29:43.676775Z",
     "start_time": "2021-01-13T09:29:43.314179Z"
    }
   },
   "outputs": [],
   "source": [
    "ldf = ldf.reset_index().merge(delta.reset_index().rename(columns={'压力':'高低压时差'}),on=['站点','日期'],how='left').set_index('Time')"
   ]
  },
  {
   "cell_type": "code",
   "execution_count": 94,
   "metadata": {
    "ExecuteTime": {
     "end_time": "2021-01-13T09:29:43.906911Z",
     "start_time": "2021-01-13T09:29:43.677740Z"
    }
   },
   "outputs": [],
   "source": [
    "ldf = ldf.drop('日期',1)"
   ]
  },
  {
   "cell_type": "markdown",
   "metadata": {},
   "source": [
    "**第5部分结果如下**："
   ]
  },
  {
   "cell_type": "code",
   "execution_count": 95,
   "metadata": {
    "ExecuteTime": {
     "end_time": "2021-01-13T09:29:43.933386Z",
     "start_time": "2021-01-13T09:29:43.907877Z"
    }
   },
   "outputs": [
    {
     "data": {
      "text/html": [
       "<div>\n",
       "<style scoped>\n",
       "    .dataframe tbody tr th:only-of-type {\n",
       "        vertical-align: middle;\n",
       "    }\n",
       "\n",
       "    .dataframe tbody tr th {\n",
       "        vertical-align: top;\n",
       "    }\n",
       "\n",
       "    .dataframe thead th {\n",
       "        text-align: right;\n",
       "    }\n",
       "</style>\n",
       "<table border=\"1\" class=\"dataframe\">\n",
       "  <thead>\n",
       "    <tr style=\"text-align: right;\">\n",
       "      <th></th>\n",
       "      <th>站点</th>\n",
       "      <th>压力</th>\n",
       "      <th>最高温</th>\n",
       "      <th>最低温</th>\n",
       "      <th>温差</th>\n",
       "      <th>沙暴</th>\n",
       "      <th>雾</th>\n",
       "      <th>雨</th>\n",
       "      <th>雪</th>\n",
       "      <th>晴天</th>\n",
       "      <th>...</th>\n",
       "      <th>风向_南</th>\n",
       "      <th>风向_北</th>\n",
       "      <th>水压差_1</th>\n",
       "      <th>水压差_2</th>\n",
       "      <th>水压7日均值</th>\n",
       "      <th>水压7日标准差</th>\n",
       "      <th>水压7日0.95分位数</th>\n",
       "      <th>7日下雨天数</th>\n",
       "      <th>7日下雪天数</th>\n",
       "      <th>高低压时差</th>\n",
       "    </tr>\n",
       "    <tr>\n",
       "      <th>Time</th>\n",
       "      <th></th>\n",
       "      <th></th>\n",
       "      <th></th>\n",
       "      <th></th>\n",
       "      <th></th>\n",
       "      <th></th>\n",
       "      <th></th>\n",
       "      <th></th>\n",
       "      <th></th>\n",
       "      <th></th>\n",
       "      <th></th>\n",
       "      <th></th>\n",
       "      <th></th>\n",
       "      <th></th>\n",
       "      <th></th>\n",
       "      <th></th>\n",
       "      <th></th>\n",
       "      <th></th>\n",
       "      <th></th>\n",
       "      <th></th>\n",
       "      <th></th>\n",
       "    </tr>\n",
       "  </thead>\n",
       "  <tbody>\n",
       "    <tr>\n",
       "      <th>2018-01-01 00:00:00</th>\n",
       "      <td>1</td>\n",
       "      <td>0.288625</td>\n",
       "      <td>1.0</td>\n",
       "      <td>-4</td>\n",
       "      <td>5.0</td>\n",
       "      <td>False</td>\n",
       "      <td>False</td>\n",
       "      <td>False</td>\n",
       "      <td>False</td>\n",
       "      <td>False</td>\n",
       "      <td>...</td>\n",
       "      <td>1.0</td>\n",
       "      <td>0.0</td>\n",
       "      <td>0.023908</td>\n",
       "      <td>-0.006236</td>\n",
       "      <td>0.288625</td>\n",
       "      <td>NaN</td>\n",
       "      <td>0.288625</td>\n",
       "      <td>0.0</td>\n",
       "      <td>0.0</td>\n",
       "      <td>-6</td>\n",
       "    </tr>\n",
       "    <tr>\n",
       "      <th>2018-01-01 01:00:00</th>\n",
       "      <td>1</td>\n",
       "      <td>0.292000</td>\n",
       "      <td>1.0</td>\n",
       "      <td>-4</td>\n",
       "      <td>5.0</td>\n",
       "      <td>False</td>\n",
       "      <td>False</td>\n",
       "      <td>False</td>\n",
       "      <td>False</td>\n",
       "      <td>False</td>\n",
       "      <td>...</td>\n",
       "      <td>1.0</td>\n",
       "      <td>0.0</td>\n",
       "      <td>0.023608</td>\n",
       "      <td>-0.006236</td>\n",
       "      <td>0.290313</td>\n",
       "      <td>0.002386</td>\n",
       "      <td>0.291831</td>\n",
       "      <td>0.0</td>\n",
       "      <td>0.0</td>\n",
       "      <td>-6</td>\n",
       "    </tr>\n",
       "  </tbody>\n",
       "</table>\n",
       "<p>2 rows × 22 columns</p>\n",
       "</div>"
      ],
      "text/plain": [
       "                     站点        压力  最高温 最低温   温差     沙暴      雾      雨      雪  \\\n",
       "Time                                                                          \n",
       "2018-01-01 00:00:00   1  0.288625  1.0  -4  5.0  False  False  False  False   \n",
       "2018-01-01 01:00:00   1  0.292000  1.0  -4  5.0  False  False  False  False   \n",
       "\n",
       "                        晴天  ...  风向_南  风向_北     水压差_1     水压差_2    水压7日均值  \\\n",
       "Time                        ...                                             \n",
       "2018-01-01 00:00:00  False  ...   1.0   0.0  0.023908 -0.006236  0.288625   \n",
       "2018-01-01 01:00:00  False  ...   1.0   0.0  0.023608 -0.006236  0.290313   \n",
       "\n",
       "                      水压7日标准差  水压7日0.95分位数  7日下雨天数  7日下雪天数  高低压时差  \n",
       "Time                                                               \n",
       "2018-01-01 00:00:00       NaN     0.288625     0.0     0.0     -6  \n",
       "2018-01-01 01:00:00  0.002386     0.291831     0.0     0.0     -6  \n",
       "\n",
       "[2 rows x 22 columns]"
      ]
     },
     "execution_count": 95,
     "metadata": {},
     "output_type": "execute_result"
    }
   ],
   "source": [
    "ldf.head(2)"
   ]
  }
 ],
 "metadata": {
  "kernelspec": {
   "display_name": "Python 3",
   "language": "python",
   "name": "python3"
  },
  "language_info": {
   "codemirror_mode": {
    "name": "ipython",
    "version": 3
   },
   "file_extension": ".py",
   "mimetype": "text/x-python",
   "name": "python",
   "nbconvert_exporter": "python",
   "pygments_lexer": "ipython3",
   "version": "3.7.4"
  },
  "toc": {
   "base_numbering": 1,
   "nav_menu": {},
   "number_sections": true,
   "sideBar": true,
   "skip_h1_title": false,
   "title_cell": "Table of Contents",
   "title_sidebar": "Contents",
   "toc_cell": false,
   "toc_position": {},
   "toc_section_display": true,
   "toc_window_display": false
  },
  "varInspector": {
   "cols": {
    "lenName": 16,
    "lenType": 16,
    "lenVar": 40
   },
   "kernels_config": {
    "python": {
     "delete_cmd_postfix": "",
     "delete_cmd_prefix": "del ",
     "library": "var_list.py",
     "varRefreshCmd": "print(var_dic_list())"
    },
    "r": {
     "delete_cmd_postfix": ") ",
     "delete_cmd_prefix": "rm(",
     "library": "var_list.r",
     "varRefreshCmd": "cat(var_dic_list()) "
    }
   },
   "types_to_exclude": [
    "module",
    "function",
    "builtin_function_or_method",
    "instance",
    "_Feature"
   ],
   "window_display": false
  }
 },
 "nbformat": 4,
 "nbformat_minor": 2
}
